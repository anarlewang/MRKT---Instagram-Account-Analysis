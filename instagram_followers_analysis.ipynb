{
 "cells": [
  {
   "cell_type": "code",
   "execution_count": 38,
   "id": "3d4130cc-85bc-4bd8-a3ef-289c774d8463",
   "metadata": {},
   "outputs": [],
   "source": [
    "import numpy as np\n",
    "import pandas as pd\n",
    "import matplotlib.pyplot as plt\n",
    "import re\n",
    "from pandas_profiling import ProfileReport\n",
    "\n",
    "from datetime import datetime\n",
    "import pytz\n",
    "\n",
    "import optuna\n",
    "\n",
    "import nltk\n",
    "import string\n",
    "from nltk.stem import WordNetLemmatizer\n",
    "from nltk.corpus import stopwords,wordnet\n",
    "from nltk.tokenize import word_tokenize\n",
    "from textblob import TextBlob\n",
    "\n",
    "import tensorflow as tf\n",
    "from tensorflow import keras\n",
    "from keras.models import Sequential\n",
    "from keras.layers import Dense\n",
    "\n",
    "import statsmodels.api as sm\n",
    "\n",
    "from sklearn.linear_model import LinearRegression\n",
    "from sklearn.ensemble import RandomForestRegressor\n",
    "from sklearn.model_selection import RandomizedSearchCV,GridSearchCV\n",
    "from sklearn.metrics import log_loss\n",
    "from sklearn.model_selection import StratifiedKFold\n",
    "from sklearn.feature_selection import SelectFromModel\n",
    "\n",
    "import sqlalchemy \n",
    "import pymysql"
   ]
  },
  {
   "cell_type": "markdown",
   "id": "31b0385a-8058-4fb7-9b03-e9124ebf1def",
   "metadata": {},
   "source": [
    "## Data Aquisation"
   ]
  },
  {
   "cell_type": "code",
   "execution_count": 75,
   "id": "047c37b4-9df8-4d7d-85cb-aad37b3a66ee",
   "metadata": {},
   "outputs": [],
   "source": [
    "raw_data = pd.read_csv('influencers_full.liwc.csv',on_bad_lines='skip',encoding= 'unicode_escape')"
   ]
  },
  {
   "cell_type": "code",
   "execution_count": 76,
   "id": "043d649f-dc08-4d53-8048-56368b60f2f2",
   "metadata": {},
   "outputs": [
    {
     "name": "stdout",
     "output_type": "stream",
     "text": [
      "Account, User Name, Followers at Posting, Post Created, Post Created Date, Post Created Time, Type, Total Interactions, Likes, Comments, Views, Like and View Counts Disabled, URL, Link, Photo, Title, Description, Image Text, Sponsor Id, Sponsor Name, Total Interactions (weighted  â  Likes 1x Comments 1x ), Overperforming Score, cvfold, WC, Analytic, Clout, Authentic, Tone, WPS, Sixltr, Dic, function, pronoun, ppron, i, we, you, shehe, they, ipron, article, prep, auxverb, adverb, conj, negate, verb, adj, compare, interrog, number, quant, affect, posemo, negemo, anx, anger, sad, social, family, friend, female, male, cogproc, insight, cause, discrep, tentat, certain, differ, percept, see, hear, feel, bio, body, health, sexual, ingest, drives, affiliation, achieve, power, reward, risk, focuspast, focuspresent, focusfuture, relativ, motion, space, time, work, leisure, home, money, relig, death, informal, swear, netspeak, assent, nonflu, filler, AllPunc, Period, Comma, Colon, SemiC, QMark, Exclam, Dash, Quote, Apostro, Parenth, OtherP\n"
     ]
    }
   ],
   "source": [
    "print(*list(raw_data.columns),sep=', ')"
   ]
  },
  {
   "cell_type": "code",
   "execution_count": 77,
   "id": "e269c615-1c8a-48f9-940a-d915212e6394",
   "metadata": {},
   "outputs": [
    {
     "data": {
      "text/plain": [
       "(299964, 116)"
      ]
     },
     "execution_count": 77,
     "metadata": {},
     "output_type": "execute_result"
    }
   ],
   "source": [
    "raw_data.shape"
   ]
  },
  {
   "cell_type": "code",
   "execution_count": 78,
   "id": "31beb4a3-b401-494b-b3ad-d86de61fbd2b",
   "metadata": {},
   "outputs": [
    {
     "data": {
      "text/html": [
       "<div>\n",
       "<style scoped>\n",
       "    .dataframe tbody tr th:only-of-type {\n",
       "        vertical-align: middle;\n",
       "    }\n",
       "\n",
       "    .dataframe tbody tr th {\n",
       "        vertical-align: top;\n",
       "    }\n",
       "\n",
       "    .dataframe thead th {\n",
       "        text-align: right;\n",
       "    }\n",
       "</style>\n",
       "<table border=\"1\" class=\"dataframe\">\n",
       "  <thead>\n",
       "    <tr style=\"text-align: right;\">\n",
       "      <th></th>\n",
       "      <th>Followers at Posting</th>\n",
       "      <th>Total Interactions</th>\n",
       "      <th>Likes</th>\n",
       "      <th>Comments</th>\n",
       "      <th>Views</th>\n",
       "      <th>Title</th>\n",
       "      <th>Sponsor Id</th>\n",
       "      <th>Sponsor Name</th>\n",
       "      <th>Total Interactions (weighted  â  Likes 1x Comments 1x )</th>\n",
       "      <th>Overperforming Score</th>\n",
       "      <th>...</th>\n",
       "      <th>Comma</th>\n",
       "      <th>Colon</th>\n",
       "      <th>SemiC</th>\n",
       "      <th>QMark</th>\n",
       "      <th>Exclam</th>\n",
       "      <th>Dash</th>\n",
       "      <th>Quote</th>\n",
       "      <th>Apostro</th>\n",
       "      <th>Parenth</th>\n",
       "      <th>OtherP</th>\n",
       "    </tr>\n",
       "  </thead>\n",
       "  <tbody>\n",
       "    <tr>\n",
       "      <th>count</th>\n",
       "      <td>256140.000000</td>\n",
       "      <td>299964.000000</td>\n",
       "      <td>299964.000000</td>\n",
       "      <td>299964.000000</td>\n",
       "      <td>2.999640e+05</td>\n",
       "      <td>0.0</td>\n",
       "      <td>0.0</td>\n",
       "      <td>0.0</td>\n",
       "      <td>299964.000000</td>\n",
       "      <td>299958.000000</td>\n",
       "      <td>...</td>\n",
       "      <td>299964.000000</td>\n",
       "      <td>299964.000000</td>\n",
       "      <td>299964.000000</td>\n",
       "      <td>299964.000000</td>\n",
       "      <td>299964.000000</td>\n",
       "      <td>299964.000000</td>\n",
       "      <td>299964.000000</td>\n",
       "      <td>299964.000000</td>\n",
       "      <td>299964.000000</td>\n",
       "      <td>299964.000000</td>\n",
       "    </tr>\n",
       "    <tr>\n",
       "      <th>mean</th>\n",
       "      <td>47426.511279</td>\n",
       "      <td>1794.848932</td>\n",
       "      <td>1750.957758</td>\n",
       "      <td>43.891174</td>\n",
       "      <td>1.671560e+03</td>\n",
       "      <td>NaN</td>\n",
       "      <td>NaN</td>\n",
       "      <td>NaN</td>\n",
       "      <td>1794.848932</td>\n",
       "      <td>1.073768</td>\n",
       "      <td>...</td>\n",
       "      <td>1.941717</td>\n",
       "      <td>0.540235</td>\n",
       "      <td>0.017856</td>\n",
       "      <td>0.572301</td>\n",
       "      <td>4.309720</td>\n",
       "      <td>0.839629</td>\n",
       "      <td>0.770971</td>\n",
       "      <td>1.968561</td>\n",
       "      <td>0.583866</td>\n",
       "      <td>18.639588</td>\n",
       "    </tr>\n",
       "    <tr>\n",
       "      <th>std</th>\n",
       "      <td>26763.017637</td>\n",
       "      <td>1902.321290</td>\n",
       "      <td>1868.306481</td>\n",
       "      <td>110.126791</td>\n",
       "      <td>2.525150e+04</td>\n",
       "      <td>NaN</td>\n",
       "      <td>NaN</td>\n",
       "      <td>NaN</td>\n",
       "      <td>1902.321290</td>\n",
       "      <td>5.675180</td>\n",
       "      <td>...</td>\n",
       "      <td>4.376725</td>\n",
       "      <td>3.571030</td>\n",
       "      <td>0.383952</td>\n",
       "      <td>3.795384</td>\n",
       "      <td>14.668332</td>\n",
       "      <td>6.810003</td>\n",
       "      <td>4.678809</td>\n",
       "      <td>4.584476</td>\n",
       "      <td>3.551831</td>\n",
       "      <td>26.961368</td>\n",
       "    </tr>\n",
       "    <tr>\n",
       "      <th>min</th>\n",
       "      <td>1002.000000</td>\n",
       "      <td>746.000000</td>\n",
       "      <td>208.000000</td>\n",
       "      <td>0.000000</td>\n",
       "      <td>0.000000e+00</td>\n",
       "      <td>NaN</td>\n",
       "      <td>NaN</td>\n",
       "      <td>NaN</td>\n",
       "      <td>746.000000</td>\n",
       "      <td>-14.150000</td>\n",
       "      <td>...</td>\n",
       "      <td>0.000000</td>\n",
       "      <td>0.000000</td>\n",
       "      <td>0.000000</td>\n",
       "      <td>0.000000</td>\n",
       "      <td>0.000000</td>\n",
       "      <td>0.000000</td>\n",
       "      <td>0.000000</td>\n",
       "      <td>0.000000</td>\n",
       "      <td>0.000000</td>\n",
       "      <td>0.000000</td>\n",
       "    </tr>\n",
       "    <tr>\n",
       "      <th>25%</th>\n",
       "      <td>26974.000000</td>\n",
       "      <td>968.000000</td>\n",
       "      <td>943.000000</td>\n",
       "      <td>14.000000</td>\n",
       "      <td>0.000000e+00</td>\n",
       "      <td>NaN</td>\n",
       "      <td>NaN</td>\n",
       "      <td>NaN</td>\n",
       "      <td>968.000000</td>\n",
       "      <td>-1.170000</td>\n",
       "      <td>...</td>\n",
       "      <td>0.000000</td>\n",
       "      <td>0.000000</td>\n",
       "      <td>0.000000</td>\n",
       "      <td>0.000000</td>\n",
       "      <td>0.000000</td>\n",
       "      <td>0.000000</td>\n",
       "      <td>0.000000</td>\n",
       "      <td>0.000000</td>\n",
       "      <td>0.000000</td>\n",
       "      <td>0.000000</td>\n",
       "    </tr>\n",
       "    <tr>\n",
       "      <th>50%</th>\n",
       "      <td>44370.000000</td>\n",
       "      <td>1303.000000</td>\n",
       "      <td>1270.000000</td>\n",
       "      <td>26.000000</td>\n",
       "      <td>0.000000e+00</td>\n",
       "      <td>NaN</td>\n",
       "      <td>NaN</td>\n",
       "      <td>NaN</td>\n",
       "      <td>1303.000000</td>\n",
       "      <td>1.300000</td>\n",
       "      <td>...</td>\n",
       "      <td>0.000000</td>\n",
       "      <td>0.000000</td>\n",
       "      <td>0.000000</td>\n",
       "      <td>0.000000</td>\n",
       "      <td>0.000000</td>\n",
       "      <td>0.000000</td>\n",
       "      <td>0.000000</td>\n",
       "      <td>0.000000</td>\n",
       "      <td>0.000000</td>\n",
       "      <td>9.520000</td>\n",
       "    </tr>\n",
       "    <tr>\n",
       "      <th>75%</th>\n",
       "      <td>64307.500000</td>\n",
       "      <td>1998.000000</td>\n",
       "      <td>1952.000000</td>\n",
       "      <td>48.000000</td>\n",
       "      <td>0.000000e+00</td>\n",
       "      <td>NaN</td>\n",
       "      <td>NaN</td>\n",
       "      <td>NaN</td>\n",
       "      <td>1998.000000</td>\n",
       "      <td>2.100000</td>\n",
       "      <td>...</td>\n",
       "      <td>2.540000</td>\n",
       "      <td>0.000000</td>\n",
       "      <td>0.000000</td>\n",
       "      <td>0.000000</td>\n",
       "      <td>3.850000</td>\n",
       "      <td>0.000000</td>\n",
       "      <td>0.000000</td>\n",
       "      <td>2.440000</td>\n",
       "      <td>0.000000</td>\n",
       "      <td>25.000000</td>\n",
       "    </tr>\n",
       "    <tr>\n",
       "      <th>max</th>\n",
       "      <td>558940.000000</td>\n",
       "      <td>104703.000000</td>\n",
       "      <td>104238.000000</td>\n",
       "      <td>30761.000000</td>\n",
       "      <td>5.906940e+06</td>\n",
       "      <td>NaN</td>\n",
       "      <td>NaN</td>\n",
       "      <td>NaN</td>\n",
       "      <td>104703.000000</td>\n",
       "      <td>929.430000</td>\n",
       "      <td>...</td>\n",
       "      <td>200.000000</td>\n",
       "      <td>400.000000</td>\n",
       "      <td>50.000000</td>\n",
       "      <td>450.000000</td>\n",
       "      <td>1800.000000</td>\n",
       "      <td>1240.000000</td>\n",
       "      <td>200.000000</td>\n",
       "      <td>100.000000</td>\n",
       "      <td>200.000000</td>\n",
       "      <td>2300.000000</td>\n",
       "    </tr>\n",
       "  </tbody>\n",
       "</table>\n",
       "<p>8 rows × 103 columns</p>\n",
       "</div>"
      ],
      "text/plain": [
       "       Followers at Posting  Total Interactions          Likes       Comments  \\\n",
       "count         256140.000000       299964.000000  299964.000000  299964.000000   \n",
       "mean           47426.511279         1794.848932    1750.957758      43.891174   \n",
       "std            26763.017637         1902.321290    1868.306481     110.126791   \n",
       "min             1002.000000          746.000000     208.000000       0.000000   \n",
       "25%            26974.000000          968.000000     943.000000      14.000000   \n",
       "50%            44370.000000         1303.000000    1270.000000      26.000000   \n",
       "75%            64307.500000         1998.000000    1952.000000      48.000000   \n",
       "max           558940.000000       104703.000000  104238.000000   30761.000000   \n",
       "\n",
       "              Views  Title  Sponsor Id  Sponsor Name  \\\n",
       "count  2.999640e+05    0.0         0.0           0.0   \n",
       "mean   1.671560e+03    NaN         NaN           NaN   \n",
       "std    2.525150e+04    NaN         NaN           NaN   \n",
       "min    0.000000e+00    NaN         NaN           NaN   \n",
       "25%    0.000000e+00    NaN         NaN           NaN   \n",
       "50%    0.000000e+00    NaN         NaN           NaN   \n",
       "75%    0.000000e+00    NaN         NaN           NaN   \n",
       "max    5.906940e+06    NaN         NaN           NaN   \n",
       "\n",
       "       Total Interactions (weighted  â  Likes 1x Comments 1x )  \\\n",
       "count                                      299964.000000           \n",
       "mean                                         1794.848932           \n",
       "std                                          1902.321290           \n",
       "min                                           746.000000           \n",
       "25%                                           968.000000           \n",
       "50%                                          1303.000000           \n",
       "75%                                          1998.000000           \n",
       "max                                        104703.000000           \n",
       "\n",
       "       Overperforming Score  ...          Comma          Colon          SemiC  \\\n",
       "count         299958.000000  ...  299964.000000  299964.000000  299964.000000   \n",
       "mean               1.073768  ...       1.941717       0.540235       0.017856   \n",
       "std                5.675180  ...       4.376725       3.571030       0.383952   \n",
       "min              -14.150000  ...       0.000000       0.000000       0.000000   \n",
       "25%               -1.170000  ...       0.000000       0.000000       0.000000   \n",
       "50%                1.300000  ...       0.000000       0.000000       0.000000   \n",
       "75%                2.100000  ...       2.540000       0.000000       0.000000   \n",
       "max              929.430000  ...     200.000000     400.000000      50.000000   \n",
       "\n",
       "               QMark         Exclam           Dash          Quote  \\\n",
       "count  299964.000000  299964.000000  299964.000000  299964.000000   \n",
       "mean        0.572301       4.309720       0.839629       0.770971   \n",
       "std         3.795384      14.668332       6.810003       4.678809   \n",
       "min         0.000000       0.000000       0.000000       0.000000   \n",
       "25%         0.000000       0.000000       0.000000       0.000000   \n",
       "50%         0.000000       0.000000       0.000000       0.000000   \n",
       "75%         0.000000       3.850000       0.000000       0.000000   \n",
       "max       450.000000    1800.000000    1240.000000     200.000000   \n",
       "\n",
       "             Apostro        Parenth         OtherP  \n",
       "count  299964.000000  299964.000000  299964.000000  \n",
       "mean        1.968561       0.583866      18.639588  \n",
       "std         4.584476       3.551831      26.961368  \n",
       "min         0.000000       0.000000       0.000000  \n",
       "25%         0.000000       0.000000       0.000000  \n",
       "50%         0.000000       0.000000       9.520000  \n",
       "75%         2.440000       0.000000      25.000000  \n",
       "max       100.000000     200.000000    2300.000000  \n",
       "\n",
       "[8 rows x 103 columns]"
      ]
     },
     "execution_count": 78,
     "metadata": {},
     "output_type": "execute_result"
    }
   ],
   "source": [
    "raw_data.describe()"
   ]
  },
  {
   "cell_type": "code",
   "execution_count": 79,
   "id": "302c4bbd-8613-4683-8099-2bf8125c75dd",
   "metadata": {},
   "outputs": [
    {
     "name": "stdout",
     "output_type": "stream",
     "text": [
      "<class 'pandas.core.frame.DataFrame'>\n",
      "RangeIndex: 299964 entries, 0 to 299963\n",
      "Columns: 116 entries, Account to OtherP\n",
      "dtypes: bool(1), float64(97), int64(6), object(12)\n",
      "memory usage: 263.5+ MB\n"
     ]
    }
   ],
   "source": [
    "raw_data.info()"
   ]
  },
  {
   "cell_type": "code",
   "execution_count": 80,
   "id": "5365caa6-1be7-4fee-bc1b-f3a6e63cf315",
   "metadata": {},
   "outputs": [
    {
     "data": {
      "text/html": [
       "<div>\n",
       "<style scoped>\n",
       "    .dataframe tbody tr th:only-of-type {\n",
       "        vertical-align: middle;\n",
       "    }\n",
       "\n",
       "    .dataframe tbody tr th {\n",
       "        vertical-align: top;\n",
       "    }\n",
       "\n",
       "    .dataframe thead th {\n",
       "        text-align: right;\n",
       "    }\n",
       "</style>\n",
       "<table border=\"1\" class=\"dataframe\">\n",
       "  <thead>\n",
       "    <tr style=\"text-align: right;\">\n",
       "      <th></th>\n",
       "      <th>na_count</th>\n",
       "    </tr>\n",
       "  </thead>\n",
       "  <tbody>\n",
       "    <tr>\n",
       "      <th>Account</th>\n",
       "      <td>6</td>\n",
       "    </tr>\n",
       "    <tr>\n",
       "      <th>Followers at Posting</th>\n",
       "      <td>43824</td>\n",
       "    </tr>\n",
       "    <tr>\n",
       "      <th>URL</th>\n",
       "      <td>97</td>\n",
       "    </tr>\n",
       "    <tr>\n",
       "      <th>Link</th>\n",
       "      <td>97</td>\n",
       "    </tr>\n",
       "    <tr>\n",
       "      <th>Photo</th>\n",
       "      <td>4</td>\n",
       "    </tr>\n",
       "    <tr>\n",
       "      <th>Title</th>\n",
       "      <td>299964</td>\n",
       "    </tr>\n",
       "    <tr>\n",
       "      <th>Description</th>\n",
       "      <td>6047</td>\n",
       "    </tr>\n",
       "    <tr>\n",
       "      <th>Image Text</th>\n",
       "      <td>292107</td>\n",
       "    </tr>\n",
       "    <tr>\n",
       "      <th>Sponsor Id</th>\n",
       "      <td>299964</td>\n",
       "    </tr>\n",
       "    <tr>\n",
       "      <th>Sponsor Name</th>\n",
       "      <td>299964</td>\n",
       "    </tr>\n",
       "    <tr>\n",
       "      <th>Overperforming Score</th>\n",
       "      <td>6</td>\n",
       "    </tr>\n",
       "  </tbody>\n",
       "</table>\n",
       "</div>"
      ],
      "text/plain": [
       "                      na_count\n",
       "Account                      6\n",
       "Followers at Posting     43824\n",
       "URL                         97\n",
       "Link                        97\n",
       "Photo                        4\n",
       "Title                   299964\n",
       "Description               6047\n",
       "Image Text              292107\n",
       "Sponsor Id              299964\n",
       "Sponsor Name            299964\n",
       "Overperforming Score         6"
      ]
     },
     "execution_count": 80,
     "metadata": {},
     "output_type": "execute_result"
    }
   ],
   "source": [
    "na_summary = pd.DataFrame(raw_data.isnull().sum(),columns=['na_count'])\n",
    "na_summary[na_summary.na_count>0]"
   ]
  },
  {
   "cell_type": "markdown",
   "id": "bdad7a90-a80c-4ed3-8d69-34417307ef96",
   "metadata": {},
   "source": [
    "Note that columns that encounters null values are all sitting on the instagram page side rather than the text part of the data."
   ]
  },
  {
   "cell_type": "markdown",
   "id": "4d4e05f5-165e-4de2-b074-e3cdebe230ce",
   "metadata": {},
   "source": [
    "### Segregate data for discovery purpose"
   ]
  },
  {
   "cell_type": "code",
   "execution_count": 159,
   "id": "302d5482-27a9-4519-ae0e-6c50b2d1482a",
   "metadata": {},
   "outputs": [
    {
     "data": {
      "text/plain": [
       "Index(['Account', 'User Name', 'Followers at Posting', 'Post Created',\n",
       "       'Post Created Date', 'Post Created Time', 'Type', 'Total Interactions',\n",
       "       'Likes', 'Comments', 'Views', 'Like and View Counts Disabled', 'URL',\n",
       "       'Link', 'Photo', 'Title', 'Description', 'Image Text', 'Sponsor Id',\n",
       "       'Sponsor Name',\n",
       "       'Total Interactions (weighted  â  Likes 1x Comments 1x )',\n",
       "       'Overperforming Score'],\n",
       "      dtype='object')"
      ]
     },
     "execution_count": 159,
     "metadata": {},
     "output_type": "execute_result"
    }
   ],
   "source": [
    "instagram_data = raw_data.iloc[:,:22]\n",
    "instagram_data.columns"
   ]
  },
  {
   "cell_type": "code",
   "execution_count": 160,
   "id": "aea968bf-1b54-4214-9c76-a5c7a79bff92",
   "metadata": {},
   "outputs": [
    {
     "data": {
      "text/plain": [
       "Account                                                       object\n",
       "User Name                                                     object\n",
       "Followers at Posting                                         float64\n",
       "Post Created                                                  object\n",
       "Post Created Date                                             object\n",
       "Post Created Time                                             object\n",
       "Type                                                          object\n",
       "Total Interactions                                             int64\n",
       "Likes                                                          int64\n",
       "Comments                                                       int64\n",
       "Views                                                          int64\n",
       "Like and View Counts Disabled                                   bool\n",
       "URL                                                           object\n",
       "Link                                                          object\n",
       "Photo                                                         object\n",
       "Title                                                        float64\n",
       "Description                                                   object\n",
       "Image Text                                                    object\n",
       "Sponsor Id                                                   float64\n",
       "Sponsor Name                                                 float64\n",
       "Total Interactions (weighted  â  Likes 1x Comments 1x )      int64\n",
       "Overperforming Score                                         float64\n",
       "dtype: object"
      ]
     },
     "execution_count": 160,
     "metadata": {},
     "output_type": "execute_result"
    }
   ],
   "source": [
    "instagram_data.dtypes"
   ]
  },
  {
   "cell_type": "code",
   "execution_count": 161,
   "id": "88d0c0be-6007-44da-946b-04130805e6b6",
   "metadata": {},
   "outputs": [],
   "source": [
    "cols=list(instagram_data.columns)\n",
    "cols[-2] = 'Total Interactions (weighted on likes 1x Comments 1x)'\n",
    "instagram_data.columns = cols"
   ]
  },
  {
   "cell_type": "code",
   "execution_count": 162,
   "id": "7714c1b0-e694-41d6-8cf2-88c65f6e8ad1",
   "metadata": {},
   "outputs": [
    {
     "name": "stdout",
     "output_type": "stream",
     "text": [
      "Account, User Name, Followers at Posting, Post Created, Post Created Date, Post Created Time, Type, Total Interactions, Likes, Comments, Views, Like and View Counts Disabled, URL, Link, Photo, Title, Description, Image Text, Sponsor Id, Sponsor Name, Total Interactions (weighted on likes 1x Comments 1x), Overperforming Score\n"
     ]
    }
   ],
   "source": [
    "print(*list(instagram_data.columns), sep=', ')"
   ]
  },
  {
   "cell_type": "code",
   "execution_count": 281,
   "id": "c8d22549-eba9-49d4-8cca-b83ce97de350",
   "metadata": {},
   "outputs": [],
   "source": [
    "train_test_ind = raw_data.iloc[:,22]"
   ]
  },
  {
   "cell_type": "code",
   "execution_count": 282,
   "id": "e4c2fe79-e84a-4e37-8ff8-5eb23de6eb51",
   "metadata": {},
   "outputs": [
    {
     "name": "stdout",
     "output_type": "stream",
     "text": [
      "WC, Analytic, Clout, Authentic, Tone, WPS, Sixltr, Dic, function, pronoun, ppron, i, we, you, shehe, they, ipron, article, prep, auxverb, adverb, conj, negate, verb, adj, compare, interrog, number, quant, affect, posemo, negemo, anx, anger, sad, social, family, friend, female, male, cogproc, insight, cause, discrep, tentat, certain, differ, percept, see, hear, feel, bio, body, health, sexual, ingest, drives, affiliation, achieve, power, reward, risk, focuspast, focuspresent, focusfuture, relativ, motion, space, time, work, leisure, home, money, relig, death, informal, swear, netspeak, assent, nonflu, filler, AllPunc, Period, Comma, Colon, SemiC, QMark, Exclam, Dash, Quote, Apostro, Parenth, OtherP\n"
     ]
    }
   ],
   "source": [
    "text_data = raw_data.iloc[:,23:]\n",
    "print(*list(text_data.columns), sep=', ')"
   ]
  },
  {
   "cell_type": "markdown",
   "id": "19aea2f3-fc18-4e5b-8249-e37f2d03f2cd",
   "metadata": {},
   "source": [
    "### Datetime Encoding"
   ]
  },
  {
   "cell_type": "code",
   "execution_count": 165,
   "id": "a2610eb7-eb04-40ac-8452-1346031f670a",
   "metadata": {},
   "outputs": [],
   "source": [
    "def convert_ts(dt_str):\n",
    "    ts = dt_str[:-4]\n",
    "    fmt = \"%Y-%m-%d %H:%M:%S\"\n",
    "    read_in_dt = datetime.strptime(ts,fmt)\n",
    "    local_tz = pytz.timezone('US/Eastern')\n",
    "    date_local = local_tz.localize(read_in_dt)\n",
    "    return date_local"
   ]
  },
  {
   "cell_type": "code",
   "execution_count": 166,
   "id": "d12d263f-3f38-407f-81f1-63999deff8b7",
   "metadata": {},
   "outputs": [],
   "source": [
    "trans_ts = lambda x: convert_ts(x)"
   ]
  },
  {
   "cell_type": "code",
   "execution_count": 167,
   "id": "8bb1d93c-c6a2-4ac1-a3a5-82b84bd39f56",
   "metadata": {},
   "outputs": [],
   "source": [
    "instagram_data.loc[:,'Post Created'] = instagram_data['Post Created'].apply(trans_ts)"
   ]
  },
  {
   "cell_type": "code",
   "execution_count": 168,
   "id": "eb4fe9f2-347f-49fd-9a74-c8b7f77c668f",
   "metadata": {},
   "outputs": [],
   "source": [
    "instagram_data['PostCreatedYear'] = pd.DatetimeIndex(instagram_data['Post Created']).year\n",
    "instagram_data['PostCreatedMonth'] = pd.DatetimeIndex(instagram_data['Post Created']).month\n",
    "instagram_data['PostCreatedDay'] = pd.DatetimeIndex(instagram_data['Post Created']).weekday\n",
    "instagram_data['PostCreatedHour'] = pd.DatetimeIndex(instagram_data['Post Created']).hour"
   ]
  },
  {
   "cell_type": "markdown",
   "id": "2f1a2c26-ccc6-41ce-978a-139250e7d9c9",
   "metadata": {},
   "source": [
    "### Drop columns that has too many NAs or not used in this study"
   ]
  },
  {
   "cell_type": "code",
   "execution_count": 169,
   "id": "a0150499-3ca1-4454-93ec-dee989e0185d",
   "metadata": {},
   "outputs": [],
   "source": [
    "instagram_data = instagram_data.drop(['Title','Sponsor Id','Sponsor Name','Post Created Date', 'Post Created Time','URL'],axis=1)"
   ]
  },
  {
   "cell_type": "markdown",
   "id": "5fcd28f0-1a24-4dd8-a066-25f22d79a6bb",
   "metadata": {},
   "source": [
    "### Transformation on Link"
   ]
  },
  {
   "cell_type": "code",
   "execution_count": 170,
   "id": "a6d228f0-b2a3-4140-acc4-5a686f5527ce",
   "metadata": {},
   "outputs": [],
   "source": [
    "instagram_data['is_linked'] = np.where(pd.isnull(instagram_data['Link']),0,1)\n",
    "instagram_data = instagram_data.drop('Link',axis=1)"
   ]
  },
  {
   "cell_type": "code",
   "execution_count": 171,
   "id": "73f65ea0-24da-4afc-a32a-390d5799b765",
   "metadata": {},
   "outputs": [
    {
     "data": {
      "text/plain": [
       "Account                                                       6\n",
       "User Name                                                     0\n",
       "Followers at Posting                                      43824\n",
       "Post Created                                                  0\n",
       "Type                                                          0\n",
       "Total Interactions                                            0\n",
       "Likes                                                         0\n",
       "Comments                                                      0\n",
       "Views                                                         0\n",
       "Like and View Counts Disabled                                 0\n",
       "Photo                                                         4\n",
       "Description                                                6047\n",
       "Image Text                                               292107\n",
       "Total Interactions (weighted on likes 1x Comments 1x)         0\n",
       "Overperforming Score                                          6\n",
       "PostCreatedYear                                               0\n",
       "PostCreatedMonth                                              0\n",
       "PostCreatedDay                                                0\n",
       "PostCreatedHour                                               0\n",
       "is_linked                                                     0\n",
       "dtype: int64"
      ]
     },
     "execution_count": 171,
     "metadata": {},
     "output_type": "execute_result"
    }
   ],
   "source": [
    "instagram_data.isnull().sum()"
   ]
  },
  {
   "cell_type": "markdown",
   "id": "020ce908-7020-4703-95ff-70d6139bb3cd",
   "metadata": {},
   "source": [
    "## Data Discovery: Instagram page descriptive analysis"
   ]
  },
  {
   "cell_type": "markdown",
   "id": "6f8a54d3-579a-4411-9fb0-8b060fcd9596",
   "metadata": {},
   "source": [
    "### Fill NA: Account"
   ]
  },
  {
   "cell_type": "code",
   "execution_count": 172,
   "id": "5304e4ae-dea4-471c-afc3-1dfb71ead2b7",
   "metadata": {},
   "outputs": [
    {
     "data": {
      "text/plain": [
       "61463     justluxeee\n",
       "98412     justluxeee\n",
       "115530    justluxeee\n",
       "138319    justluxeee\n",
       "176068    justluxeee\n",
       "232734    justluxeee\n",
       "Name: User Name, dtype: object"
      ]
     },
     "execution_count": 172,
     "metadata": {},
     "output_type": "execute_result"
    }
   ],
   "source": [
    "instagram_data[instagram_data.Account.isnull()]['User Name']"
   ]
  },
  {
   "cell_type": "code",
   "execution_count": 173,
   "id": "e2481089-2347-4da6-b3d1-a9b8c9bf9151",
   "metadata": {},
   "outputs": [
    {
     "data": {
      "text/html": [
       "<div>\n",
       "<style scoped>\n",
       "    .dataframe tbody tr th:only-of-type {\n",
       "        vertical-align: middle;\n",
       "    }\n",
       "\n",
       "    .dataframe tbody tr th {\n",
       "        vertical-align: top;\n",
       "    }\n",
       "\n",
       "    .dataframe thead th {\n",
       "        text-align: right;\n",
       "    }\n",
       "</style>\n",
       "<table border=\"1\" class=\"dataframe\">\n",
       "  <thead>\n",
       "    <tr style=\"text-align: right;\">\n",
       "      <th></th>\n",
       "      <th>Account</th>\n",
       "      <th>User Name</th>\n",
       "      <th>Followers at Posting</th>\n",
       "      <th>Post Created</th>\n",
       "      <th>Type</th>\n",
       "      <th>Total Interactions</th>\n",
       "      <th>Likes</th>\n",
       "      <th>Comments</th>\n",
       "      <th>Views</th>\n",
       "      <th>Like and View Counts Disabled</th>\n",
       "      <th>Photo</th>\n",
       "      <th>Description</th>\n",
       "      <th>Image Text</th>\n",
       "      <th>Total Interactions (weighted on likes 1x Comments 1x)</th>\n",
       "      <th>Overperforming Score</th>\n",
       "      <th>PostCreatedYear</th>\n",
       "      <th>PostCreatedMonth</th>\n",
       "      <th>PostCreatedDay</th>\n",
       "      <th>PostCreatedHour</th>\n",
       "      <th>is_linked</th>\n",
       "    </tr>\n",
       "  </thead>\n",
       "  <tbody>\n",
       "    <tr>\n",
       "      <th>61463</th>\n",
       "      <td>NaN</td>\n",
       "      <td>justluxeee</td>\n",
       "      <td>NaN</td>\n",
       "      <td>2020-10-08 14:42:36-04:00</td>\n",
       "      <td>Photo</td>\n",
       "      <td>2227</td>\n",
       "      <td>2198</td>\n",
       "      <td>29</td>\n",
       "      <td>0</td>\n",
       "      <td>False</td>\n",
       "      <td>https://scontent-sea1-1.cdninstagram.com/v/t51...</td>\n",
       "      <td>Iâm heating up ð¸@2020photography3 ð @i...</td>\n",
       "      <td>NaN</td>\n",
       "      <td>2227</td>\n",
       "      <td>1.91</td>\n",
       "      <td>2020</td>\n",
       "      <td>10</td>\n",
       "      <td>3</td>\n",
       "      <td>14</td>\n",
       "      <td>1</td>\n",
       "    </tr>\n",
       "    <tr>\n",
       "      <th>98412</th>\n",
       "      <td>NaN</td>\n",
       "      <td>justluxeee</td>\n",
       "      <td>NaN</td>\n",
       "      <td>2021-06-24 22:07:21-04:00</td>\n",
       "      <td>Album</td>\n",
       "      <td>1707</td>\n",
       "      <td>1647</td>\n",
       "      <td>60</td>\n",
       "      <td>0</td>\n",
       "      <td>False</td>\n",
       "      <td>https://scontent-sea1-1.cdninstagram.com/v/t51...</td>\n",
       "      <td>Miss Mamasð</td>\n",
       "      <td>NaN</td>\n",
       "      <td>1707</td>\n",
       "      <td>1.42</td>\n",
       "      <td>2021</td>\n",
       "      <td>6</td>\n",
       "      <td>3</td>\n",
       "      <td>22</td>\n",
       "      <td>1</td>\n",
       "    </tr>\n",
       "    <tr>\n",
       "      <th>115530</th>\n",
       "      <td>NaN</td>\n",
       "      <td>justluxeee</td>\n",
       "      <td>NaN</td>\n",
       "      <td>2020-11-02 16:54:32-05:00</td>\n",
       "      <td>Photo</td>\n",
       "      <td>1546</td>\n",
       "      <td>1545</td>\n",
       "      <td>1</td>\n",
       "      <td>0</td>\n",
       "      <td>False</td>\n",
       "      <td>https://scontent-sea1-1.cdninstagram.com/v/t51...</td>\n",
       "      <td>Not one of them</td>\n",
       "      <td>NaN</td>\n",
       "      <td>1546</td>\n",
       "      <td>1.33</td>\n",
       "      <td>2020</td>\n",
       "      <td>11</td>\n",
       "      <td>0</td>\n",
       "      <td>16</td>\n",
       "      <td>1</td>\n",
       "    </tr>\n",
       "    <tr>\n",
       "      <th>138319</th>\n",
       "      <td>NaN</td>\n",
       "      <td>justluxeee</td>\n",
       "      <td>NaN</td>\n",
       "      <td>2020-02-19 15:13:41-05:00</td>\n",
       "      <td>Photo</td>\n",
       "      <td>1375</td>\n",
       "      <td>1372</td>\n",
       "      <td>3</td>\n",
       "      <td>0</td>\n",
       "      <td>False</td>\n",
       "      <td>https://scontent-sea1-1.cdninstagram.com/v/t51...</td>\n",
       "      <td>Itâs Luxzurious to youð\\nð· @capturedby...</td>\n",
       "      <td>NaN</td>\n",
       "      <td>1375</td>\n",
       "      <td>1.18</td>\n",
       "      <td>2020</td>\n",
       "      <td>2</td>\n",
       "      <td>2</td>\n",
       "      <td>15</td>\n",
       "      <td>1</td>\n",
       "    </tr>\n",
       "    <tr>\n",
       "      <th>176068</th>\n",
       "      <td>NaN</td>\n",
       "      <td>justluxeee</td>\n",
       "      <td>NaN</td>\n",
       "      <td>2021-06-02 13:42:25-04:00</td>\n",
       "      <td>Album</td>\n",
       "      <td>1164</td>\n",
       "      <td>1140</td>\n",
       "      <td>24</td>\n",
       "      <td>0</td>\n",
       "      <td>False</td>\n",
       "      <td>https://scontent-sea1-1.cdninstagram.com/v/t51...</td>\n",
       "      <td>i ain got no free time, everythingâs expensive</td>\n",
       "      <td>NaN</td>\n",
       "      <td>1164</td>\n",
       "      <td>-1.03</td>\n",
       "      <td>2021</td>\n",
       "      <td>6</td>\n",
       "      <td>2</td>\n",
       "      <td>13</td>\n",
       "      <td>1</td>\n",
       "    </tr>\n",
       "    <tr>\n",
       "      <th>232734</th>\n",
       "      <td>NaN</td>\n",
       "      <td>justluxeee</td>\n",
       "      <td>NaN</td>\n",
       "      <td>2020-09-17 12:17:35-04:00</td>\n",
       "      <td>Photo</td>\n",
       "      <td>941</td>\n",
       "      <td>917</td>\n",
       "      <td>24</td>\n",
       "      <td>0</td>\n",
       "      <td>False</td>\n",
       "      <td>https://scontent-sea1-1.cdninstagram.com/v/t51...</td>\n",
       "      <td>Checking in</td>\n",
       "      <td>NaN</td>\n",
       "      <td>941</td>\n",
       "      <td>-1.24</td>\n",
       "      <td>2020</td>\n",
       "      <td>9</td>\n",
       "      <td>3</td>\n",
       "      <td>12</td>\n",
       "      <td>1</td>\n",
       "    </tr>\n",
       "  </tbody>\n",
       "</table>\n",
       "</div>"
      ],
      "text/plain": [
       "       Account   User Name  Followers at Posting              Post Created  \\\n",
       "61463      NaN  justluxeee                   NaN 2020-10-08 14:42:36-04:00   \n",
       "98412      NaN  justluxeee                   NaN 2021-06-24 22:07:21-04:00   \n",
       "115530     NaN  justluxeee                   NaN 2020-11-02 16:54:32-05:00   \n",
       "138319     NaN  justluxeee                   NaN 2020-02-19 15:13:41-05:00   \n",
       "176068     NaN  justluxeee                   NaN 2021-06-02 13:42:25-04:00   \n",
       "232734     NaN  justluxeee                   NaN 2020-09-17 12:17:35-04:00   \n",
       "\n",
       "         Type  Total Interactions  Likes  Comments  Views  \\\n",
       "61463   Photo                2227   2198        29      0   \n",
       "98412   Album                1707   1647        60      0   \n",
       "115530  Photo                1546   1545         1      0   \n",
       "138319  Photo                1375   1372         3      0   \n",
       "176068  Album                1164   1140        24      0   \n",
       "232734  Photo                 941    917        24      0   \n",
       "\n",
       "        Like and View Counts Disabled  \\\n",
       "61463                           False   \n",
       "98412                           False   \n",
       "115530                          False   \n",
       "138319                          False   \n",
       "176068                          False   \n",
       "232734                          False   \n",
       "\n",
       "                                                    Photo  \\\n",
       "61463   https://scontent-sea1-1.cdninstagram.com/v/t51...   \n",
       "98412   https://scontent-sea1-1.cdninstagram.com/v/t51...   \n",
       "115530  https://scontent-sea1-1.cdninstagram.com/v/t51...   \n",
       "138319  https://scontent-sea1-1.cdninstagram.com/v/t51...   \n",
       "176068  https://scontent-sea1-1.cdninstagram.com/v/t51...   \n",
       "232734  https://scontent-sea1-1.cdninstagram.com/v/t51...   \n",
       "\n",
       "                                              Description Image Text  \\\n",
       "61463   Iâm heating up ð¸@2020photography3 ð @i...        NaN   \n",
       "98412                                      Miss Mamasð        NaN   \n",
       "115530                                    Not one of them        NaN   \n",
       "138319  Itâs Luxzurious to youð\\nð· @capturedby...        NaN   \n",
       "176068   i ain got no free time, everythingâs expensive        NaN   \n",
       "232734                                        Checking in        NaN   \n",
       "\n",
       "        Total Interactions (weighted on likes 1x Comments 1x)  \\\n",
       "61463                                                2227       \n",
       "98412                                                1707       \n",
       "115530                                               1546       \n",
       "138319                                               1375       \n",
       "176068                                               1164       \n",
       "232734                                                941       \n",
       "\n",
       "        Overperforming Score  PostCreatedYear  PostCreatedMonth  \\\n",
       "61463                   1.91             2020                10   \n",
       "98412                   1.42             2021                 6   \n",
       "115530                  1.33             2020                11   \n",
       "138319                  1.18             2020                 2   \n",
       "176068                 -1.03             2021                 6   \n",
       "232734                 -1.24             2020                 9   \n",
       "\n",
       "        PostCreatedDay  PostCreatedHour  is_linked  \n",
       "61463                3               14          1  \n",
       "98412                3               22          1  \n",
       "115530               0               16          1  \n",
       "138319               2               15          1  \n",
       "176068               2               13          1  \n",
       "232734               3               12          1  "
      ]
     },
     "execution_count": 173,
     "metadata": {},
     "output_type": "execute_result"
    }
   ],
   "source": [
    "instagram_data[instagram_data['User Name'] == 'justluxeee']"
   ]
  },
  {
   "cell_type": "markdown",
   "id": "24e86716-348c-4fbd-9f9c-f25137bc5cb4",
   "metadata": {},
   "source": [
    "We failed to fetch any information of this NA account based on user name. We will drop these records."
   ]
  },
  {
   "cell_type": "code",
   "execution_count": 174,
   "id": "c86c387b-2705-4550-b7ce-6e5a3933feba",
   "metadata": {},
   "outputs": [
    {
     "data": {
      "text/plain": [
       "(299958, 20)"
      ]
     },
     "execution_count": 174,
     "metadata": {},
     "output_type": "execute_result"
    }
   ],
   "source": [
    "instagram_data = instagram_data[~instagram_data.Account.isnull()]\n",
    "instagram_data.shape"
   ]
  },
  {
   "cell_type": "markdown",
   "id": "155bddad-82a5-43e0-a0e1-28d616ad41da",
   "metadata": {},
   "source": [
    "### Target Variable: Followers at Posting\n",
    "Randomly pick accounts and look at follower growth."
   ]
  },
  {
   "cell_type": "markdown",
   "id": "c16d24c7-84b4-45e0-a8b8-f88a82531dcd",
   "metadata": {},
   "source": [
    "- accumulated number of posts within time period\n",
    "- variance of followers\n",
    "- detection of jumps (isolation forest)\n",
    "- seasonality underlying\n",
    "- platform performance (external research)"
   ]
  },
  {
   "cell_type": "code",
   "execution_count": 97,
   "id": "c257550b-5433-47e5-9a01-d0c0cc0b6116",
   "metadata": {},
   "outputs": [],
   "source": [
    "choices = np.random.choice(np.unique(instagram_data.Account), 10, replace=False)\n",
    "random10 = instagram_data[instagram_data.Account.isin(choices)]"
   ]
  },
  {
   "cell_type": "code",
   "execution_count": 98,
   "id": "933799f7-ee40-47f7-b034-ae73fe29c8e7",
   "metadata": {},
   "outputs": [
    {
     "data": {
      "text/plain": [
       "Account\n",
       "Ali landry                     AxesSubplot(0.125,0.2;0.775x0.68)\n",
       "Chelsea Spack                  AxesSubplot(0.125,0.2;0.775x0.68)\n",
       "Eamon                          AxesSubplot(0.125,0.2;0.775x0.68)\n",
       "MAQUILLAJE, PEINADO Y CEJAS    AxesSubplot(0.125,0.2;0.775x0.68)\n",
       "Ryan Van Duzer                 AxesSubplot(0.125,0.2;0.775x0.68)\n",
       "S A N D I   T H O M            AxesSubplot(0.125,0.2;0.775x0.68)\n",
       "TIM BARRY                      AxesSubplot(0.125,0.2;0.775x0.68)\n",
       "Thomas Jack                    AxesSubplot(0.125,0.2;0.775x0.68)\n",
       "Travel Curator                 AxesSubplot(0.125,0.2;0.775x0.68)\n",
       "adelia rasya                   AxesSubplot(0.125,0.2;0.775x0.68)\n",
       "Name: Followers at Posting, dtype: object"
      ]
     },
     "execution_count": 98,
     "metadata": {},
     "output_type": "execute_result"
    },
    {
     "data": {
      "image/png": "[encoded data removed]",
      "text/plain": [
       "<Figure size 1080x864 with 1 Axes>"
      ]
     },
     "metadata": {
      "needs_background": "light"
     },
     "output_type": "display_data"
    }
   ],
   "source": [
    "%matplotlib inline\n",
    "random10_data = random10.loc[:,['Followers at Posting','Account','Post Created']]\n",
    "random10_data['Post Created'] = pd.to_datetime(random10_data['Post Created'])\n",
    "random10_data = random10_data.set_index('Post Created')\n",
    "fig, ax = plt.subplots(figsize=(15,12))\n",
    "random10_data.groupby('Account')['Followers at Posting'].plot(legend=True,ax=ax)"
   ]
  },
  {
   "cell_type": "markdown",
   "id": "2a790d5c-78c2-4731-bf7b-5cb6f3fd1de2",
   "metadata": {},
   "source": [
    "#### Focus on accounts encounter null"
   ]
  },
  {
   "cell_type": "code",
   "execution_count": 99,
   "id": "b07f9ef7-3c96-476b-b939-562423f2810c",
   "metadata": {},
   "outputs": [
    {
     "data": {
      "text/plain": [
       "array(['Ali landry', 'Chelsea Spack', 'MAQUILLAJE, PEINADO Y CEJAS',\n",
       "       'TIM BARRY', 'Thomas Jack'], dtype=object)"
      ]
     },
     "execution_count": 99,
     "metadata": {},
     "output_type": "execute_result"
    }
   ],
   "source": [
    "account_encounter_null = np.unique(random10[random10['Followers at Posting'].isnull()]['Account'])\n",
    "account_encounter_null"
   ]
  },
  {
   "cell_type": "code",
   "execution_count": 100,
   "id": "f84b2d8c-16c5-4e20-8628-2348aa9837bb",
   "metadata": {},
   "outputs": [
    {
     "data": {
      "text/plain": [
       "Account\n",
       "Ali landry                     AxesSubplot(0.125,0.2;0.775x0.68)\n",
       "Chelsea Spack                  AxesSubplot(0.125,0.2;0.775x0.68)\n",
       "MAQUILLAJE, PEINADO Y CEJAS    AxesSubplot(0.125,0.2;0.775x0.68)\n",
       "TIM BARRY                      AxesSubplot(0.125,0.2;0.775x0.68)\n",
       "Thomas Jack                    AxesSubplot(0.125,0.2;0.775x0.68)\n",
       "Name: Followers at Posting, dtype: object"
      ]
     },
     "execution_count": 100,
     "metadata": {},
     "output_type": "execute_result"
    },
    {
     "data": {
      "image/png": "[encoded data removed]",
      "text/plain": [
       "<Figure size 1080x864 with 1 Axes>"
      ]
     },
     "metadata": {
      "needs_background": "light"
     },
     "output_type": "display_data"
    }
   ],
   "source": [
    "%matplotlib inline\n",
    "random10_data = random10.loc[random10.Account.isin(account_encounter_null),['Followers at Posting','Account','Post Created']]\n",
    "random10_data['Post Created'] = pd.to_datetime(random10_data['Post Created'])\n",
    "random10_data = random10_data.set_index('Post Created')\n",
    "fig, ax = plt.subplots(figsize=(15,12))\n",
    "random10_data.groupby('Account')['Followers at Posting'].plot(legend=True,ax=ax)"
   ]
  },
  {
   "cell_type": "markdown",
   "id": "82f23ded-1844-4f0a-9d74-8756f620970c",
   "metadata": {},
   "source": [
    "Consider followers is our target variable, we should consider simply drop records encountering NA values."
   ]
  },
  {
   "cell_type": "code",
   "execution_count": 175,
   "id": "fc2fbdcf-bb21-49e4-ae67-8dc868389d8f",
   "metadata": {},
   "outputs": [],
   "source": [
    "instagram_data = instagram_data[~instagram_data['Followers at Posting'].isnull()]"
   ]
  },
  {
   "cell_type": "code",
   "execution_count": 176,
   "id": "8e44b78a-4dce-4496-a2a3-995171d2efb7",
   "metadata": {},
   "outputs": [
    {
     "data": {
      "text/plain": [
       "(256140, 20)"
      ]
     },
     "execution_count": 176,
     "metadata": {},
     "output_type": "execute_result"
    }
   ],
   "source": [
    "instagram_data.shape"
   ]
  },
  {
   "cell_type": "code",
   "execution_count": 177,
   "id": "f640d3dc-3255-43e2-9068-8de787c8af86",
   "metadata": {},
   "outputs": [
    {
     "data": {
      "text/plain": [
       "Account                                                       0\n",
       "User Name                                                     0\n",
       "Followers at Posting                                          0\n",
       "Post Created                                                  0\n",
       "Type                                                          0\n",
       "Total Interactions                                            0\n",
       "Likes                                                         0\n",
       "Comments                                                      0\n",
       "Views                                                         0\n",
       "Like and View Counts Disabled                                 0\n",
       "Photo                                                         4\n",
       "Description                                                4513\n",
       "Image Text                                               248577\n",
       "Total Interactions (weighted on likes 1x Comments 1x)         0\n",
       "Overperforming Score                                          0\n",
       "PostCreatedYear                                               0\n",
       "PostCreatedMonth                                              0\n",
       "PostCreatedDay                                                0\n",
       "PostCreatedHour                                               0\n",
       "is_linked                                                     0\n",
       "dtype: int64"
      ]
     },
     "execution_count": 177,
     "metadata": {},
     "output_type": "execute_result"
    }
   ],
   "source": [
    "instagram_data.isnull().sum()"
   ]
  },
  {
   "cell_type": "markdown",
   "id": "aefcc2d6-dfc7-4785-b01f-364d258829e1",
   "metadata": {},
   "source": [
    "### Handle Text Variable"
   ]
  },
  {
   "cell_type": "markdown",
   "id": "d7927352-d39c-42ed-ae4f-82bc848ce2f0",
   "metadata": {},
   "source": [
    "Photo is a photo link url. "
   ]
  },
  {
   "cell_type": "code",
   "execution_count": 178,
   "id": "61d45252-804a-4048-976e-509a600d7f96",
   "metadata": {},
   "outputs": [
    {
     "data": {
      "text/html": [
       "<div>\n",
       "<style scoped>\n",
       "    .dataframe tbody tr th:only-of-type {\n",
       "        vertical-align: middle;\n",
       "    }\n",
       "\n",
       "    .dataframe tbody tr th {\n",
       "        vertical-align: top;\n",
       "    }\n",
       "\n",
       "    .dataframe thead th {\n",
       "        text-align: right;\n",
       "    }\n",
       "</style>\n",
       "<table border=\"1\" class=\"dataframe\">\n",
       "  <thead>\n",
       "    <tr style=\"text-align: right;\">\n",
       "      <th></th>\n",
       "      <th>Account</th>\n",
       "      <th>User Name</th>\n",
       "      <th>Followers at Posting</th>\n",
       "      <th>Post Created</th>\n",
       "      <th>Type</th>\n",
       "      <th>Total Interactions</th>\n",
       "      <th>Likes</th>\n",
       "      <th>Comments</th>\n",
       "      <th>Views</th>\n",
       "      <th>Like and View Counts Disabled</th>\n",
       "      <th>Photo</th>\n",
       "      <th>Description</th>\n",
       "      <th>Image Text</th>\n",
       "      <th>Total Interactions (weighted on likes 1x Comments 1x)</th>\n",
       "      <th>Overperforming Score</th>\n",
       "      <th>PostCreatedYear</th>\n",
       "      <th>PostCreatedMonth</th>\n",
       "      <th>PostCreatedDay</th>\n",
       "      <th>PostCreatedHour</th>\n",
       "      <th>is_linked</th>\n",
       "    </tr>\n",
       "  </thead>\n",
       "  <tbody>\n",
       "    <tr>\n",
       "      <th>24445</th>\n",
       "      <td>Aj Ramos</td>\n",
       "      <td>theajramos</td>\n",
       "      <td>35619.0</td>\n",
       "      <td>2017-09-25 03:26:30-04:00</td>\n",
       "      <td>Album</td>\n",
       "      <td>3495</td>\n",
       "      <td>3413</td>\n",
       "      <td>82</td>\n",
       "      <td>10209</td>\n",
       "      <td>False</td>\n",
       "      <td>NaN</td>\n",
       "      <td>It was around this time I told last year (2:50...</td>\n",
       "      <td>NaN</td>\n",
       "      <td>3495</td>\n",
       "      <td>2.05</td>\n",
       "      <td>2017</td>\n",
       "      <td>9</td>\n",
       "      <td>0</td>\n",
       "      <td>3</td>\n",
       "      <td>1</td>\n",
       "    </tr>\n",
       "    <tr>\n",
       "      <th>57899</th>\n",
       "      <td>veÌriteÌ</td>\n",
       "      <td>verite</td>\n",
       "      <td>48463.0</td>\n",
       "      <td>2021-04-20 14:50:02-04:00</td>\n",
       "      <td>Photo</td>\n",
       "      <td>2299</td>\n",
       "      <td>2229</td>\n",
       "      <td>70</td>\n",
       "      <td>0</td>\n",
       "      <td>False</td>\n",
       "      <td>NaN</td>\n",
       "      <td>my essence captured in one photo.\\ni am a brok...</td>\n",
       "      <td>NaN</td>\n",
       "      <td>2299</td>\n",
       "      <td>1.22</td>\n",
       "      <td>2021</td>\n",
       "      <td>4</td>\n",
       "      <td>1</td>\n",
       "      <td>14</td>\n",
       "      <td>1</td>\n",
       "    </tr>\n",
       "    <tr>\n",
       "      <th>249923</th>\n",
       "      <td>slothrust</td>\n",
       "      <td>slothrust</td>\n",
       "      <td>24418.0</td>\n",
       "      <td>2021-07-23 14:34:34-04:00</td>\n",
       "      <td>Album</td>\n",
       "      <td>886</td>\n",
       "      <td>866</td>\n",
       "      <td>20</td>\n",
       "      <td>4152</td>\n",
       "      <td>False</td>\n",
       "      <td>NaN</td>\n",
       "      <td>VERY pleased to have our unreleased song âA ...</td>\n",
       "      <td>NaN</td>\n",
       "      <td>886</td>\n",
       "      <td>-1.57</td>\n",
       "      <td>2021</td>\n",
       "      <td>7</td>\n",
       "      <td>4</td>\n",
       "      <td>14</td>\n",
       "      <td>1</td>\n",
       "    </tr>\n",
       "    <tr>\n",
       "      <th>282454</th>\n",
       "      <td>Nathan Foley</td>\n",
       "      <td>nathanfoleyofficial</td>\n",
       "      <td>13781.0</td>\n",
       "      <td>2019-08-28 03:02:45-04:00</td>\n",
       "      <td>Album</td>\n",
       "      <td>795</td>\n",
       "      <td>740</td>\n",
       "      <td>55</td>\n",
       "      <td>4910</td>\n",
       "      <td>False</td>\n",
       "      <td>NaN</td>\n",
       "      <td>Our Highlighted Wedding Video â¤ï¸ SWIPE LEF...</td>\n",
       "      <td>NaN</td>\n",
       "      <td>795</td>\n",
       "      <td>2.56</td>\n",
       "      <td>2019</td>\n",
       "      <td>8</td>\n",
       "      <td>2</td>\n",
       "      <td>3</td>\n",
       "      <td>1</td>\n",
       "    </tr>\n",
       "  </tbody>\n",
       "</table>\n",
       "</div>"
      ],
      "text/plain": [
       "             Account            User Name  Followers at Posting  \\\n",
       "24445       Aj Ramos           theajramos               35619.0   \n",
       "57899     veÌriteÌ               verite               48463.0   \n",
       "249923     slothrust            slothrust               24418.0   \n",
       "282454  Nathan Foley  nathanfoleyofficial               13781.0   \n",
       "\n",
       "                    Post Created   Type  Total Interactions  Likes  Comments  \\\n",
       "24445  2017-09-25 03:26:30-04:00  Album                3495   3413        82   \n",
       "57899  2021-04-20 14:50:02-04:00  Photo                2299   2229        70   \n",
       "249923 2021-07-23 14:34:34-04:00  Album                 886    866        20   \n",
       "282454 2019-08-28 03:02:45-04:00  Album                 795    740        55   \n",
       "\n",
       "        Views  Like and View Counts Disabled Photo  \\\n",
       "24445   10209                          False   NaN   \n",
       "57899       0                          False   NaN   \n",
       "249923   4152                          False   NaN   \n",
       "282454   4910                          False   NaN   \n",
       "\n",
       "                                              Description Image Text  \\\n",
       "24445   It was around this time I told last year (2:50...        NaN   \n",
       "57899   my essence captured in one photo.\\ni am a brok...        NaN   \n",
       "249923  VERY pleased to have our unreleased song âA ...        NaN   \n",
       "282454  Our Highlighted Wedding Video â¤ï¸ SWIPE LEF...        NaN   \n",
       "\n",
       "        Total Interactions (weighted on likes 1x Comments 1x)  \\\n",
       "24445                                                3495       \n",
       "57899                                                2299       \n",
       "249923                                                886       \n",
       "282454                                                795       \n",
       "\n",
       "        Overperforming Score  PostCreatedYear  PostCreatedMonth  \\\n",
       "24445                   2.05             2017                 9   \n",
       "57899                   1.22             2021                 4   \n",
       "249923                 -1.57             2021                 7   \n",
       "282454                  2.56             2019                 8   \n",
       "\n",
       "        PostCreatedDay  PostCreatedHour  is_linked  \n",
       "24445                0                3          1  \n",
       "57899                1               14          1  \n",
       "249923               4               14          1  \n",
       "282454               2                3          1  "
      ]
     },
     "execution_count": 178,
     "metadata": {},
     "output_type": "execute_result"
    }
   ],
   "source": [
    "instagram_data[instagram_data.Photo.isnull()]"
   ]
  },
  {
   "cell_type": "markdown",
   "id": "24a40fd2-9153-4d9f-a406-2af32bc329e2",
   "metadata": {},
   "source": [
    "Due to the characteristics of Instagram, a post has to come with a image/vedio. In this case, we assume the image link is lost, all of the posts has 'Photo' available. We simply drop this column as it's not related to our study."
   ]
  },
  {
   "cell_type": "code",
   "execution_count": 179,
   "id": "9d86f3ae-5f2c-4bcb-9f21-b64bf9099634",
   "metadata": {},
   "outputs": [],
   "source": [
    "instagram_data = instagram_data.drop('Photo',axis=1)"
   ]
  },
  {
   "cell_type": "markdown",
   "id": "9ce5bba1-f90d-4a55-ad85-f0e09d3a32cd",
   "metadata": {},
   "source": [
    "### Assign Sentiment Score and Attach Descriptive Info to Text columns.\n",
    "We have two of these columns to transform: Description and Image Text"
   ]
  },
  {
   "cell_type": "markdown",
   "id": "79df7de6-81c6-4142-bdbd-b64ae43caf6c",
   "metadata": {},
   "source": [
    "#### Clean Text: Remove stopwords, tokenized and lemmatization"
   ]
  },
  {
   "cell_type": "code",
   "execution_count": 180,
   "id": "8ed3da35-dd7f-4518-a48c-79e138043b3b",
   "metadata": {},
   "outputs": [],
   "source": [
    "instagram_data['Description'] = instagram_data['Description'].str.strip()"
   ]
  },
  {
   "cell_type": "code",
   "execution_count": 248,
   "id": "ff8336e9-1f06-4da8-a328-9c47b1a30bf1",
   "metadata": {},
   "outputs": [],
   "source": [
    "def remove_unprintable_char(s):\n",
    "    new_s = re.sub(r'[^a-zA-Z0-9\\._-]', ' ', s)\n",
    "    return new_s"
   ]
  },
  {
   "cell_type": "code",
   "execution_count": 249,
   "id": "9b03836c-4b74-424a-a144-7cb9fac53f62",
   "metadata": {},
   "outputs": [],
   "source": [
    "instagram_data['Description'] = instagram_data['Description'].apply(str).map(remove_unprintable_char)"
   ]
  },
  {
   "cell_type": "code",
   "execution_count": 250,
   "id": "83853e5d-d54d-4c7d-b3e3-2c7208b397fb",
   "metadata": {},
   "outputs": [],
   "source": [
    "def process_description(text):\n",
    "    if not pd.isnull(text):\n",
    "        # tokenize \n",
    "        tags = nltk.pos_tag(word_tokenize(text))\n",
    "        #Import the english stop words list from NLTK\n",
    "        stopwords_english = stopwords.words('english') \n",
    "\n",
    "        #Creating a list of words without stopwords\n",
    "        pos_dict = {'J':wordnet.ADJ, 'V':wordnet.VERB, 'N':wordnet.NOUN, 'R':wordnet.ADV}\n",
    "        desc_clean = []\n",
    "        for word, tag in tags:\n",
    "            if word not in stopwords_english and word not in string.punctuation:\n",
    "                desc_clean.append(tuple([word.lower(), pos_dict.get(tag[0])]))\n",
    "\n",
    "        #Instantiate stemming class\n",
    "        lemmatizer = WordNetLemmatizer()\n",
    "\n",
    "        #Creating a list of stems of words \n",
    "        lemma_desc = \"\"\n",
    "        for clean_word, pos in desc_clean:\n",
    "            if not pos:\n",
    "                lemma = clean_word\n",
    "                lemma_desc = lemma_desc + \" \" + lemma\n",
    "            else:\n",
    "                lemma = lemmatizer.lemmatize(clean_word, pos=pos)\n",
    "                lemma_desc = lemma_desc + \" \" + lemma\n",
    "    else:\n",
    "        lemma_desc = ''\n",
    "    return lemma_desc"
   ]
  },
  {
   "cell_type": "code",
   "execution_count": 261,
   "id": "9e5e2db3-4017-43bb-9abc-42c7f3241928",
   "metadata": {},
   "outputs": [],
   "source": [
    "instagram_data['Description_lemma'] = instagram_data['Description'].apply(process_description)"
   ]
  },
  {
   "cell_type": "markdown",
   "id": "8be33b73-e9b0-4405-be8b-abe391a00b32",
   "metadata": {},
   "source": [
    "#### Sentiment and subjective score"
   ]
  },
  {
   "cell_type": "code",
   "execution_count": 262,
   "id": "a50f8d01-ac30-4ae9-8a21-952ca728b98b",
   "metadata": {},
   "outputs": [],
   "source": [
    "def datablob(lemma):\n",
    "    return TextBlob(lemma).sentiment"
   ]
  },
  {
   "cell_type": "code",
   "execution_count": 263,
   "id": "e09be670-9692-4f27-b464-d2beb26c3a07",
   "metadata": {},
   "outputs": [],
   "source": [
    "instagram_data['Description_senti'] = instagram_data['Description_lemma'].apply(datablob)"
   ]
  },
  {
   "cell_type": "code",
   "execution_count": 264,
   "id": "93c1fcb0-5500-48d5-806a-b283e2612760",
   "metadata": {},
   "outputs": [],
   "source": [
    "instagram_data['Description_sentiment'] = np.where(instagram_data['Description_senti'].str[0]>0,'Positive','Negative')\n",
    "instagram_data['Description_subjective'] = np.where(instagram_data['Description_senti'].str[1]>0.5,'Subjective','Objective')"
   ]
  },
  {
   "cell_type": "code",
   "execution_count": 265,
   "id": "3bcd9fe0-ca6e-476c-941c-6f3262f5c85b",
   "metadata": {},
   "outputs": [],
   "source": [
    "instagram_data['Description_sentiment_score'] = instagram_data['Description_senti'].str[0]\n",
    "instagram_data['Description_subjective_score'] = instagram_data['Description_senti'].str[1]"
   ]
  },
  {
   "cell_type": "markdown",
   "id": "27461aa4-0a25-42ec-8b93-04cd80816e9b",
   "metadata": {},
   "source": [
    "#### Descriptive info\n",
    "Potentially we can look into how many characteristics/capital letters were used"
   ]
  },
  {
   "cell_type": "code",
   "execution_count": 266,
   "id": "50c17563-415e-4d40-917a-cbb08776b7c0",
   "metadata": {},
   "outputs": [],
   "source": [
    "instagram_data['Description_len'] =  instagram_data['Description'].str.len().fillna(0)"
   ]
  },
  {
   "cell_type": "code",
   "execution_count": 267,
   "id": "4c45863e-5fea-457e-b889-3c8ea8e38df1",
   "metadata": {},
   "outputs": [],
   "source": [
    "instagram_data = instagram_data.drop(['Description_lemma','Description_senti'],axis=1)"
   ]
  },
  {
   "cell_type": "code",
   "execution_count": 268,
   "id": "90b0c2cd-6f7a-4aee-90cf-369ee9a18906",
   "metadata": {},
   "outputs": [
    {
     "data": {
      "text/plain": [
       "Index(['Account', 'User Name', 'Followers at Posting', 'Post Created', 'Type',\n",
       "       'Total Interactions', 'Likes', 'Comments', 'Views',\n",
       "       'Like and View Counts Disabled', 'Description', 'Image Text',\n",
       "       'Total Interactions (weighted on likes 1x Comments 1x)',\n",
       "       'Overperforming Score', 'PostCreatedYear', 'PostCreatedMonth',\n",
       "       'PostCreatedDay', 'PostCreatedHour', 'is_linked',\n",
       "       'Description_sentiment', 'Description_subjective', 'Description_len',\n",
       "       'Image_Text_len', 'account_effect', 'Type_cate',\n",
       "       'Description_sentiment_score', 'Description_subjective_score'],\n",
       "      dtype='object')"
      ]
     },
     "execution_count": 268,
     "metadata": {},
     "output_type": "execute_result"
    }
   ],
   "source": [
    "instagram_data.columns"
   ]
  },
  {
   "cell_type": "markdown",
   "id": "8cad82c4-f861-4548-8102-57d515c7b58b",
   "metadata": {},
   "source": [
    "### Understand and process Image Text"
   ]
  },
  {
   "cell_type": "code",
   "execution_count": 209,
   "id": "ea355e42-d5e3-40f9-89d8-8ee55f57f1b3",
   "metadata": {},
   "outputs": [
    {
     "data": {
      "text/plain": [
       "31                                    JUNE PART PARTTWO TWO\n",
       "89              REBECCA FERGUSON LADY JESSICA TUNE ITBEGINS\n",
       "112                     KATHLEEN WILLEY WHITE HOUSE STAFF W\n",
       "116       TIMOTHÃE REBECCA OSCAR STELLAN STEPHEN CHANG ...\n",
       "167       Governor Jay Inslee @GovInslee I cannot expres...\n",
       "                                ...                        \n",
       "299436                                    BLACKWIDOW KILLER\n",
       "299548                                     à´¤ LackTraviata\n",
       "299643    Announcing our 2021 festival line-up! MAGICCIT...\n",
       "299647    ** JANUARY 13 2015 RYMAN AUDITORIUM ASHVILLE*T...\n",
       "299949    MY 2019 GREAT NORDEEN XC RACE RECAP 30K & 90 M...\n",
       "Name: Image Text, Length: 7563, dtype: object"
      ]
     },
     "execution_count": 209,
     "metadata": {},
     "output_type": "execute_result"
    }
   ],
   "source": [
    "instagram_data[~instagram_data['Image Text'].isnull()]['Image Text']"
   ]
  },
  {
   "cell_type": "markdown",
   "id": "9d7e815b-5913-4db9-8eec-75ce18322217",
   "metadata": {},
   "source": [
    "Image Text has different forms, some of them have comments, some of them act more like a image title. In this case we extract only descriptive information from this attribute."
   ]
  },
  {
   "cell_type": "code",
   "execution_count": 210,
   "id": "8d799a42-0aaf-468e-a2da-d683e1027054",
   "metadata": {},
   "outputs": [],
   "source": [
    "instagram_data['Image Text'] = instagram_data['Image Text'].str.strip()\n",
    "instagram_data['Image_Text_len'] = instagram_data['Image Text'].str.len().fillna(0)"
   ]
  },
  {
   "cell_type": "code",
   "execution_count": 212,
   "id": "3efbb439-db11-4b36-acf1-9bed77f9aa75",
   "metadata": {},
   "outputs": [
    {
     "data": {
      "text/plain": [
       "Index(['Account', 'User Name', 'Followers at Posting', 'Post Created', 'Type',\n",
       "       'Total Interactions', 'Likes', 'Comments', 'Views',\n",
       "       'Like and View Counts Disabled', 'Description', 'Image Text',\n",
       "       'Total Interactions (weighted on likes 1x Comments 1x)',\n",
       "       'Overperforming Score', 'PostCreatedYear', 'PostCreatedMonth',\n",
       "       'PostCreatedDay', 'PostCreatedHour', 'is_linked',\n",
       "       'Description_sentiment', 'Description_subjective', 'Description_len',\n",
       "       'Image_Text_len'],\n",
       "      dtype='object')"
      ]
     },
     "execution_count": 212,
     "metadata": {},
     "output_type": "execute_result"
    }
   ],
   "source": [
    "instagram_data.columns"
   ]
  },
  {
   "cell_type": "markdown",
   "id": "8da718ce-c913-417b-9599-fa1c6e877d34",
   "metadata": {},
   "source": [
    "### Encoding Account\n",
    "Potentially could be transformed via entity embedding using fastai. For time and complexity consideration we will stick with traditional target encoding."
   ]
  },
  {
   "cell_type": "code",
   "execution_count": 213,
   "id": "e470457f-f073-491b-939d-ddab8dc2eeb3",
   "metadata": {},
   "outputs": [
    {
     "data": {
      "text/plain": [
       "1271"
      ]
     },
     "execution_count": 213,
     "metadata": {},
     "output_type": "execute_result"
    }
   ],
   "source": [
    "len(np.unique(instagram_data['Account']))"
   ]
  },
  {
   "cell_type": "code",
   "execution_count": 214,
   "id": "cc90813d-6184-4fb7-bc9b-846489a71b78",
   "metadata": {},
   "outputs": [
    {
     "data": {
      "text/plain": [
       "1272"
      ]
     },
     "execution_count": 214,
     "metadata": {},
     "output_type": "execute_result"
    }
   ],
   "source": [
    "len(np.unique(instagram_data['User Name']))"
   ]
  },
  {
   "cell_type": "markdown",
   "id": "d5246d75-da28-4bcb-a929-effe722bfc01",
   "metadata": {},
   "source": [
    "Account and User Name is roughly 1-1."
   ]
  },
  {
   "cell_type": "code",
   "execution_count": 230,
   "id": "26d3b37a-9121-4606-a400-cd671814f75d",
   "metadata": {},
   "outputs": [],
   "source": [
    "account_effect_lookup = instagram_data.groupby('Account')['Followers at Posting'].mean().reset_index().rename(columns={\"Followers at Posting\":\"account_effect\"})"
   ]
  },
  {
   "cell_type": "code",
   "execution_count": 231,
   "id": "a36ffd9c-0653-4f95-ae1c-9245202d3193",
   "metadata": {},
   "outputs": [
    {
     "data": {
      "text/html": [
       "<div>\n",
       "<style scoped>\n",
       "    .dataframe tbody tr th:only-of-type {\n",
       "        vertical-align: middle;\n",
       "    }\n",
       "\n",
       "    .dataframe tbody tr th {\n",
       "        vertical-align: top;\n",
       "    }\n",
       "\n",
       "    .dataframe thead th {\n",
       "        text-align: right;\n",
       "    }\n",
       "</style>\n",
       "<table border=\"1\" class=\"dataframe\">\n",
       "  <thead>\n",
       "    <tr style=\"text-align: right;\">\n",
       "      <th></th>\n",
       "      <th>Account</th>\n",
       "      <th>account_effect</th>\n",
       "    </tr>\n",
       "  </thead>\n",
       "  <tbody>\n",
       "    <tr>\n",
       "      <th>0</th>\n",
       "      <td>#payphoneography</td>\n",
       "      <td>71660.024390</td>\n",
       "    </tr>\n",
       "    <tr>\n",
       "      <th>1</th>\n",
       "      <td>/ johan</td>\n",
       "      <td>27914.571429</td>\n",
       "    </tr>\n",
       "    <tr>\n",
       "      <th>2</th>\n",
       "      <td>A Great Big World</td>\n",
       "      <td>53350.181818</td>\n",
       "    </tr>\n",
       "    <tr>\n",
       "      <th>3</th>\n",
       "      <td>A L E X A N D E R  W R A I T H</td>\n",
       "      <td>55983.400000</td>\n",
       "    </tr>\n",
       "    <tr>\n",
       "      <th>4</th>\n",
       "      <td>A L I Y A H  â¥ï¸ O â B R I E N</td>\n",
       "      <td>10738.147059</td>\n",
       "    </tr>\n",
       "    <tr>\n",
       "      <th>...</th>\n",
       "      <td>...</td>\n",
       "      <td>...</td>\n",
       "    </tr>\n",
       "    <tr>\n",
       "      <th>1266</th>\n",
       "      <td>ðð¦Meganð¦ð</td>\n",
       "      <td>16452.450000</td>\n",
       "    </tr>\n",
       "    <tr>\n",
       "      <th>1267</th>\n",
       "      <td>ð· Adeline Gressin âï¸</td>\n",
       "      <td>12218.400000</td>\n",
       "    </tr>\n",
       "    <tr>\n",
       "      <th>1268</th>\n",
       "      <td>ð¥Kenjon Barnerð¥</td>\n",
       "      <td>69078.000000</td>\n",
       "    </tr>\n",
       "    <tr>\n",
       "      <th>1269</th>\n",
       "      <td>ð· MISS BETTY ROSEð·</td>\n",
       "      <td>44182.613718</td>\n",
       "    </tr>\n",
       "    <tr>\n",
       "      <th>1270</th>\n",
       "      <td>ð¥Mazzy Star fansð¥</td>\n",
       "      <td>16484.755906</td>\n",
       "    </tr>\n",
       "  </tbody>\n",
       "</table>\n",
       "<p>1271 rows × 2 columns</p>\n",
       "</div>"
      ],
      "text/plain": [
       "                                  Account  account_effect\n",
       "0                        #payphoneography    71660.024390\n",
       "1                                 / johan    27914.571429\n",
       "2                       A Great Big World    53350.181818\n",
       "3          A L E X A N D E R  W R A I T H    55983.400000\n",
       "4     A L I Y A H  â¥ï¸ O â B R I E N    10738.147059\n",
       "...                                   ...             ...\n",
       "1266                ðð¦Meganð¦ð    16452.450000\n",
       "1267          ð· Adeline Gressin âï¸    12218.400000\n",
       "1268                ð¥Kenjon Barnerð¥    69078.000000\n",
       "1269             ð· MISS BETTY ROSEð·    44182.613718\n",
       "1270              ð¥Mazzy Star fansð¥    16484.755906\n",
       "\n",
       "[1271 rows x 2 columns]"
      ]
     },
     "execution_count": 231,
     "metadata": {},
     "output_type": "execute_result"
    }
   ],
   "source": [
    "account_effect_lookup"
   ]
  },
  {
   "cell_type": "code",
   "execution_count": 234,
   "id": "741c3399-5ab8-4ad8-b803-f662e7767f8e",
   "metadata": {},
   "outputs": [],
   "source": [
    "instagram_data = instagram_data.merge(account_effect_lookup, on = 'Account', how='left')"
   ]
  },
  {
   "cell_type": "markdown",
   "id": "5705ebbb-6528-4d0d-8241-8cd90d7964fa",
   "metadata": {},
   "source": [
    "Note the unprintable characters also exists in Account column."
   ]
  },
  {
   "cell_type": "code",
   "execution_count": 269,
   "id": "5196e264-668c-499a-b6fa-e2452fcfabf3",
   "metadata": {},
   "outputs": [],
   "source": [
    "instagram_data['Account'] = instagram_data['Account'].apply(remove_unprintable_char)"
   ]
  },
  {
   "cell_type": "markdown",
   "id": "c11592b3-65fe-4e7c-9fc4-d91d2e639837",
   "metadata": {},
   "source": [
    "### Encode Type"
   ]
  },
  {
   "cell_type": "code",
   "execution_count": 237,
   "id": "80fde483-0cf3-4204-b2ac-5b1083240678",
   "metadata": {},
   "outputs": [
    {
     "data": {
      "text/plain": [
       "array(['Album', 'Photo', 'Video'], dtype=object)"
      ]
     },
     "execution_count": 237,
     "metadata": {},
     "output_type": "execute_result"
    }
   ],
   "source": [
    "np.unique(instagram_data['Type'])"
   ]
  },
  {
   "cell_type": "code",
   "execution_count": 239,
   "id": "69a6debd-f6bf-467a-9b14-5959413dc65d",
   "metadata": {},
   "outputs": [],
   "source": [
    "instagram_data['Type_cate'] = instagram_data.loc[:,'Type'].astype(\"category\").cat.codes"
   ]
  },
  {
   "cell_type": "code",
   "execution_count": 241,
   "id": "9f23cf11-097c-43ac-acab-cb1e0d251f83",
   "metadata": {},
   "outputs": [
    {
     "data": {
      "text/plain": [
       "Index(['Account', 'User Name', 'Followers at Posting', 'Post Created', 'Type',\n",
       "       'Total Interactions', 'Likes', 'Comments', 'Views',\n",
       "       'Like and View Counts Disabled', 'Description', 'Image Text',\n",
       "       'Total Interactions (weighted on likes 1x Comments 1x)',\n",
       "       'Overperforming Score', 'PostCreatedYear', 'PostCreatedMonth',\n",
       "       'PostCreatedDay', 'PostCreatedHour', 'is_linked',\n",
       "       'Description_sentiment', 'Description_subjective', 'Description_len',\n",
       "       'Image_Text_len', 'account_effect', 'Type_cate'],\n",
       "      dtype='object')"
      ]
     },
     "execution_count": 241,
     "metadata": {},
     "output_type": "execute_result"
    }
   ],
   "source": [
    "instagram_data.columns"
   ]
  },
  {
   "cell_type": "markdown",
   "id": "2e8bf459-eccd-4e57-9a0e-804b5afb7b6b",
   "metadata": {
    "tags": []
   },
   "source": [
    "### Data check point"
   ]
  },
  {
   "cell_type": "code",
   "execution_count": 283,
   "id": "ad2e0a02-5ffd-4932-9ddd-c10ebfb316e8",
   "metadata": {},
   "outputs": [],
   "source": [
    "select_train_test_ind = train_test_ind[instagram_data.index]"
   ]
  },
  {
   "cell_type": "code",
   "execution_count": 284,
   "id": "e9ded659-9a27-488f-afd4-74c11d4c7007",
   "metadata": {},
   "outputs": [],
   "source": [
    "select_text_data = text_data.loc[instagram_data.index,:]"
   ]
  },
  {
   "cell_type": "code",
   "execution_count": 285,
   "id": "785768d7-752d-4382-9bd9-ae0ad6a14697",
   "metadata": {},
   "outputs": [],
   "source": [
    "transformed_instagram_data = instagram_data.join(select_train_test_ind)"
   ]
  },
  {
   "cell_type": "code",
   "execution_count": 286,
   "id": "c90083aa-3095-48fd-9da2-d78615864f89",
   "metadata": {},
   "outputs": [
    {
     "data": {
      "text/plain": [
       "Index(['Account', 'User Name', 'Followers at Posting', 'Post Created', 'Type',\n",
       "       'Total Interactions', 'Likes', 'Comments', 'Views',\n",
       "       'Like and View Counts Disabled', 'Description', 'Image Text',\n",
       "       'Total Interactions (weighted on likes 1x Comments 1x)',\n",
       "       'Overperforming Score', 'PostCreatedYear', 'PostCreatedMonth',\n",
       "       'PostCreatedDay', 'PostCreatedHour', 'is_linked',\n",
       "       'Description_sentiment', 'Description_subjective', 'Description_len',\n",
       "       'Image_Text_len', 'account_effect', 'Type_cate',\n",
       "       'Description_sentiment_score', 'Description_subjective_score',\n",
       "       'cvfold'],\n",
       "      dtype='object')"
      ]
     },
     "execution_count": 286,
     "metadata": {},
     "output_type": "execute_result"
    }
   ],
   "source": [
    "transformed_instagram_data.columns"
   ]
  },
  {
   "cell_type": "code",
   "execution_count": 293,
   "id": "fd06671b-2f13-4c90-9efc-d47b409691aa",
   "metadata": {},
   "outputs": [],
   "source": [
    "transformed_instagram_data.to_csv('ins_account_data.csv')\n",
    "select_text_data.to_csv('ins_text_data.csv')"
   ]
  },
  {
   "cell_type": "markdown",
   "id": "996eafd8-3c83-4f3d-b469-4977d12e266a",
   "metadata": {
    "jp-MarkdownHeadingCollapsed": true,
    "tags": []
   },
   "source": [
    "### Write to SQL"
   ]
  },
  {
   "cell_type": "code",
   "execution_count": 2,
   "id": "45dcdd0e-ae0d-4df7-9d58-0c7a8accf6b3",
   "metadata": {},
   "outputs": [],
   "source": [
    "user = \"admin\"\n",
    "password = \"tuIzaqrAKLMe32G0\"\n",
    "host = \"instagram-data-db.csik1hfjt1qb.us-east-1.rds.amazonaws.com\"\n",
    "port = 3306\n",
    "db = \"instagram_data\"\n",
    "connection_engine = sqlalchemy.create_engine('mysql+pymysql://' + user + ':' + password + '@' + host + ':' + str(port) + '/' + db , echo=True)"
   ]
  },
  {
   "cell_type": "code",
   "execution_count": 296,
   "id": "3606c76a-c7aa-4864-b86a-a65efaf1856d",
   "metadata": {},
   "outputs": [
    {
     "name": "stdout",
     "output_type": "stream",
     "text": [
      "2022-04-04 08:51:07,081 INFO sqlalchemy.engine.Engine SELECT COUNT(*) FROM information_schema.tables WHERE table_schema = %(table_schema)s AND table_name = %(table_name)s\n",
      "2022-04-04 08:51:07,082 INFO sqlalchemy.engine.Engine [cached since 475.3s ago] {'table_schema': 'instagram_data', 'table_name': 'ins_account_data'}\n",
      "2022-04-04 08:51:07,273 INFO sqlalchemy.engine.Engine SELECT COUNT(*) FROM information_schema.tables WHERE table_schema = %(table_schema)s AND table_name = %(table_name)s\n",
      "2022-04-04 08:51:07,273 INFO sqlalchemy.engine.Engine [cached since 475.5s ago] {'table_schema': 'instagram_data', 'table_name': 'ins_account_data'}\n",
      "2022-04-04 08:51:07,463 INFO sqlalchemy.engine.Engine SHOW FULL TABLES FROM `instagram_data`\n",
      "2022-04-04 08:51:07,464 INFO sqlalchemy.engine.Engine [raw sql] {}\n",
      "2022-04-04 08:51:07,540 INFO sqlalchemy.engine.Engine SHOW CREATE TABLE `ins_account_data`\n",
      "2022-04-04 08:51:07,541 INFO sqlalchemy.engine.Engine [raw sql] {}\n",
      "2022-04-04 08:51:07,672 INFO sqlalchemy.engine.Engine BEGIN (implicit)\n",
      "2022-04-04 08:51:07,673 INFO sqlalchemy.engine.Engine \n",
      "DROP TABLE ins_account_data\n",
      "2022-04-04 08:51:07,673 INFO sqlalchemy.engine.Engine [no key 0.00071s] {}\n",
      "2022-04-04 08:51:07,755 INFO sqlalchemy.engine.Engine COMMIT\n",
      "2022-04-04 08:51:07,884 INFO sqlalchemy.engine.Engine BEGIN (implicit)\n",
      "2022-04-04 08:51:07,889 INFO sqlalchemy.engine.Engine \n",
      "CREATE TABLE ins_account_data (\n",
      "\t`index` BIGINT, \n",
      "\t`Account` TEXT, \n",
      "\t`User Name` TEXT, \n",
      "\t`Followers at Posting` FLOAT(53), \n",
      "\t`Post Created` TIMESTAMP NULL, \n",
      "\t`Type` TEXT, \n",
      "\t`Total Interactions` BIGINT, \n",
      "\t`Likes` BIGINT, \n",
      "\t`Comments` BIGINT, \n",
      "\t`Views` BIGINT, \n",
      "\t`Like and View Counts Disabled` BOOL, \n",
      "\t`Description` TEXT, \n",
      "\t`Image Text` TEXT, \n",
      "\t`Total Interactions (weighted on likes 1x Comments 1x)` BIGINT, \n",
      "\t`Overperforming Score` FLOAT(53), \n",
      "\t`PostCreatedYear` BIGINT, \n",
      "\t`PostCreatedMonth` BIGINT, \n",
      "\t`PostCreatedDay` BIGINT, \n",
      "\t`PostCreatedHour` BIGINT, \n",
      "\tis_linked BIGINT, \n",
      "\t`Description_sentiment` TEXT, \n",
      "\t`Description_subjective` TEXT, \n",
      "\t`Description_len` BIGINT, \n",
      "\t`Image_Text_len` FLOAT(53), \n",
      "\taccount_effect FLOAT(53), \n",
      "\t`Type_cate` SMALLINT, \n",
      "\t`Description_sentiment_score` FLOAT(53), \n",
      "\t`Description_subjective_score` FLOAT(53), \n",
      "\tcvfold TEXT\n",
      ")\n",
      "\n",
      "\n",
      "2022-04-04 08:51:07,889 INFO sqlalchemy.engine.Engine [no key 0.00083s] {}\n",
      "2022-04-04 08:51:07,980 INFO sqlalchemy.engine.Engine CREATE INDEX ix_ins_account_data_index ON ins_account_data (`index`)\n",
      "2022-04-04 08:51:07,981 INFO sqlalchemy.engine.Engine [no key 0.00089s] {}\n",
      "2022-04-04 08:51:08,070 INFO sqlalchemy.engine.Engine COMMIT\n",
      "2022-04-04 08:51:08,840 INFO sqlalchemy.engine.Engine BEGIN (implicit)\n",
      "2022-04-04 08:51:20,598 INFO sqlalchemy.engine.Engine INSERT INTO ins_account_data (`index`, `Account`, `User Name`, `Followers at Posting`, `Post Created`, `Type`, `Total Interactions`, `Likes`, `Comments`, `Views`, `Like and View Counts Disabled`, `Description`, `Image Text`, `Total Interactions (weighted on likes 1x Comments 1x)`, `Overperforming Score`, `PostCreatedYear`, `PostCreatedMonth`, `PostCreatedDay`, `PostCreatedHour`, is_linked, `Description_sentiment`, `Description_subjective`, `Description_len`, `Image_Text_len`, account_effect, `Type_cate`, `Description_sentiment_score`, `Description_subjective_score`, cvfold) VALUES (%(index)s, %(Account)s, %(User Name)s, %(Followers at Posting)s, %(Post Created)s, %(Type)s, %(Total Interactions)s, %(Likes)s, %(Comments)s, %(Views)s, %(Like and View Counts Disabled)s, %(Description)s, %(Image Text)s, %(Total Interactions Aweighted on likes 1x Comments 1xZ)s, %(Overperforming Score)s, %(PostCreatedYear)s, %(PostCreatedMonth)s, %(PostCreatedDay)s, %(PostCreatedHour)s, %(is_linked)s, %(Description_sentiment)s, %(Description_subjective)s, %(Description_len)s, %(Image_Text_len)s, %(account_effect)s, %(Type_cate)s, %(Description_sentiment_score)s, %(Description_subjective_score)s, %(cvfold)s)\n",
      "2022-04-04 08:51:20,599 INFO sqlalchemy.engine.Engine [generated in 10.67291s] ({'index': 0, 'Account': 'Rebecca Ferguson', 'User Name': 'officialrebeccaferguson', 'Followers at Posting': 404268.0, 'Post Created': datetime.datetime(2021, 10, 17, 13, 29, 58, tzinfo=<DstTzInfo 'US/Eastern' EDT-1 day, 20:00:00 DST>), 'Type': 'Album', 'Total Interactions': 104703, 'Likes': 104238, 'Comments': 465, 'Views': 0, 'Like and View Counts Disabled': 0, 'Description': 'We   ve got our  London  eye on you.      dunemovie out Oct. 22    DuneMovie', 'Image Text': None, 'Total Interactions Aweighted on likes 1x Comments 1xZ': 104703, 'Overperforming Score': 3.29, 'PostCreatedYear': 2021, 'PostCreatedMonth': 10, 'PostCreatedDay': 6, 'PostCreatedHour': 13, 'is_linked': 1, 'Description_sentiment': 'Negative', 'Description_subjective': 'Objective', 'Description_len': 76, 'Image_Text_len': 0.0, 'account_effect': 297234.53846153844, 'Type_cate': 0, 'Description_sentiment_score': 0.0, 'Description_subjective_score': 0.0, 'cvfold': 'train'}, {'index': 1, 'Account': 'Rebecca Ferguson', 'User Name': 'officialrebeccaferguson', 'Followers at Posting': 490753.0, 'Post Created': datetime.datetime(2021, 11, 15, 11, 42, 52, tzinfo=<DstTzInfo 'US/Eastern' EST-1 day, 19:00:00 STD>), 'Type': 'Album', 'Total Interactions': 102836, 'Likes': 102426, 'Comments': 410, 'Views': 0, 'Like and View Counts Disabled': 0, 'Description': 'Such an honour and delight to know I   m partnering up with this one again  Javier  I   ll See you in the desert my friend for Dune       .  DuneMovie', 'Image Text': None, 'Total Interactions Aweighted on likes 1x Comments 1xZ': 102836, 'Overperforming Score': 2.74, 'PostCreatedYear': 2021, 'PostCreatedMonth': 11, 'PostCreatedDay': 0, 'PostCreatedHour': 11, 'is_linked': 1, 'Description_sentiment': 'Negative', 'Description_subjective': 'Objective', 'Description_len': 150, 'Image_Text_len': 0.0, 'account_effect': 297234.53846153844, 'Type_cate': 0, 'Description_sentiment_score': 0.0, 'Description_subjective_score': 0.5, 'cvfold': 'train'}, {'index': 2, 'Account': 'Rebecca Ferguson', 'User Name': 'officialrebeccaferguson', 'Followers at Posting': 472941.0, 'Post Created': datetime.datetime(2021, 11, 4, 17, 52, 59, tzinfo=<DstTzInfo 'US/Eastern' EDT-1 day, 20:00:00 DST>), 'Type': 'Photo', 'Total Interactions': 101672, 'Likes': 101230, 'Comments': 442, 'Views': 0, 'Like and View Counts Disabled': 0, 'Description': '     by  prideofgypsies  DuneMovie', 'Image Text': None, 'Total Interactions Aweighted on likes 1x Comments 1xZ': 101672, 'Overperforming Score': 3.85, 'PostCreatedYear': 2021, 'PostCreatedMonth': 11, 'PostCreatedDay': 3, 'PostCreatedHour': 17, 'is_linked': 1, 'Description_sentiment': 'Negative', 'Description_subjective': 'Objective', 'Description_len': 34, 'Image_Text_len': 0.0, 'account_effect': 297234.53846153844, 'Type_cate': 1, 'Description_sentiment_score': 0.0, 'Description_subjective_score': 0.0, 'cvfold': 'train'}, {'index': 3, 'Account': 'Rebecca Ferguson', 'User Name': 'officialrebeccaferguson', 'Followers at Posting': 333044.0, 'Post Created': datetime.datetime(2021, 8, 6, 16, 40, 38, tzinfo=<DstTzInfo 'US/Eastern' EDT-1 day, 20:00:00 DST>), 'Type': 'Photo', 'Total Interactions': 99049, 'Likes': 97849, 'Comments': 1200, 'Views': 0, 'Like and View Counts Disabled': 0, 'Description': 'And That   s a wrap for me on MI7  Thank you my wonderfully talented   tolerant team. photo taken by  christophermcquarrie in between setups.', 'Image Text': None, 'Total Interactions Aweighted on likes 1x Comments 1xZ': 99049, 'Overperforming Score': 4.53, 'PostCreatedYear': 2021, 'PostCreatedMonth': 8, 'PostCreatedDay': 4, 'PostCreatedHour': 16, 'is_linked': 1, 'Description_sentiment': 'Positive', 'Description_subjective': 'Subjective', 'Description_len': 141, 'Image_Text_len': 0.0, 'account_effect': 297234.53846153844, 'Type_cate': 1, 'Description_sentiment_score': 0.7, 'Description_subjective_score': 0.9, 'cvfold': 'train'}, {'index': 4, 'Account': 'Rebecca Ferguson', 'User Name': 'officialrebeccaferguson', 'Followers at Posting': 533227.0, 'Post Created': datetime.datetime(2021, 12, 31, 15, 39, 14, tzinfo=<DstTzInfo 'US/Eastern' EST-1 day, 19:00:00 STD>), 'Type': 'Album', 'Total Interactions': 98218, 'Likes': 97230, 'Comments': 988, 'Views': 0, 'Like and View Counts Disabled': 0, 'Description': 'Come in 2022  I   m ready for you   Just make sure it   s an adventure   HappyNewYear', 'Image Text': None, 'Total Interactions Aweighted on likes 1x Comments 1xZ': 98218, 'Overperforming Score': 2.4, 'PostCreatedYear': 2021, 'PostCreatedMonth': 12, 'PostCreatedDay': 4, 'PostCreatedHour': 15, 'is_linked': 1, 'Description_sentiment': 'Positive', 'Description_subjective': 'Subjective', 'Description_len': 85, 'Image_Text_len': 0.0, 'account_effect': 297234.53846153844, 'Type_cate': 0, 'Description_sentiment_score': 0.35, 'Description_subjective_score': 0.6944444444444444, 'cvfold': 'train'}, {'index': 5, 'Account': 'Angela Trimbur', 'User Name': 'angelatrimbur', 'Followers at Posting': 74019.0, 'Post Created': datetime.datetime(2020, 6, 2, 23, 56, 21, tzinfo=<DstTzInfo 'US/Eastern' EDT-1 day, 20:00:00 DST>), 'Type': 'Photo', 'Total Interactions': 97628, 'Likes': 97613, 'Comments': 15, 'Views': 0, 'Like and View Counts Disabled': 0, 'Description': ' defundthepolice       ', 'Image Text': None, 'Total Interactions Aweighted on likes 1x Comments 1xZ': 97628, 'Overperforming Score': 36.37, 'PostCreatedYear': 2020, 'PostCreatedMonth': 6, 'PostCreatedDay': 1, 'PostCreatedHour': 23, 'is_linked': 1, 'Description_sentiment': 'Negative', 'Description_subjective': 'Objective', 'Description_len': 23, 'Image_Text_len': 0.0, 'account_effect': 57407.80139026812, 'Type_cate': 1, 'Description_sentiment_score': 0.0, 'Description_subjective_score': 0.0, 'cvfold': 'train'}, {'index': 6, 'Account': 'Rebecca Ferguson', 'User Name': 'officialrebeccaferguson', 'Followers at Posting': 542787.0, 'Post Created': datetime.datetime(2022, 1, 11, 10, 44, 22, tzinfo=<DstTzInfo 'US/Eastern' EST-1 day, 19:00:00 STD>), 'Type': 'Photo', 'Total Interactions': 96106, 'Likes': 95408, 'Comments': 698, 'Views': 0, 'Like and View Counts Disabled': 0, 'Description': 'Memories in  portobelloldn', 'Image Text': None, 'Total Interactions Aweighted on likes 1x Comments 1xZ': 96106, 'Overperforming Score': 3.52, 'PostCreatedYear': 2022, 'PostCreatedMonth': 1, 'PostCreatedDay': 1, 'PostCreatedHour': 10, 'is_linked': 1, 'Description_sentiment': 'Negative', 'Description_subjective': 'Objective', 'Description_len': 26, 'Image_Text_len': 0.0, 'account_effect': 297234.53846153844, 'Type_cate': 1, 'Description_sentiment_score': 0.0, 'Description_subjective_score': 0.0, 'cvfold': 'train'}, {'index': 7, 'Account': 'Rebecca Ferguson', 'User Name': 'officialrebeccaferguson', 'Followers at Posting': 438621.0, 'Post Created': datetime.datetime(2021, 10, 26, 11, 29, 57, tzinfo=<DstTzInfo 'US/Eastern' EDT-1 day, 20:00:00 DST>), 'Type': 'Album', 'Total Interactions': 95881, 'Likes': 95285, 'Comments': 596, 'Views': 0, 'Like and View Counts Disabled': 0, 'Description': 'Don   t mess  MissionImpossible', 'Image Text': None, 'Total Interactions Aweighted on likes 1x Comments 1xZ': 95881, 'Overperforming Score': 2.67, 'PostCreatedYear': 2021, 'PostCreatedMonth': 10, 'PostCreatedDay': 1, 'PostCreatedHour': 11, 'is_linked': 1, 'Description_sentiment': 'Negative', 'Description_subjective': 'Objective', 'Description_len': 31, 'Image_Text_len': 0.0, 'account_effect': 297234.53846153844, 'Type_cate': 0, 'Description_sentiment_score': -0.175, 'Description_subjective_score': 0.175, 'cvfold': 'train'}  ... displaying 10 of 256140 total bound parameter sets ...  {'index': 256138, 'Account': 'Kit Lee     ', 'User Name': 'itskitlee', 'Followers at Posting': 44012.0, 'Post Created': datetime.datetime(2017, 11, 25, 8, 52, 37, tzinfo=<DstTzInfo 'US/Eastern' EST-1 day, 19:00:00 STD>), 'Type': 'Photo', 'Total Interactions': 747, 'Likes': 734, 'Comments': 13, 'Views': 0, 'Like and View Counts Disabled': 0, 'Description': 'My toddler niece B drinks from a plastic straw to prevent tooth decay and cavities  her collection of plastic straws are reused until it is deemed un ... (704 characters truncated) ... e future. Let   s build a sustainable future and love our planet. Refuse the straw.  refusethestraw  weareprojectzero  sustainableliving  ecoandproud', 'Image Text': None, 'Total Interactions Aweighted on likes 1x Comments 1xZ': 747, 'Overperforming Score': 2.52, 'PostCreatedYear': 2017, 'PostCreatedMonth': 11, 'PostCreatedDay': 5, 'PostCreatedHour': 8, 'is_linked': 1, 'Description_sentiment': 'Positive', 'Description_subjective': 'Objective', 'Description_len': 1002, 'Image_Text_len': 0.0, 'account_effect': 36941.444277108436, 'Type_cate': 1, 'Description_sentiment_score': 0.029870129870129877, 'Description_subjective_score': 0.43917748917748917, 'cvfold': 'train'}, {'index': 256139, 'Account': 'Quincy Acy', 'User Name': 'quincyacy', 'Followers at Posting': 65621.0, 'Post Created': datetime.datetime(2017, 8, 12, 15, 41, 59, tzinfo=<DstTzInfo 'US/Eastern' EDT-1 day, 20:00:00 DST>), 'Type': 'Photo', 'Total Interactions': 746, 'Likes': 738, 'Comments': 8, 'Views': 0, 'Like and View Counts Disabled': 0, 'Description': 'Happy Day of Birth to a real one               Young Dot  d_dedmon3  AMG', 'Image Text': None, 'Total Interactions Aweighted on likes 1x Comments 1xZ': 746, 'Overperforming Score': -1.46, 'PostCreatedYear': 2017, 'PostCreatedMonth': 8, 'PostCreatedDay': 5, 'PostCreatedHour': 15, 'is_linked': 1, 'Description_sentiment': 'Positive', 'Description_subjective': 'Subjective', 'Description_len': 72, 'Image_Text_len': 0.0, 'account_effect': 60468.05362776025, 'Type_cate': 1, 'Description_sentiment_score': 0.3666666666666667, 'Description_subjective_score': 0.5666666666666668, 'cvfold': 'train'})\n",
      "2022-04-04 08:51:50,847 INFO sqlalchemy.engine.Engine COMMIT\n"
     ]
    }
   ],
   "source": [
    "transformed_instagram_data.to_sql(con=connection_engine, name='ins_account_data', if_exists='replace', index=True)"
   ]
  },
  {
   "cell_type": "code",
   "execution_count": 297,
   "id": "1be38c92-8467-4650-96ea-b0a896b8f833",
   "metadata": {},
   "outputs": [
    {
     "name": "stdout",
     "output_type": "stream",
     "text": [
      "2022-04-04 08:51:55,834 INFO sqlalchemy.engine.Engine SELECT COUNT(*) FROM information_schema.tables WHERE table_schema = %(table_schema)s AND table_name = %(table_name)s\n",
      "2022-04-04 08:51:55,835 INFO sqlalchemy.engine.Engine [cached since 524s ago] {'table_schema': 'instagram_data', 'table_name': 'ins_text_data'}\n",
      "2022-04-04 08:51:55,986 INFO sqlalchemy.engine.Engine BEGIN (implicit)\n",
      "2022-04-04 08:51:55,992 INFO sqlalchemy.engine.Engine \n",
      "CREATE TABLE ins_text_data (\n",
      "\t`index` BIGINT, \n",
      "\t`WC` BIGINT, \n",
      "\t`Analytic` FLOAT(53), \n",
      "\t`Clout` FLOAT(53), \n",
      "\t`Authentic` FLOAT(53), \n",
      "\t`Tone` FLOAT(53), \n",
      "\t`WPS` FLOAT(53), \n",
      "\t`Sixltr` FLOAT(53), \n",
      "\t`Dic` FLOAT(53), \n",
      "\t`function` FLOAT(53), \n",
      "\tpronoun FLOAT(53), \n",
      "\tppron FLOAT(53), \n",
      "\ti FLOAT(53), \n",
      "\twe FLOAT(53), \n",
      "\tyou FLOAT(53), \n",
      "\tshehe FLOAT(53), \n",
      "\tthey FLOAT(53), \n",
      "\tipron FLOAT(53), \n",
      "\tarticle FLOAT(53), \n",
      "\tprep FLOAT(53), \n",
      "\tauxverb FLOAT(53), \n",
      "\tadverb FLOAT(53), \n",
      "\tconj FLOAT(53), \n",
      "\tnegate FLOAT(53), \n",
      "\tverb FLOAT(53), \n",
      "\tadj FLOAT(53), \n",
      "\tcompare FLOAT(53), \n",
      "\tinterrog FLOAT(53), \n",
      "\tnumber FLOAT(53), \n",
      "\tquant FLOAT(53), \n",
      "\taffect FLOAT(53), \n",
      "\tposemo FLOAT(53), \n",
      "\tnegemo FLOAT(53), \n",
      "\tanx FLOAT(53), \n",
      "\tanger FLOAT(53), \n",
      "\tsad FLOAT(53), \n",
      "\tsocial FLOAT(53), \n",
      "\tfamily FLOAT(53), \n",
      "\tfriend FLOAT(53), \n",
      "\tfemale FLOAT(53), \n",
      "\tmale FLOAT(53), \n",
      "\tcogproc FLOAT(53), \n",
      "\tinsight FLOAT(53), \n",
      "\tcause FLOAT(53), \n",
      "\tdiscrep FLOAT(53), \n",
      "\ttentat FLOAT(53), \n",
      "\tcertain FLOAT(53), \n",
      "\tdiffer FLOAT(53), \n",
      "\tpercept FLOAT(53), \n",
      "\tsee FLOAT(53), \n",
      "\thear FLOAT(53), \n",
      "\tfeel FLOAT(53), \n",
      "\tbio FLOAT(53), \n",
      "\tbody FLOAT(53), \n",
      "\thealth FLOAT(53), \n",
      "\tsexual FLOAT(53), \n",
      "\tingest FLOAT(53), \n",
      "\tdrives FLOAT(53), \n",
      "\taffiliation FLOAT(53), \n",
      "\tachieve FLOAT(53), \n",
      "\tpower FLOAT(53), \n",
      "\treward FLOAT(53), \n",
      "\trisk FLOAT(53), \n",
      "\tfocuspast FLOAT(53), \n",
      "\tfocuspresent FLOAT(53), \n",
      "\tfocusfuture FLOAT(53), \n",
      "\trelativ FLOAT(53), \n",
      "\tmotion FLOAT(53), \n",
      "\tspace FLOAT(53), \n",
      "\ttime FLOAT(53), \n",
      "\twork FLOAT(53), \n",
      "\tleisure FLOAT(53), \n",
      "\thome FLOAT(53), \n",
      "\tmoney FLOAT(53), \n",
      "\trelig FLOAT(53), \n",
      "\tdeath FLOAT(53), \n",
      "\tinformal FLOAT(53), \n",
      "\tswear FLOAT(53), \n",
      "\tnetspeak FLOAT(53), \n",
      "\tassent FLOAT(53), \n",
      "\tnonflu FLOAT(53), \n",
      "\tfiller FLOAT(53), \n",
      "\t`AllPunc` FLOAT(53), \n",
      "\t`Period` FLOAT(53), \n",
      "\t`Comma` FLOAT(53), \n",
      "\t`Colon` FLOAT(53), \n",
      "\t`SemiC` FLOAT(53), \n",
      "\t`QMark` FLOAT(53), \n",
      "\t`Exclam` FLOAT(53), \n",
      "\t`Dash` FLOAT(53), \n",
      "\t`Quote` FLOAT(53), \n",
      "\t`Apostro` FLOAT(53), \n",
      "\t`Parenth` FLOAT(53), \n",
      "\t`OtherP` FLOAT(53)\n",
      ")\n",
      "\n",
      "\n",
      "2022-04-04 08:51:55,993 INFO sqlalchemy.engine.Engine [no key 0.00086s] {}\n",
      "2022-04-04 08:51:56,132 INFO sqlalchemy.engine.Engine CREATE INDEX ix_ins_text_data_index ON ins_text_data (`index`)\n",
      "2022-04-04 08:51:56,133 INFO sqlalchemy.engine.Engine [no key 0.00085s] {}\n",
      "2022-04-04 08:51:56,237 INFO sqlalchemy.engine.Engine COMMIT\n",
      "2022-04-04 08:51:58,210 INFO sqlalchemy.engine.Engine BEGIN (implicit)\n",
      "2022-04-04 08:52:38,699 INFO sqlalchemy.engine.Engine INSERT INTO ins_text_data (`index`, `WC`, `Analytic`, `Clout`, `Authentic`, `Tone`, `WPS`, `Sixltr`, `Dic`, `function`, pronoun, ppron, i, we, you, shehe, they, ipron, article, prep, auxverb, adverb, conj, negate, verb, adj, compare, interrog, number, quant, affect, posemo, negemo, anx, anger, sad, social, family, friend, female, male, cogproc, insight, cause, discrep, tentat, certain, differ, percept, see, hear, feel, bio, body, health, sexual, ingest, drives, affiliation, achieve, power, reward, risk, focuspast, focuspresent, focusfuture, relativ, motion, space, time, work, leisure, home, money, relig, death, informal, swear, netspeak, assent, nonflu, filler, `AllPunc`, `Period`, `Comma`, `Colon`, `SemiC`, `QMark`, `Exclam`, `Dash`, `Quote`, `Apostro`, `Parenth`, `OtherP`) VALUES (%(index)s, %(WC)s, %(Analytic)s, %(Clout)s, %(Authentic)s, %(Tone)s, %(WPS)s, %(Sixltr)s, %(Dic)s, %(function)s, %(pronoun)s, %(ppron)s, %(i)s, %(we)s, %(you)s, %(shehe)s, %(they)s, %(ipron)s, %(article)s, %(prep)s, %(auxverb)s, %(adverb)s, %(conj)s, %(negate)s, %(verb)s, %(adj)s, %(compare)s, %(interrog)s, %(number)s, %(quant)s, %(affect)s, %(posemo)s, %(negemo)s, %(anx)s, %(anger)s, %(sad)s, %(social)s, %(family)s, %(friend)s, %(female)s, %(male)s, %(cogproc)s, %(insight)s, %(cause)s, %(discrep)s, %(tentat)s, %(certain)s, %(differ)s, %(percept)s, %(see)s, %(hear)s, %(feel)s, %(bio)s, %(body)s, %(health)s, %(sexual)s, %(ingest)s, %(drives)s, %(affiliation)s, %(achieve)s, %(power)s, %(reward)s, %(risk)s, %(focuspast)s, %(focuspresent)s, %(focusfuture)s, %(relativ)s, %(motion)s, %(space)s, %(time)s, %(work)s, %(leisure)s, %(home)s, %(money)s, %(relig)s, %(death)s, %(informal)s, %(swear)s, %(netspeak)s, %(assent)s, %(nonflu)s, %(filler)s, %(AllPunc)s, %(Period)s, %(Comma)s, %(Colon)s, %(SemiC)s, %(QMark)s, %(Exclam)s, %(Dash)s, %(Quote)s, %(Apostro)s, %(Parenth)s, %(OtherP)s)\n",
      "2022-04-04 08:52:38,700 INFO sqlalchemy.engine.Engine [generated in 36.88898s] ({'index': 0, 'WC': 12, 'Analytic': 62.04, 'Clout': 99.0, 'Authentic': 23.51, 'Tone': 25.77, 'WPS': 3.0, 'Sixltr': 16.67, 'Dic': 58.33, 'function': 41.67, 'pronoun': 25.0, 'ppron': 25.0, 'i': 0.0, 'we': 16.67, 'you': 8.33, 'shehe': 0.0, 'they': 0.0, 'ipron': 0.0, 'article': 0.0, 'prep': 16.67, 'auxverb': 8.33, 'adverb': 0.0, 'conj': 0.0, 'negate': 0.0, 'verb': 25.0, 'adj': 0.0, 'compare': 0.0, 'interrog': 0.0, 'number': 8.33, 'quant': 0.0, 'affect': 0.0, 'posemo': 0.0, 'negemo': 0.0, 'anx': 0.0, 'anger': 0.0, 'sad': 0.0, 'social': 25.0, 'family': 0.0, 'friend': 0.0, 'female': 0.0, 'male': 0.0, 'cogproc': 0.0, 'insight': 0.0, 'cause': 0.0, 'discrep': 0.0, 'tentat': 0.0, 'certain': 0.0, 'differ': 0.0, 'percept': 8.33, 'see': 8.33, 'hear': 0.0, 'feel': 0.0, 'bio': 8.33, 'body': 8.33, 'health': 0.0, 'sexual': 0.0, 'ingest': 0.0, 'drives': 25.0, 'affiliation': 16.67, 'achieve': 0.0, 'power': 0.0, 'reward': 8.33, 'risk': 0.0, 'focuspast': 16.67, 'focuspresent': 0.0, 'focusfuture': 0.0, 'relativ': 16.67, 'motion': 0.0, 'space': 16.67, 'time': 0.0, 'work': 0.0, 'leisure': 0.0, 'home': 0.0, 'money': 0.0, 'relig': 0.0, 'death': 0.0, 'informal': 0.0, 'swear': 0.0, 'netspeak': 0.0, 'assent': 0.0, 'nonflu': 0.0, 'filler': 0.0, 'AllPunc': 75.0, 'Period': 16.67, 'Comma': 0.0, 'Colon': 0.0, 'SemiC': 0.0, 'QMark': 0.0, 'Exclam': 16.67, 'Dash': 0.0, 'Quote': 0.0, 'Apostro': 8.33, 'Parenth': 16.67, 'OtherP': 16.67}, {'index': 1, 'WC': 3, 'Analytic': 93.26, 'Clout': 50.0, 'Authentic': 1.0, 'Tone': 25.77, 'WPS': 3.0, 'Sixltr': 33.33, 'Dic': 33.33, 'function': 0.0, 'pronoun': 0.0, 'ppron': 0.0, 'i': 0.0, 'we': 0.0, 'you': 0.0, 'shehe': 0.0, 'they': 0.0, 'ipron': 0.0, 'article': 0.0, 'prep': 0.0, 'auxverb': 0.0, 'adverb': 0.0, 'conj': 0.0, 'negate': 0.0, 'verb': 0.0, 'adj': 0.0, 'compare': 0.0, 'interrog': 0.0, 'number': 0.0, 'quant': 0.0, 'affect': 0.0, 'posemo': 0.0, 'negemo': 0.0, 'anx': 0.0, 'anger': 0.0, 'sad': 0.0, 'social': 0.0, 'family': 0.0, 'friend': 0.0, 'female': 0.0, 'male': 0.0, 'cogproc': 0.0, 'insight': 0.0, 'cause': 0.0, 'discrep': 0.0, 'tentat': 0.0, 'certain': 0.0, 'differ': 0.0, 'percept': 0.0, 'see': 0.0, 'hear': 0.0, 'feel': 0.0, 'bio': 0.0, 'body': 0.0, 'health': 0.0, 'sexual': 0.0, 'ingest': 0.0, 'drives': 0.0, 'affiliation': 0.0, 'achieve': 0.0, 'power': 0.0, 'reward': 0.0, 'risk': 0.0, 'focuspast': 0.0, 'focuspresent': 0.0, 'focusfuture': 0.0, 'relativ': 0.0, 'motion': 0.0, 'space': 0.0, 'time': 0.0, 'work': 0.0, 'leisure': 33.33, 'home': 0.0, 'money': 0.0, 'relig': 0.0, 'death': 0.0, 'informal': 0.0, 'swear': 0.0, 'netspeak': 0.0, 'assent': 0.0, 'nonflu': 0.0, 'filler': 0.0, 'AllPunc': 33.33, 'Period': 0.0, 'Comma': 0.0, 'Colon': 0.0, 'SemiC': 0.0, 'QMark': 0.0, 'Exclam': 0.0, 'Dash': 0.0, 'Quote': 0.0, 'Apostro': 0.0, 'Parenth': 0.0, 'OtherP': 33.33}, {'index': 2, 'WC': 26, 'Analytic': 74.94, 'Clout': 64.99, 'Authentic': 83.83, 'Tone': 99.0, 'WPS': 8.67, 'Sixltr': 11.54, 'Dic': 84.62, 'function': 57.69, 'pronoun': 19.23, 'ppron': 15.38, 'i': 11.54, 'we': 0.0, 'you': 3.85, 'shehe': 0.0, 'they': 0.0, 'ipron': 3.85, 'article': 7.69, 'prep': 19.23, 'auxverb': 7.69, 'adverb': 7.69, 'conj': 3.85, 'negate': 0.0, 'verb': 15.38, 'adj': 0.0, 'compare': 0.0, 'interrog': 0.0, 'number': 3.85, 'quant': 0.0, 'affect': 7.69, 'posemo': 7.69, 'negemo': 0.0, 'anx': 0.0, 'anger': 0.0, 'sad': 0.0, 'social': 11.54, 'family': 0.0, 'friend': 7.69, 'female': 0.0, 'male': 0.0, 'cogproc': 3.85, 'insight': 3.85, 'cause': 0.0, 'discrep': 0.0, 'tentat': 0.0, 'certain': 0.0, 'differ': 0.0, 'percept': 3.85, 'see': 3.85, 'hear': 0.0, 'feel': 0.0, 'bio': 0.0, 'body': 0.0, 'health': 0.0, 'sexual': 0.0, 'ingest': 0.0, 'drives': 15.38, 'affiliation': 7.69, 'achieve': 3.85, 'power': 7.69, 'reward': 0.0, 'risk': 0.0, 'focuspast': 0.0, 'focuspresent': 11.54, 'focusfuture': 3.85, 'relativ': 11.54, 'motion': 0.0, 'space': 7.69, 'time': 3.85, 'work': 0.0, 'leisure': 0.0, 'home': 0.0, 'money': 0.0, 'relig': 0.0, 'death': 0.0, 'informal': 0.0, 'swear': 0.0, 'netspeak': 0.0, 'assent': 0.0, 'nonflu': 0.0, 'filler': 0.0, 'AllPunc': 23.08, 'Period': 3.85, 'Comma': 3.85, 'Colon': 0.0, 'SemiC': 0.0, 'QMark': 0.0, 'Exclam': 3.85, 'Dash': 0.0, 'Quote': 0.0, 'Apostro': 7.69, 'Parenth': 0.0, 'OtherP': 3.85}, {'index': 3, 'WC': 3, 'Analytic': 99.0, 'Clout': 50.0, 'Authentic': 1.0, 'Tone': 25.77, 'WPS': 3.0, 'Sixltr': 66.67, 'Dic': 33.33, 'function': 33.33, 'pronoun': 0.0, 'ppron': 0.0, 'i': 0.0, 'we': 0.0, 'you': 0.0, 'shehe': 0.0, 'they': 0.0, 'ipron': 0.0, 'article': 0.0, 'prep': 33.33, 'auxverb': 0.0, 'adverb': 0.0, 'conj': 0.0, 'negate': 0.0, 'verb': 0.0, 'adj': 0.0, 'compare': 0.0, 'interrog': 0.0, 'number': 0.0, 'quant': 0.0, 'affect': 0.0, 'posemo': 0.0, 'negemo': 0.0, 'anx': 0.0, 'anger': 0.0, 'sad': 0.0, 'social': 0.0, 'family': 0.0, 'friend': 0.0, 'female': 0.0, 'male': 0.0, 'cogproc': 0.0, 'insight': 0.0, 'cause': 0.0, 'discrep': 0.0, 'tentat': 0.0, 'certain': 0.0, 'differ': 0.0, 'percept': 0.0, 'see': 0.0, 'hear': 0.0, 'feel': 0.0, 'bio': 0.0, 'body': 0.0, 'health': 0.0, 'sexual': 0.0, 'ingest': 0.0, 'drives': 0.0, 'affiliation': 0.0, 'achieve': 0.0, 'power': 0.0, 'reward': 0.0, 'risk': 0.0, 'focuspast': 0.0, 'focuspresent': 0.0, 'focusfuture': 0.0, 'relativ': 0.0, 'motion': 0.0, 'space': 0.0, 'time': 0.0, 'work': 0.0, 'leisure': 0.0, 'home': 0.0, 'money': 0.0, 'relig': 0.0, 'death': 0.0, 'informal': 0.0, 'swear': 0.0, 'netspeak': 0.0, 'assent': 0.0, 'nonflu': 0.0, 'filler': 0.0, 'AllPunc': 66.67, 'Period': 0.0, 'Comma': 0.0, 'Colon': 0.0, 'SemiC': 0.0, 'QMark': 0.0, 'Exclam': 0.0, 'Dash': 0.0, 'Quote': 0.0, 'Apostro': 0.0, 'Parenth': 0.0, 'OtherP': 66.67}, {'index': 4, 'WC': 22, 'Analytic': 93.26, 'Clout': 67.52, 'Authentic': 31.94, 'Tone': 99.0, 'WPS': 7.33, 'Sixltr': 22.73, 'Dic': 81.82, 'function': 50.0, 'pronoun': 18.18, 'ppron': 13.64, 'i': 9.09, 'we': 0.0, 'you': 4.55, 'shehe': 0.0, 'they': 0.0, 'ipron': 4.55, 'article': 4.55, 'prep': 22.73, 'auxverb': 4.55, 'adverb': 0.0, 'conj': 4.55, 'negate': 0.0, 'verb': 13.64, 'adj': 0.0, 'compare': 0.0, 'interrog': 0.0, 'number': 0.0, 'quant': 0.0, 'affect': 18.18, 'posemo': 18.18, 'negemo': 0.0, 'anx': 0.0, 'anger': 0.0, 'sad': 0.0, 'social': 9.09, 'family': 0.0, 'friend': 0.0, 'female': 0.0, 'male': 0.0, 'cogproc': 0.0, 'insight': 0.0, 'cause': 0.0, 'discrep': 0.0, 'tentat': 0.0, 'certain': 0.0, 'differ': 0.0, 'percept': 4.55, 'see': 4.55, 'hear': 0.0, 'feel': 0.0, 'bio': 0.0, 'body': 0.0, 'health': 0.0, 'sexual': 0.0, 'ingest': 0.0, 'drives': 9.09, 'affiliation': 4.55, 'achieve': 4.55, 'power': 0.0, 'reward': 4.55, 'risk': 0.0, 'focuspast': 4.55, 'focuspresent': 9.09, 'focusfuture': 0.0, 'relativ': 9.09, 'motion': 0.0, 'space': 9.09, 'time': 0.0, 'work': 4.55, 'leisure': 4.55, 'home': 0.0, 'money': 0.0, 'relig': 0.0, 'death': 0.0, 'informal': 0.0, 'swear': 0.0, 'netspeak': 0.0, 'assent': 0.0, 'nonflu': 0.0, 'filler': 0.0, 'AllPunc': 27.27, 'Period': 9.09, 'Comma': 0.0, 'Colon': 0.0, 'SemiC': 0.0, 'QMark': 0.0, 'Exclam': 4.55, 'Dash': 0.0, 'Quote': 0.0, 'Apostro': 4.55, 'Parenth': 0.0, 'OtherP': 9.09}, {'index': 5, 'WC': 14, 'Analytic': 48.63, 'Clout': 76.25, 'Authentic': 52.86, 'Tone': 99.0, 'WPS': 7.0, 'Sixltr': 14.29, 'Dic': 85.71, 'function': 50.0, 'pronoun': 21.43, 'ppron': 14.29, 'i': 7.14, 'we': 0.0, 'you': 7.14, 'shehe': 0.0, 'they': 0.0, 'ipron': 7.14, 'article': 7.14, 'prep': 14.29, 'auxverb': 14.29, 'adverb': 7.14, 'conj': 0.0, 'negate': 0.0, 'verb': 28.57, 'adj': 0.0, 'compare': 0.0, 'interrog': 0.0, 'number': 7.14, 'quant': 0.0, 'affect': 21.43, 'posemo': 21.43, 'negemo': 0.0, 'anx': 0.0, 'anger': 0.0, 'sad': 0.0, 'social': 7.14, 'family': 0.0, 'friend': 0.0, 'female': 0.0, 'male': 0.0, 'cogproc': 14.29, 'insight': 0.0, 'cause': 7.14, 'discrep': 0.0, 'tentat': 0.0, 'certain': 7.14, 'differ': 0.0, 'percept': 0.0, 'see': 0.0, 'hear': 0.0, 'feel': 0.0, 'bio': 0.0, 'body': 0.0, 'health': 0.0, 'sexual': 0.0, 'ingest': 0.0, 'drives': 7.14, 'affiliation': 0.0, 'achieve': 0.0, 'power': 0.0, 'reward': 7.14, 'risk': 0.0, 'focuspast': 0.0, 'focuspresent': 28.57, 'focusfuture': 0.0, 'relativ': 14.29, 'motion': 7.14, 'space': 7.14, 'time': 0.0, 'work': 0.0, 'leisure': 0.0, 'home': 0.0, 'money': 0.0, 'relig': 0.0, 'death': 0.0, 'informal': 0.0, 'swear': 0.0, 'netspeak': 0.0, 'assent': 0.0, 'nonflu': 0.0, 'filler': 0.0, 'AllPunc': 42.86, 'Period': 7.14, 'Comma': 7.14, 'Colon': 0.0, 'SemiC': 0.0, 'QMark': 0.0, 'Exclam': 7.14, 'Dash': 0.0, 'Quote': 0.0, 'Apostro': 14.29, 'Parenth': 0.0, 'OtherP': 7.14}, {'index': 6, 'WC': 1, 'Analytic': 93.26, 'Clout': 50.0, 'Authentic': 1.0, 'Tone': 25.77, 'WPS': 1.0, 'Sixltr': 100.0, 'Dic': 0.0, 'function': 0.0, 'pronoun': 0.0, 'ppron': 0.0, 'i': 0.0, 'we': 0.0, 'you': 0.0, 'shehe': 0.0, 'they': 0.0, 'ipron': 0.0, 'article': 0.0, 'prep': 0.0, 'auxverb': 0.0, 'adverb': 0.0, 'conj': 0.0, 'negate': 0.0, 'verb': 0.0, 'adj': 0.0, 'compare': 0.0, 'interrog': 0.0, 'number': 0.0, 'quant': 0.0, 'affect': 0.0, 'posemo': 0.0, 'negemo': 0.0, 'anx': 0.0, 'anger': 0.0, 'sad': 0.0, 'social': 0.0, 'family': 0.0, 'friend': 0.0, 'female': 0.0, 'male': 0.0, 'cogproc': 0.0, 'insight': 0.0, 'cause': 0.0, 'discrep': 0.0, 'tentat': 0.0, 'certain': 0.0, 'differ': 0.0, 'percept': 0.0, 'see': 0.0, 'hear': 0.0, 'feel': 0.0, 'bio': 0.0, 'body': 0.0, 'health': 0.0, 'sexual': 0.0, 'ingest': 0.0, 'drives': 0.0, 'affiliation': 0.0, 'achieve': 0.0, 'power': 0.0, 'reward': 0.0, 'risk': 0.0, 'focuspast': 0.0, 'focuspresent': 0.0, 'focusfuture': 0.0, 'relativ': 0.0, 'motion': 0.0, 'space': 0.0, 'time': 0.0, 'work': 0.0, 'leisure': 0.0, 'home': 0.0, 'money': 0.0, 'relig': 0.0, 'death': 0.0, 'informal': 0.0, 'swear': 0.0, 'netspeak': 0.0, 'assent': 0.0, 'nonflu': 0.0, 'filler': 0.0, 'AllPunc': 100.0, 'Period': 0.0, 'Comma': 0.0, 'Colon': 0.0, 'SemiC': 0.0, 'QMark': 0.0, 'Exclam': 0.0, 'Dash': 0.0, 'Quote': 0.0, 'Apostro': 0.0, 'Parenth': 0.0, 'OtherP': 100.0}, {'index': 7, 'WC': 3, 'Analytic': 99.0, 'Clout': 50.0, 'Authentic': 99.0, 'Tone': 25.77, 'WPS': 3.0, 'Sixltr': 66.67, 'Dic': 66.67, 'function': 33.33, 'pronoun': 0.0, 'ppron': 0.0, 'i': 0.0, 'we': 0.0, 'you': 0.0, 'shehe': 0.0, 'they': 0.0, 'ipron': 0.0, 'article': 0.0, 'prep': 33.33, 'auxverb': 0.0, 'adverb': 0.0, 'conj': 0.0, 'negate': 0.0, 'verb': 0.0, 'adj': 0.0, 'compare': 0.0, 'interrog': 0.0, 'number': 0.0, 'quant': 0.0, 'affect': 0.0, 'posemo': 0.0, 'negemo': 0.0, 'anx': 0.0, 'anger': 0.0, 'sad': 0.0, 'social': 0.0, 'family': 0.0, 'friend': 0.0, 'female': 0.0, 'male': 0.0, 'cogproc': 33.33, 'insight': 33.33, 'cause': 0.0, 'discrep': 0.0, 'tentat': 0.0, 'certain': 0.0, 'differ': 0.0, 'percept': 0.0, 'see': 0.0, 'hear': 0.0, 'feel': 0.0, 'bio': 0.0, 'body': 0.0, 'health': 0.0, 'sexual': 0.0, 'ingest': 0.0, 'drives': 0.0, 'affiliation': 0.0, 'achieve': 0.0, 'power': 0.0, 'reward': 0.0, 'risk': 0.0, 'focuspast': 0.0, 'focuspresent': 0.0, 'focusfuture': 0.0, 'relativ': 33.33, 'motion': 0.0, 'space': 33.33, 'time': 0.0, 'work': 0.0, 'leisure': 0.0, 'home': 0.0, 'money': 0.0, 'relig': 0.0, 'death': 0.0, 'informal': 0.0, 'swear': 0.0, 'netspeak': 0.0, 'assent': 0.0, 'nonflu': 0.0, 'filler': 0.0, 'AllPunc': 33.33, 'Period': 0.0, 'Comma': 0.0, 'Colon': 0.0, 'SemiC': 0.0, 'QMark': 0.0, 'Exclam': 0.0, 'Dash': 0.0, 'Quote': 0.0, 'Apostro': 0.0, 'Parenth': 0.0, 'OtherP': 33.33}  ... displaying 10 of 256140 total bound parameter sets ...  {'index': 256138, 'WC': 8, 'Analytic': 93.26, 'Clout': 50.0, 'Authentic': 74.76, 'Tone': 25.77, 'WPS': 8.0, 'Sixltr': 37.5, 'Dic': 50.0, 'function': 25.0, 'pronoun': 0.0, 'ppron': 0.0, 'i': 0.0, 'we': 0.0, 'you': 0.0, 'shehe': 0.0, 'they': 0.0, 'ipron': 0.0, 'article': 0.0, 'prep': 12.5, 'auxverb': 0.0, 'adverb': 0.0, 'conj': 12.5, 'negate': 0.0, 'verb': 0.0, 'adj': 0.0, 'compare': 0.0, 'interrog': 0.0, 'number': 0.0, 'quant': 0.0, 'affect': 0.0, 'posemo': 0.0, 'negemo': 0.0, 'anx': 0.0, 'anger': 0.0, 'sad': 0.0, 'social': 0.0, 'family': 0.0, 'friend': 0.0, 'female': 0.0, 'male': 0.0, 'cogproc': 0.0, 'insight': 0.0, 'cause': 0.0, 'discrep': 0.0, 'tentat': 0.0, 'certain': 0.0, 'differ': 0.0, 'percept': 0.0, 'see': 0.0, 'hear': 0.0, 'feel': 0.0, 'bio': 12.5, 'body': 0.0, 'health': 0.0, 'sexual': 0.0, 'ingest': 12.5, 'drives': 0.0, 'affiliation': 0.0, 'achieve': 0.0, 'power': 0.0, 'reward': 0.0, 'risk': 0.0, 'focuspast': 0.0, 'focuspresent': 0.0, 'focusfuture': 0.0, 'relativ': 25.0, 'motion': 0.0, 'space': 12.5, 'time': 12.5, 'work': 0.0, 'leisure': 0.0, 'home': 0.0, 'money': 0.0, 'relig': 0.0, 'death': 0.0, 'informal': 0.0, 'swear': 0.0, 'netspeak': 0.0, 'assent': 0.0, 'nonflu': 0.0, 'filler': 0.0, 'AllPunc': 12.5, 'Period': 0.0, 'Comma': 0.0, 'Colon': 0.0, 'SemiC': 0.0, 'QMark': 0.0, 'Exclam': 0.0, 'Dash': 0.0, 'Quote': 0.0, 'Apostro': 0.0, 'Parenth': 0.0, 'OtherP': 12.5}, {'index': 256139, 'WC': 6, 'Analytic': 62.04, 'Clout': 99.0, 'Authentic': 99.0, 'Tone': 25.77, 'WPS': 3.0, 'Sixltr': 66.67, 'Dic': 83.33, 'function': 16.67, 'pronoun': 16.67, 'ppron': 16.67, 'i': 0.0, 'we': 16.67, 'you': 0.0, 'shehe': 0.0, 'they': 0.0, 'ipron': 0.0, 'article': 0.0, 'prep': 0.0, 'auxverb': 0.0, 'adverb': 0.0, 'conj': 0.0, 'negate': 0.0, 'verb': 16.67, 'adj': 0.0, 'compare': 0.0, 'interrog': 0.0, 'number': 0.0, 'quant': 0.0, 'affect': 0.0, 'posemo': 0.0, 'negemo': 0.0, 'anx': 0.0, 'anger': 0.0, 'sad': 0.0, 'social': 16.67, 'family': 0.0, 'friend': 0.0, 'female': 0.0, 'male': 0.0, 'cogproc': 0.0, 'insight': 0.0, 'cause': 0.0, 'discrep': 0.0, 'tentat': 0.0, 'certain': 0.0, 'differ': 0.0, 'percept': 0.0, 'see': 0.0, 'hear': 0.0, 'feel': 0.0, 'bio': 0.0, 'body': 0.0, 'health': 0.0, 'sexual': 0.0, 'ingest': 0.0, 'drives': 33.33, 'affiliation': 33.33, 'achieve': 0.0, 'power': 0.0, 'reward': 0.0, 'risk': 0.0, 'focuspast': 0.0, 'focuspresent': 16.67, 'focusfuture': 0.0, 'relativ': 50.0, 'motion': 0.0, 'space': 0.0, 'time': 50.0, 'work': 0.0, 'leisure': 0.0, 'home': 0.0, 'money': 0.0, 'relig': 50.0, 'death': 0.0, 'informal': 0.0, 'swear': 0.0, 'netspeak': 0.0, 'assent': 0.0, 'nonflu': 0.0, 'filler': 0.0, 'AllPunc': 83.33, 'Period': 0.0, 'Comma': 0.0, 'Colon': 0.0, 'SemiC': 0.0, 'QMark': 0.0, 'Exclam': 16.67, 'Dash': 0.0, 'Quote': 0.0, 'Apostro': 0.0, 'Parenth': 0.0, 'OtherP': 66.67})\n",
      "2022-04-04 08:54:10,140 INFO sqlalchemy.engine.Engine COMMIT\n"
     ]
    }
   ],
   "source": [
    "select_text_data.to_sql(con=connection_engine, name='ins_text_data', if_exists='replace', index=True)"
   ]
  },
  {
   "cell_type": "code",
   "execution_count": 298,
   "id": "ecb79cc0-ec23-4f1c-b7f0-aa45f6f8db90",
   "metadata": {},
   "outputs": [
    {
     "name": "stdout",
     "output_type": "stream",
     "text": [
      "2022-04-04 08:54:43,213 INFO sqlalchemy.engine.Engine SELECT COUNT(*) FROM information_schema.tables WHERE table_schema = %(table_schema)s AND table_name = %(table_name)s\n",
      "2022-04-04 08:54:43,214 INFO sqlalchemy.engine.Engine [cached since 691.4s ago] {'table_schema': 'instagram_data', 'table_name': 'show tables'}\n",
      "2022-04-04 08:54:43,355 INFO sqlalchemy.engine.Engine show tables\n",
      "2022-04-04 08:54:43,356 INFO sqlalchemy.engine.Engine [raw sql] {}\n"
     ]
    },
    {
     "data": {
      "text/html": [
       "<div>\n",
       "<style scoped>\n",
       "    .dataframe tbody tr th:only-of-type {\n",
       "        vertical-align: middle;\n",
       "    }\n",
       "\n",
       "    .dataframe tbody tr th {\n",
       "        vertical-align: top;\n",
       "    }\n",
       "\n",
       "    .dataframe thead th {\n",
       "        text-align: right;\n",
       "    }\n",
       "</style>\n",
       "<table border=\"1\" class=\"dataframe\">\n",
       "  <thead>\n",
       "    <tr style=\"text-align: right;\">\n",
       "      <th></th>\n",
       "      <th>Tables_in_instagram_data</th>\n",
       "    </tr>\n",
       "  </thead>\n",
       "  <tbody>\n",
       "    <tr>\n",
       "      <th>0</th>\n",
       "      <td>ins_account_data</td>\n",
       "    </tr>\n",
       "    <tr>\n",
       "      <th>1</th>\n",
       "      <td>ins_text_data</td>\n",
       "    </tr>\n",
       "  </tbody>\n",
       "</table>\n",
       "</div>"
      ],
      "text/plain": [
       "  Tables_in_instagram_data\n",
       "0         ins_account_data\n",
       "1            ins_text_data"
      ]
     },
     "execution_count": 298,
     "metadata": {},
     "output_type": "execute_result"
    }
   ],
   "source": [
    "pd.read_sql(\"show tables\", con = connection_engine)"
   ]
  },
  {
   "cell_type": "markdown",
   "id": "b9f08547-b781-467e-a0a7-8a0f9164bd9a",
   "metadata": {},
   "source": [
    "### Pandas Profiling on account information"
   ]
  },
  {
   "cell_type": "code",
   "execution_count": 3,
   "id": "8a233800-38ca-4dc1-b6b4-d2980c27119c",
   "metadata": {},
   "outputs": [
    {
     "name": "stdout",
     "output_type": "stream",
     "text": [
      "2022-04-04 14:31:36,824 INFO sqlalchemy.engine.Engine SELECT DATABASE()\n",
      "2022-04-04 14:31:36,825 INFO sqlalchemy.engine.Engine [raw sql] {}\n",
      "2022-04-04 14:31:36,955 INFO sqlalchemy.engine.Engine SELECT @@sql_mode\n",
      "2022-04-04 14:31:36,956 INFO sqlalchemy.engine.Engine [raw sql] {}\n",
      "2022-04-04 14:31:37,020 INFO sqlalchemy.engine.Engine SELECT @@lower_case_table_names\n",
      "2022-04-04 14:31:37,021 INFO sqlalchemy.engine.Engine [raw sql] {}\n",
      "2022-04-04 14:31:37,211 INFO sqlalchemy.engine.Engine SELECT COUNT(*) FROM information_schema.tables WHERE table_schema = %(table_schema)s AND table_name = %(table_name)s\n",
      "2022-04-04 14:31:37,212 INFO sqlalchemy.engine.Engine [generated in 0.00107s] {'table_schema': 'instagram_data', 'table_name': 'select * from ins_account_data'}\n",
      "2022-04-04 14:31:37,358 INFO sqlalchemy.engine.Engine select * from ins_account_data\n",
      "2022-04-04 14:31:37,359 INFO sqlalchemy.engine.Engine [raw sql] {}\n"
     ]
    }
   ],
   "source": [
    "transformed_instagram_data = pd.read_sql('select * from ins_account_data',con=connection_engine)"
   ]
  },
  {
   "cell_type": "code",
   "execution_count": 5,
   "id": "4b355da4-7f3f-43d5-9f51-0ac632b85dca",
   "metadata": {},
   "outputs": [
    {
     "data": {
      "application/vnd.jupyter.widget-view+json": {
       "model_id": "a7eef59095c2436d9d4a5353a8e05d1d",
       "version_major": 2,
       "version_minor": 0
      },
      "text/plain": [
       "Summarize dataset:   0%|          | 0/5 [00:00<?, ?it/s]"
      ]
     },
     "metadata": {},
     "output_type": "display_data"
    },
    {
     "data": {
      "application/vnd.jupyter.widget-view+json": {
       "model_id": "53dc641720c74cfda2fd9ef92ab9ca96",
       "version_major": 2,
       "version_minor": 0
      },
      "text/plain": [
       "Generate report structure:   0%|          | 0/1 [00:00<?, ?it/s]"
      ]
     },
     "metadata": {},
     "output_type": "display_data"
    },
    {
     "data": {
      "application/vnd.jupyter.widget-view+json": {
       "model_id": "609107ec977e4f2791e3523bea79a5d0",
       "version_major": 2,
       "version_minor": 0
      },
      "text/plain": [
       "Render HTML:   0%|          | 0/1 [00:00<?, ?it/s]"
      ]
     },
     "metadata": {},
     "output_type": "display_data"
    },
    {
     "data": {
      "application/vnd.jupyter.widget-view+json": {
       "model_id": "6fc926606e26450a9e84e0cd7ab9dc1d",
       "version_major": 2,
       "version_minor": 0
      },
      "text/plain": [
       "Export report to file:   0%|          | 0/1 [00:00<?, ?it/s]"
      ]
     },
     "metadata": {},
     "output_type": "display_data"
    }
   ],
   "source": [
    "profile = ProfileReport(transformed_instagram_data, title=\"Pandas Profiling Report\", correlations=None, interactions={'continuous': False}, explorative=False)\n",
    "profile.to_file(output_file=\"data_report.html\")"
   ]
  },
  {
   "cell_type": "markdown",
   "id": "d6652f20-b63a-4e23-9463-5f6e433fc66c",
   "metadata": {},
   "source": [
    "We noticed 'Like and View Counts Disabled' is unary after we remove problematic rows."
   ]
  },
  {
   "cell_type": "markdown",
   "id": "81af26d1-875a-423a-ac0a-6fb1ae398400",
   "metadata": {},
   "source": [
    "### Correlation matrix"
   ]
  },
  {
   "cell_type": "code",
   "execution_count": 6,
   "id": "d39ecb24-97b1-46e6-9a79-95f56980b29c",
   "metadata": {},
   "outputs": [
    {
     "name": "stderr",
     "output_type": "stream",
     "text": [
      "/opt/conda/lib/python3.7/site-packages/pandas/io/formats/style.py:2813: RuntimeWarning: All-NaN slice encountered\n",
      "  smin = np.nanmin(gmap) if vmin is None else vmin\n",
      "/opt/conda/lib/python3.7/site-packages/pandas/io/formats/style.py:2814: RuntimeWarning: All-NaN slice encountered\n",
      "  smax = np.nanmax(gmap) if vmax is None else vmax\n"
     ]
    },
    {
     "data": {
      "text/html": [
       "<style type=\"text/css\">\n",
       "#T_9e5c5_row0_col0, #T_9e5c5_row1_col1, #T_9e5c5_row2_col2, #T_9e5c5_row2_col3, #T_9e5c5_row2_col7, #T_9e5c5_row3_col2, #T_9e5c5_row3_col3, #T_9e5c5_row3_col7, #T_9e5c5_row4_col4, #T_9e5c5_row5_col5, #T_9e5c5_row7_col2, #T_9e5c5_row7_col3, #T_9e5c5_row7_col7, #T_9e5c5_row8_col8, #T_9e5c5_row9_col9, #T_9e5c5_row10_col10, #T_9e5c5_row11_col11, #T_9e5c5_row12_col12, #T_9e5c5_row13_col13, #T_9e5c5_row14_col14, #T_9e5c5_row15_col15, #T_9e5c5_row16_col16, #T_9e5c5_row17_col17, #T_9e5c5_row18_col18, #T_9e5c5_row19_col19 {\n",
       "  background-color: #b40426;\n",
       "  color: #f1f1f1;\n",
       "}\n",
       "#T_9e5c5_row0_col1, #T_9e5c5_row0_col2, #T_9e5c5_row0_col3, #T_9e5c5_row0_col4, #T_9e5c5_row0_col5, #T_9e5c5_row0_col7, #T_9e5c5_row0_col8, #T_9e5c5_row0_col13, #T_9e5c5_row0_col16, #T_9e5c5_row2_col0, #T_9e5c5_row3_col0, #T_9e5c5_row7_col0, #T_9e5c5_row9_col10, #T_9e5c5_row9_col17, #T_9e5c5_row11_col15, #T_9e5c5_row14_col11, #T_9e5c5_row14_col12, #T_9e5c5_row16_col9, #T_9e5c5_row16_col15, #T_9e5c5_row17_col9, #T_9e5c5_row17_col14, #T_9e5c5_row17_col18, #T_9e5c5_row17_col19 {\n",
       "  background-color: #3b4cc0;\n",
       "  color: #f1f1f1;\n",
       "}\n",
       "#T_9e5c5_row0_col6, #T_9e5c5_row1_col6, #T_9e5c5_row2_col6, #T_9e5c5_row3_col6, #T_9e5c5_row4_col6, #T_9e5c5_row5_col6, #T_9e5c5_row6_col0, #T_9e5c5_row6_col1, #T_9e5c5_row6_col2, #T_9e5c5_row6_col3, #T_9e5c5_row6_col4, #T_9e5c5_row6_col5, #T_9e5c5_row6_col6, #T_9e5c5_row6_col7, #T_9e5c5_row6_col8, #T_9e5c5_row6_col9, #T_9e5c5_row6_col10, #T_9e5c5_row6_col11, #T_9e5c5_row6_col12, #T_9e5c5_row6_col13, #T_9e5c5_row6_col14, #T_9e5c5_row6_col15, #T_9e5c5_row6_col16, #T_9e5c5_row6_col17, #T_9e5c5_row6_col18, #T_9e5c5_row6_col19, #T_9e5c5_row7_col6, #T_9e5c5_row8_col6, #T_9e5c5_row9_col6, #T_9e5c5_row10_col6, #T_9e5c5_row11_col6, #T_9e5c5_row12_col6, #T_9e5c5_row13_col6, #T_9e5c5_row14_col6, #T_9e5c5_row15_col6, #T_9e5c5_row16_col6, #T_9e5c5_row17_col6, #T_9e5c5_row18_col6, #T_9e5c5_row19_col6 {\n",
       "  background-color: #000000;\n",
       "  color: #f1f1f1;\n",
       "}\n",
       "#T_9e5c5_row0_col9 {\n",
       "  background-color: #3c4ec2;\n",
       "  color: #f1f1f1;\n",
       "}\n",
       "#T_9e5c5_row0_col10, #T_9e5c5_row4_col10, #T_9e5c5_row11_col10 {\n",
       "  background-color: #5b7ae5;\n",
       "  color: #f1f1f1;\n",
       "}\n",
       "#T_9e5c5_row0_col11, #T_9e5c5_row1_col15, #T_9e5c5_row14_col15, #T_9e5c5_row15_col5, #T_9e5c5_row16_col11, #T_9e5c5_row18_col5 {\n",
       "  background-color: #455cce;\n",
       "  color: #f1f1f1;\n",
       "}\n",
       "#T_9e5c5_row0_col12, #T_9e5c5_row1_col18, #T_9e5c5_row1_col19, #T_9e5c5_row10_col12, #T_9e5c5_row10_col19, #T_9e5c5_row11_col19, #T_9e5c5_row15_col19, #T_9e5c5_row16_col5 {\n",
       "  background-color: #4a63d3;\n",
       "  color: #f1f1f1;\n",
       "}\n",
       "#T_9e5c5_row0_col14, #T_9e5c5_row4_col5, #T_9e5c5_row9_col19, #T_9e5c5_row17_col10 {\n",
       "  background-color: #5977e3;\n",
       "  color: #f1f1f1;\n",
       "}\n",
       "#T_9e5c5_row0_col15, #T_9e5c5_row1_col13, #T_9e5c5_row4_col11, #T_9e5c5_row5_col13, #T_9e5c5_row10_col9, #T_9e5c5_row11_col13, #T_9e5c5_row14_col17, #T_9e5c5_row15_col11, #T_9e5c5_row16_col13, #T_9e5c5_row17_col13, #T_9e5c5_row18_col15 {\n",
       "  background-color: #3e51c5;\n",
       "  color: #f1f1f1;\n",
       "}\n",
       "#T_9e5c5_row0_col17, #T_9e5c5_row10_col4, #T_9e5c5_row10_col8, #T_9e5c5_row11_col8, #T_9e5c5_row18_col14 {\n",
       "  background-color: #7396f5;\n",
       "  color: #f1f1f1;\n",
       "}\n",
       "#T_9e5c5_row0_col18, #T_9e5c5_row1_col5, #T_9e5c5_row4_col18, #T_9e5c5_row11_col12, #T_9e5c5_row13_col18, #T_9e5c5_row13_col19, #T_9e5c5_row15_col12 {\n",
       "  background-color: #4b64d5;\n",
       "  color: #f1f1f1;\n",
       "}\n",
       "#T_9e5c5_row0_col19, #T_9e5c5_row5_col18, #T_9e5c5_row5_col19, #T_9e5c5_row16_col18, #T_9e5c5_row19_col12 {\n",
       "  background-color: #4961d2;\n",
       "  color: #f1f1f1;\n",
       "}\n",
       "#T_9e5c5_row1_col0, #T_9e5c5_row8_col9, #T_9e5c5_row12_col8 {\n",
       "  background-color: #7597f6;\n",
       "  color: #f1f1f1;\n",
       "}\n",
       "#T_9e5c5_row1_col2, #T_9e5c5_row1_col7 {\n",
       "  background-color: #f1ccb8;\n",
       "  color: #000000;\n",
       "}\n",
       "#T_9e5c5_row1_col3, #T_9e5c5_row18_col19, #T_9e5c5_row19_col18 {\n",
       "  background-color: #f2cbb7;\n",
       "  color: #000000;\n",
       "}\n",
       "#T_9e5c5_row1_col4, #T_9e5c5_row4_col0, #T_9e5c5_row8_col0, #T_9e5c5_row18_col1, #T_9e5c5_row19_col1 {\n",
       "  background-color: #81a4fb;\n",
       "  color: #f1f1f1;\n",
       "}\n",
       "#T_9e5c5_row1_col8, #T_9e5c5_row8_col5, #T_9e5c5_row15_col8, #T_9e5c5_row16_col4, #T_9e5c5_row17_col16 {\n",
       "  background-color: #779af7;\n",
       "  color: #f1f1f1;\n",
       "}\n",
       "#T_9e5c5_row1_col9, #T_9e5c5_row9_col0 {\n",
       "  background-color: #93b5fe;\n",
       "  color: #000000;\n",
       "}\n",
       "#T_9e5c5_row1_col10, #T_9e5c5_row2_col14, #T_9e5c5_row7_col14, #T_9e5c5_row8_col16, #T_9e5c5_row10_col14, #T_9e5c5_row11_col17, #T_9e5c5_row13_col10, #T_9e5c5_row13_col14, #T_9e5c5_row14_col10, #T_9e5c5_row18_col10 {\n",
       "  background-color: #5f7fe8;\n",
       "  color: #f1f1f1;\n",
       "}\n",
       "#T_9e5c5_row1_col11, #T_9e5c5_row2_col15, #T_9e5c5_row7_col15, #T_9e5c5_row8_col11, #T_9e5c5_row10_col11, #T_9e5c5_row10_col15, #T_9e5c5_row13_col11 {\n",
       "  background-color: #4358cb;\n",
       "  color: #f1f1f1;\n",
       "}\n",
       "#T_9e5c5_row1_col12, #T_9e5c5_row2_col18, #T_9e5c5_row2_col19, #T_9e5c5_row3_col18, #T_9e5c5_row7_col18, #T_9e5c5_row7_col19, #T_9e5c5_row11_col5, #T_9e5c5_row12_col5, #T_9e5c5_row13_col5, #T_9e5c5_row15_col18, #T_9e5c5_row16_col12, #T_9e5c5_row18_col11, #T_9e5c5_row18_col12 {\n",
       "  background-color: #485fd1;\n",
       "  color: #f1f1f1;\n",
       "}\n",
       "#T_9e5c5_row1_col14 {\n",
       "  background-color: #6384eb;\n",
       "  color: #f1f1f1;\n",
       "}\n",
       "#T_9e5c5_row1_col16 {\n",
       "  background-color: #dd5f4b;\n",
       "  color: #f1f1f1;\n",
       "}\n",
       "#T_9e5c5_row1_col17, #T_9e5c5_row3_col14, #T_9e5c5_row16_col10, #T_9e5c5_row19_col10 {\n",
       "  background-color: #5e7de7;\n",
       "  color: #f1f1f1;\n",
       "}\n",
       "#T_9e5c5_row2_col1, #T_9e5c5_row7_col1 {\n",
       "  background-color: #dedcdb;\n",
       "  color: #000000;\n",
       "}\n",
       "#T_9e5c5_row2_col4, #T_9e5c5_row7_col4 {\n",
       "  background-color: #cfdaea;\n",
       "  color: #000000;\n",
       "}\n",
       "#T_9e5c5_row2_col5, #T_9e5c5_row2_col10, #T_9e5c5_row3_col5, #T_9e5c5_row3_col10, #T_9e5c5_row7_col5, #T_9e5c5_row7_col10, #T_9e5c5_row13_col17, #T_9e5c5_row14_col18, #T_9e5c5_row15_col10 {\n",
       "  background-color: #6180e9;\n",
       "  color: #f1f1f1;\n",
       "}\n",
       "#T_9e5c5_row2_col8, #T_9e5c5_row7_col8 {\n",
       "  background-color: #c0d4f5;\n",
       "  color: #000000;\n",
       "}\n",
       "#T_9e5c5_row2_col9, #T_9e5c5_row7_col9 {\n",
       "  background-color: #89acfd;\n",
       "  color: #000000;\n",
       "}\n",
       "#T_9e5c5_row2_col11, #T_9e5c5_row3_col11, #T_9e5c5_row3_col15, #T_9e5c5_row7_col11, #T_9e5c5_row9_col13, #T_9e5c5_row17_col11 {\n",
       "  background-color: #4257c9;\n",
       "  color: #f1f1f1;\n",
       "}\n",
       "#T_9e5c5_row2_col12, #T_9e5c5_row3_col12, #T_9e5c5_row4_col15, #T_9e5c5_row5_col12, #T_9e5c5_row7_col12, #T_9e5c5_row8_col12, #T_9e5c5_row8_col18, #T_9e5c5_row10_col18, #T_9e5c5_row12_col14, #T_9e5c5_row13_col12 {\n",
       "  background-color: #4c66d6;\n",
       "  color: #f1f1f1;\n",
       "}\n",
       "#T_9e5c5_row2_col13, #T_9e5c5_row3_col13, #T_9e5c5_row4_col13, #T_9e5c5_row7_col13, #T_9e5c5_row8_col13, #T_9e5c5_row10_col13, #T_9e5c5_row12_col15, #T_9e5c5_row13_col15, #T_9e5c5_row14_col13, #T_9e5c5_row19_col13, #T_9e5c5_row19_col15 {\n",
       "  background-color: #4055c8;\n",
       "  color: #f1f1f1;\n",
       "}\n",
       "#T_9e5c5_row2_col16, #T_9e5c5_row7_col16 {\n",
       "  background-color: #c6d6f1;\n",
       "  color: #000000;\n",
       "}\n",
       "#T_9e5c5_row2_col17, #T_9e5c5_row3_col17, #T_9e5c5_row7_col17, #T_9e5c5_row16_col14, #T_9e5c5_row18_col17 {\n",
       "  background-color: #516ddb;\n",
       "  color: #f1f1f1;\n",
       "}\n",
       "#T_9e5c5_row3_col1 {\n",
       "  background-color: #dfdbd9;\n",
       "  color: #000000;\n",
       "}\n",
       "#T_9e5c5_row3_col4, #T_9e5c5_row4_col8 {\n",
       "  background-color: #c3d5f4;\n",
       "  color: #000000;\n",
       "}\n",
       "#T_9e5c5_row3_col8 {\n",
       "  background-color: #bcd2f7;\n",
       "  color: #000000;\n",
       "}\n",
       "#T_9e5c5_row3_col9 {\n",
       "  background-color: #88abfd;\n",
       "  color: #000000;\n",
       "}\n",
       "#T_9e5c5_row3_col16 {\n",
       "  background-color: #c7d7f0;\n",
       "  color: #000000;\n",
       "}\n",
       "#T_9e5c5_row3_col19, #T_9e5c5_row9_col16, #T_9e5c5_row10_col5, #T_9e5c5_row12_col18, #T_9e5c5_row12_col19, #T_9e5c5_row14_col5, #T_9e5c5_row17_col15, #T_9e5c5_row19_col5 {\n",
       "  background-color: #465ecf;\n",
       "  color: #f1f1f1;\n",
       "}\n",
       "#T_9e5c5_row4_col1, #T_9e5c5_row14_col19 {\n",
       "  background-color: #8caffe;\n",
       "  color: #000000;\n",
       "}\n",
       "#T_9e5c5_row4_col2, #T_9e5c5_row4_col7 {\n",
       "  background-color: #edd2c3;\n",
       "  color: #000000;\n",
       "}\n",
       "#T_9e5c5_row4_col3 {\n",
       "  background-color: #e5d8d1;\n",
       "  color: #000000;\n",
       "}\n",
       "#T_9e5c5_row4_col9, #T_9e5c5_row5_col4 {\n",
       "  background-color: #85a8fc;\n",
       "  color: #f1f1f1;\n",
       "}\n",
       "#T_9e5c5_row4_col12, #T_9e5c5_row4_col19, #T_9e5c5_row9_col18 {\n",
       "  background-color: #506bda;\n",
       "  color: #f1f1f1;\n",
       "}\n",
       "#T_9e5c5_row4_col14, #T_9e5c5_row5_col16, #T_9e5c5_row19_col9 {\n",
       "  background-color: #7093f3;\n",
       "  color: #f1f1f1;\n",
       "}\n",
       "#T_9e5c5_row4_col16 {\n",
       "  background-color: #7295f4;\n",
       "  color: #f1f1f1;\n",
       "}\n",
       "#T_9e5c5_row4_col17, #T_9e5c5_row9_col15, #T_9e5c5_row16_col8 {\n",
       "  background-color: #6687ed;\n",
       "  color: #f1f1f1;\n",
       "}\n",
       "#T_9e5c5_row5_col0 {\n",
       "  background-color: #a9c6fd;\n",
       "  color: #000000;\n",
       "}\n",
       "#T_9e5c5_row5_col1, #T_9e5c5_row5_col17, #T_9e5c5_row8_col1, #T_9e5c5_row15_col1 {\n",
       "  background-color: #84a7fc;\n",
       "  color: #f1f1f1;\n",
       "}\n",
       "#T_9e5c5_row5_col2, #T_9e5c5_row5_col3, #T_9e5c5_row5_col7, #T_9e5c5_row8_col4 {\n",
       "  background-color: #c4d5f3;\n",
       "  color: #000000;\n",
       "}\n",
       "#T_9e5c5_row5_col8 {\n",
       "  background-color: #9fbfff;\n",
       "  color: #000000;\n",
       "}\n",
       "#T_9e5c5_row5_col9, #T_9e5c5_row15_col16 {\n",
       "  background-color: #688aef;\n",
       "  color: #f1f1f1;\n",
       "}\n",
       "#T_9e5c5_row5_col10, #T_9e5c5_row5_col14, #T_9e5c5_row8_col10, #T_9e5c5_row10_col17, #T_9e5c5_row11_col9, #T_9e5c5_row12_col10 {\n",
       "  background-color: #5d7ce6;\n",
       "  color: #f1f1f1;\n",
       "}\n",
       "#T_9e5c5_row5_col11, #T_9e5c5_row8_col15, #T_9e5c5_row12_col11, #T_9e5c5_row16_col19, #T_9e5c5_row19_col11 {\n",
       "  background-color: #445acc;\n",
       "  color: #f1f1f1;\n",
       "}\n",
       "#T_9e5c5_row5_col15, #T_9e5c5_row9_col11, #T_9e5c5_row12_col13, #T_9e5c5_row15_col13, #T_9e5c5_row18_col13 {\n",
       "  background-color: #3f53c6;\n",
       "  color: #f1f1f1;\n",
       "}\n",
       "#T_9e5c5_row8_col2, #T_9e5c5_row8_col7 {\n",
       "  background-color: #e4d9d2;\n",
       "  color: #000000;\n",
       "}\n",
       "#T_9e5c5_row8_col3 {\n",
       "  background-color: #e2dad5;\n",
       "  color: #000000;\n",
       "}\n",
       "#T_9e5c5_row8_col14, #T_9e5c5_row18_col16 {\n",
       "  background-color: #6c8ff1;\n",
       "  color: #f1f1f1;\n",
       "}\n",
       "#T_9e5c5_row8_col17, #T_9e5c5_row12_col4, #T_9e5c5_row17_col4, #T_9e5c5_row19_col8 {\n",
       "  background-color: #799cf8;\n",
       "  color: #f1f1f1;\n",
       "}\n",
       "#T_9e5c5_row8_col19 {\n",
       "  background-color: #4e68d8;\n",
       "  color: #f1f1f1;\n",
       "}\n",
       "#T_9e5c5_row9_col1 {\n",
       "  background-color: #adc9fd;\n",
       "  color: #000000;\n",
       "}\n",
       "#T_9e5c5_row9_col2, #T_9e5c5_row9_col7 {\n",
       "  background-color: #ccd9ed;\n",
       "  color: #000000;\n",
       "}\n",
       "#T_9e5c5_row9_col3 {\n",
       "  background-color: #cbd8ee;\n",
       "  color: #000000;\n",
       "}\n",
       "#T_9e5c5_row9_col4 {\n",
       "  background-color: #96b7ff;\n",
       "  color: #000000;\n",
       "}\n",
       "#T_9e5c5_row9_col5, #T_9e5c5_row9_col12, #T_9e5c5_row11_col18, #T_9e5c5_row17_col12 {\n",
       "  background-color: #4f69d9;\n",
       "  color: #f1f1f1;\n",
       "}\n",
       "#T_9e5c5_row9_col8, #T_9e5c5_row14_col1, #T_9e5c5_row14_col4, #T_9e5c5_row15_col9, #T_9e5c5_row16_col0 {\n",
       "  background-color: #86a9fc;\n",
       "  color: #f1f1f1;\n",
       "}\n",
       "#T_9e5c5_row9_col14, #T_9e5c5_row17_col8 {\n",
       "  background-color: #8badfd;\n",
       "  color: #000000;\n",
       "}\n",
       "#T_9e5c5_row10_col0, #T_9e5c5_row11_col2, #T_9e5c5_row11_col3, #T_9e5c5_row11_col7, #T_9e5c5_row12_col0, #T_9e5c5_row15_col0, #T_9e5c5_row18_col2, #T_9e5c5_row18_col3, #T_9e5c5_row18_col7, #T_9e5c5_row19_col2, #T_9e5c5_row19_col7 {\n",
       "  background-color: #b1cbfc;\n",
       "  color: #000000;\n",
       "}\n",
       "#T_9e5c5_row10_col1, #T_9e5c5_row14_col8 {\n",
       "  background-color: #82a6fb;\n",
       "  color: #f1f1f1;\n",
       "}\n",
       "#T_9e5c5_row10_col2, #T_9e5c5_row10_col3, #T_9e5c5_row10_col7 {\n",
       "  background-color: #b5cdfa;\n",
       "  color: #000000;\n",
       "}\n",
       "#T_9e5c5_row10_col16, #T_9e5c5_row11_col4, #T_9e5c5_row11_col16 {\n",
       "  background-color: #6f92f3;\n",
       "  color: #f1f1f1;\n",
       "}\n",
       "#T_9e5c5_row11_col0, #T_9e5c5_row12_col2, #T_9e5c5_row12_col7, #T_9e5c5_row13_col2, #T_9e5c5_row13_col3, #T_9e5c5_row13_col7, #T_9e5c5_row14_col2, #T_9e5c5_row14_col7, #T_9e5c5_row15_col2, #T_9e5c5_row15_col3, #T_9e5c5_row15_col7 {\n",
       "  background-color: #b3cdfb;\n",
       "  color: #000000;\n",
       "}\n",
       "#T_9e5c5_row11_col1, #T_9e5c5_row13_col1, #T_9e5c5_row15_col4 {\n",
       "  background-color: #80a3fa;\n",
       "  color: #f1f1f1;\n",
       "}\n",
       "#T_9e5c5_row11_col14 {\n",
       "  background-color: #5470de;\n",
       "  color: #f1f1f1;\n",
       "}\n",
       "#T_9e5c5_row12_col1, #T_9e5c5_row17_col1 {\n",
       "  background-color: #7da0f9;\n",
       "  color: #f1f1f1;\n",
       "}\n",
       "#T_9e5c5_row12_col3, #T_9e5c5_row14_col3, #T_9e5c5_row18_col0, #T_9e5c5_row19_col0 {\n",
       "  background-color: #b2ccfb;\n",
       "  color: #000000;\n",
       "}\n",
       "#T_9e5c5_row12_col9, #T_9e5c5_row12_col17, #T_9e5c5_row13_col9 {\n",
       "  background-color: #6485ec;\n",
       "  color: #f1f1f1;\n",
       "}\n",
       "#T_9e5c5_row12_col16, #T_9e5c5_row16_col17, #T_9e5c5_row17_col5 {\n",
       "  background-color: #6b8df0;\n",
       "  color: #f1f1f1;\n",
       "}\n",
       "#T_9e5c5_row13_col0, #T_9e5c5_row19_col3 {\n",
       "  background-color: #afcafc;\n",
       "  color: #000000;\n",
       "}\n",
       "#T_9e5c5_row13_col4, #T_9e5c5_row13_col8, #T_9e5c5_row18_col4, #T_9e5c5_row18_col8 {\n",
       "  background-color: #7699f6;\n",
       "  color: #f1f1f1;\n",
       "}\n",
       "#T_9e5c5_row13_col16 {\n",
       "  background-color: #6e90f2;\n",
       "  color: #f1f1f1;\n",
       "}\n",
       "#T_9e5c5_row14_col0 {\n",
       "  background-color: #aec9fc;\n",
       "  color: #000000;\n",
       "}\n",
       "#T_9e5c5_row14_col9 {\n",
       "  background-color: #8fb1fe;\n",
       "  color: #000000;\n",
       "}\n",
       "#T_9e5c5_row14_col16, #T_9e5c5_row15_col14 {\n",
       "  background-color: #6282ea;\n",
       "  color: #f1f1f1;\n",
       "}\n",
       "#T_9e5c5_row15_col17, #T_9e5c5_row18_col9 {\n",
       "  background-color: #6788ee;\n",
       "  color: #f1f1f1;\n",
       "}\n",
       "#T_9e5c5_row16_col1 {\n",
       "  background-color: #da5a49;\n",
       "  color: #f1f1f1;\n",
       "}\n",
       "#T_9e5c5_row16_col2, #T_9e5c5_row16_col7 {\n",
       "  background-color: #ead5c9;\n",
       "  color: #000000;\n",
       "}\n",
       "#T_9e5c5_row16_col3 {\n",
       "  background-color: #ead4c8;\n",
       "  color: #000000;\n",
       "}\n",
       "#T_9e5c5_row17_col0 {\n",
       "  background-color: #bfd3f6;\n",
       "  color: #000000;\n",
       "}\n",
       "#T_9e5c5_row17_col2, #T_9e5c5_row17_col7 {\n",
       "  background-color: #a6c4fe;\n",
       "  color: #000000;\n",
       "}\n",
       "#T_9e5c5_row17_col3 {\n",
       "  background-color: #a5c3fe;\n",
       "  color: #000000;\n",
       "}\n",
       "#T_9e5c5_row19_col4 {\n",
       "  background-color: #7a9df8;\n",
       "  color: #f1f1f1;\n",
       "}\n",
       "#T_9e5c5_row19_col14 {\n",
       "  background-color: #9ebeff;\n",
       "  color: #000000;\n",
       "}\n",
       "#T_9e5c5_row19_col16 {\n",
       "  background-color: #6a8bef;\n",
       "  color: #f1f1f1;\n",
       "}\n",
       "#T_9e5c5_row19_col17 {\n",
       "  background-color: #536edd;\n",
       "  color: #f1f1f1;\n",
       "}\n",
       "</style>\n",
       "<table id=\"T_9e5c5_\">\n",
       "  <thead>\n",
       "    <tr>\n",
       "      <th class=\"blank level0\" >&nbsp;</th>\n",
       "      <th class=\"col_heading level0 col0\" >df_index</th>\n",
       "      <th class=\"col_heading level0 col1\" >Followers at Posting</th>\n",
       "      <th class=\"col_heading level0 col2\" >Total Interactions</th>\n",
       "      <th class=\"col_heading level0 col3\" >Likes</th>\n",
       "      <th class=\"col_heading level0 col4\" >Comments</th>\n",
       "      <th class=\"col_heading level0 col5\" >Views</th>\n",
       "      <th class=\"col_heading level0 col6\" >Like and View Counts Disabled</th>\n",
       "      <th class=\"col_heading level0 col7\" >Total Interactions (weighted on likes 1x Comments 1x)</th>\n",
       "      <th class=\"col_heading level0 col8\" >Overperforming Score</th>\n",
       "      <th class=\"col_heading level0 col9\" >PostCreatedYear</th>\n",
       "      <th class=\"col_heading level0 col10\" >PostCreatedMonth</th>\n",
       "      <th class=\"col_heading level0 col11\" >PostCreatedDay</th>\n",
       "      <th class=\"col_heading level0 col12\" >PostCreatedHour</th>\n",
       "      <th class=\"col_heading level0 col13\" >is_linked</th>\n",
       "      <th class=\"col_heading level0 col14\" >Description_len</th>\n",
       "      <th class=\"col_heading level0 col15\" >Image_Text_len</th>\n",
       "      <th class=\"col_heading level0 col16\" >account_effect</th>\n",
       "      <th class=\"col_heading level0 col17\" >Type_cate</th>\n",
       "      <th class=\"col_heading level0 col18\" >Description_sentiment_score</th>\n",
       "      <th class=\"col_heading level0 col19\" >Description_subjective_score</th>\n",
       "    </tr>\n",
       "  </thead>\n",
       "  <tbody>\n",
       "    <tr>\n",
       "      <th id=\"T_9e5c5_level0_row0\" class=\"row_heading level0 row0\" >df_index</th>\n",
       "      <td id=\"T_9e5c5_row0_col0\" class=\"data row0 col0\" >1.000000</td>\n",
       "      <td id=\"T_9e5c5_row0_col1\" class=\"data row0 col1\" >-0.272367</td>\n",
       "      <td id=\"T_9e5c5_row0_col2\" class=\"data row0 col2\" >-0.556552</td>\n",
       "      <td id=\"T_9e5c5_row0_col3\" class=\"data row0 col3\" >-0.553438</td>\n",
       "      <td id=\"T_9e5c5_row0_col4\" class=\"data row0 col4\" >-0.221729</td>\n",
       "      <td id=\"T_9e5c5_row0_col5\" class=\"data row0 col5\" >-0.044155</td>\n",
       "      <td id=\"T_9e5c5_row0_col6\" class=\"data row0 col6\" >nan</td>\n",
       "      <td id=\"T_9e5c5_row0_col7\" class=\"data row0 col7\" >-0.556552</td>\n",
       "      <td id=\"T_9e5c5_row0_col8\" class=\"data row0 col8\" >-0.218247</td>\n",
       "      <td id=\"T_9e5c5_row0_col9\" class=\"data row0 col9\" >-0.138588</td>\n",
       "      <td id=\"T_9e5c5_row0_col10\" class=\"data row0 col10\" >-0.007571</td>\n",
       "      <td id=\"T_9e5c5_row0_col11\" class=\"data row0 col11\" >0.003940</td>\n",
       "      <td id=\"T_9e5c5_row0_col12\" class=\"data row0 col12\" >-0.006014</td>\n",
       "      <td id=\"T_9e5c5_row0_col13\" class=\"data row0 col13\" >-0.014575</td>\n",
       "      <td id=\"T_9e5c5_row0_col14\" class=\"data row0 col14\" >-0.016066</td>\n",
       "      <td id=\"T_9e5c5_row0_col15\" class=\"data row0 col15\" >-0.006560</td>\n",
       "      <td id=\"T_9e5c5_row0_col16\" class=\"data row0 col16\" >-0.194523</td>\n",
       "      <td id=\"T_9e5c5_row0_col17\" class=\"data row0 col17\" >0.059954</td>\n",
       "      <td id=\"T_9e5c5_row0_col18\" class=\"data row0 col18\" >0.002213</td>\n",
       "      <td id=\"T_9e5c5_row0_col19\" class=\"data row0 col19\" >-0.000421</td>\n",
       "    </tr>\n",
       "    <tr>\n",
       "      <th id=\"T_9e5c5_level0_row1\" class=\"row_heading level0 row1\" >Followers at Posting</th>\n",
       "      <td id=\"T_9e5c5_row1_col0\" class=\"data row1 col0\" >-0.272367</td>\n",
       "      <td id=\"T_9e5c5_row1_col1\" class=\"data row1 col1\" >1.000000</td>\n",
       "      <td id=\"T_9e5c5_row1_col2\" class=\"data row1 col2\" >0.372014</td>\n",
       "      <td id=\"T_9e5c5_row1_col3\" class=\"data row1 col3\" >0.376238</td>\n",
       "      <td id=\"T_9e5c5_row1_col4\" class=\"data row1 col4\" >0.041858</td>\n",
       "      <td id=\"T_9e5c5_row1_col5\" class=\"data row1 col5\" >0.015605</td>\n",
       "      <td id=\"T_9e5c5_row1_col6\" class=\"data row1 col6\" >nan</td>\n",
       "      <td id=\"T_9e5c5_row1_col7\" class=\"data row1 col7\" >0.372014</td>\n",
       "      <td id=\"T_9e5c5_row1_col8\" class=\"data row1 col8\" >0.014562</td>\n",
       "      <td id=\"T_9e5c5_row1_col9\" class=\"data row1 col9\" >0.160178</td>\n",
       "      <td id=\"T_9e5c5_row1_col10\" class=\"data row1 col10\" >0.008511</td>\n",
       "      <td id=\"T_9e5c5_row1_col11\" class=\"data row1 col11\" >-0.003711</td>\n",
       "      <td id=\"T_9e5c5_row1_col12\" class=\"data row1 col12\" >-0.011286</td>\n",
       "      <td id=\"T_9e5c5_row1_col13\" class=\"data row1 col13\" >-0.002537</td>\n",
       "      <td id=\"T_9e5c5_row1_col14\" class=\"data row1 col14\" >0.021181</td>\n",
       "      <td id=\"T_9e5c5_row1_col15\" class=\"data row1 col15\" >0.015452</td>\n",
       "      <td id=\"T_9e5c5_row1_col16\" class=\"data row1 col16\" >0.852383</td>\n",
       "      <td id=\"T_9e5c5_row1_col17\" class=\"data row1 col17\" >-0.013796</td>\n",
       "      <td id=\"T_9e5c5_row1_col18\" class=\"data row1 col18\" >0.001390</td>\n",
       "      <td id=\"T_9e5c5_row1_col19\" class=\"data row1 col19\" >0.001226</td>\n",
       "    </tr>\n",
       "    <tr>\n",
       "      <th id=\"T_9e5c5_level0_row2\" class=\"row_heading level0 row2\" >Total Interactions</th>\n",
       "      <td id=\"T_9e5c5_row2_col0\" class=\"data row2 col0\" >-0.556552</td>\n",
       "      <td id=\"T_9e5c5_row2_col1\" class=\"data row2 col1\" >0.372014</td>\n",
       "      <td id=\"T_9e5c5_row2_col2\" class=\"data row2 col2\" >1.000000</td>\n",
       "      <td id=\"T_9e5c5_row2_col3\" class=\"data row2 col3\" >0.998433</td>\n",
       "      <td id=\"T_9e5c5_row2_col4\" class=\"data row2 col4\" >0.330469</td>\n",
       "      <td id=\"T_9e5c5_row2_col5\" class=\"data row2 col5\" >0.086273</td>\n",
       "      <td id=\"T_9e5c5_row2_col6\" class=\"data row2 col6\" >nan</td>\n",
       "      <td id=\"T_9e5c5_row2_col7\" class=\"data row2 col7\" >1.000000</td>\n",
       "      <td id=\"T_9e5c5_row2_col8\" class=\"data row2 col8\" >0.267380</td>\n",
       "      <td id=\"T_9e5c5_row2_col9\" class=\"data row2 col9\" >0.130513</td>\n",
       "      <td id=\"T_9e5c5_row2_col10\" class=\"data row2 col10\" >0.012320</td>\n",
       "      <td id=\"T_9e5c5_row2_col11\" class=\"data row2 col11\" >-0.006665</td>\n",
       "      <td id=\"T_9e5c5_row2_col12\" class=\"data row2 col12\" >0.004576</td>\n",
       "      <td id=\"T_9e5c5_row2_col13\" class=\"data row2 col13\" >0.007259</td>\n",
       "      <td id=\"T_9e5c5_row2_col14\" class=\"data row2 col14\" >0.004940</td>\n",
       "      <td id=\"T_9e5c5_row2_col15\" class=\"data row2 col15\" >0.007607</td>\n",
       "      <td id=\"T_9e5c5_row2_col16\" class=\"data row2 col16\" >0.304983</td>\n",
       "      <td id=\"T_9e5c5_row2_col17\" class=\"data row2 col17\" >-0.054821</td>\n",
       "      <td id=\"T_9e5c5_row2_col18\" class=\"data row2 col18\" >-0.006757</td>\n",
       "      <td id=\"T_9e5c5_row2_col19\" class=\"data row2 col19\" >-0.007025</td>\n",
       "    </tr>\n",
       "    <tr>\n",
       "      <th id=\"T_9e5c5_level0_row3\" class=\"row_heading level0 row3\" >Likes</th>\n",
       "      <td id=\"T_9e5c5_row3_col0\" class=\"data row3 col0\" >-0.553438</td>\n",
       "      <td id=\"T_9e5c5_row3_col1\" class=\"data row3 col1\" >0.376238</td>\n",
       "      <td id=\"T_9e5c5_row3_col2\" class=\"data row3 col2\" >0.998433</td>\n",
       "      <td id=\"T_9e5c5_row3_col3\" class=\"data row3 col3\" >1.000000</td>\n",
       "      <td id=\"T_9e5c5_row3_col4\" class=\"data row3 col4\" >0.277134</td>\n",
       "      <td id=\"T_9e5c5_row3_col5\" class=\"data row3 col5\" >0.084281</td>\n",
       "      <td id=\"T_9e5c5_row3_col6\" class=\"data row3 col6\" >nan</td>\n",
       "      <td id=\"T_9e5c5_row3_col7\" class=\"data row3 col7\" >0.998433</td>\n",
       "      <td id=\"T_9e5c5_row3_col8\" class=\"data row3 col8\" >0.255629</td>\n",
       "      <td id=\"T_9e5c5_row3_col9\" class=\"data row3 col9\" >0.125974</td>\n",
       "      <td id=\"T_9e5c5_row3_col10\" class=\"data row3 col10\" >0.012783</td>\n",
       "      <td id=\"T_9e5c5_row3_col11\" class=\"data row3 col11\" >-0.005634</td>\n",
       "      <td id=\"T_9e5c5_row3_col12\" class=\"data row3 col12\" >0.003794</td>\n",
       "      <td id=\"T_9e5c5_row3_col13\" class=\"data row3 col13\" >0.007034</td>\n",
       "      <td id=\"T_9e5c5_row3_col14\" class=\"data row3 col14\" >0.001206</td>\n",
       "      <td id=\"T_9e5c5_row3_col15\" class=\"data row3 col15\" >0.005422</td>\n",
       "      <td id=\"T_9e5c5_row3_col16\" class=\"data row3 col16\" >0.309812</td>\n",
       "      <td id=\"T_9e5c5_row3_col17\" class=\"data row3 col17\" >-0.056701</td>\n",
       "      <td id=\"T_9e5c5_row3_col18\" class=\"data row3 col18\" >-0.007076</td>\n",
       "      <td id=\"T_9e5c5_row3_col19\" class=\"data row3 col19\" >-0.008413</td>\n",
       "    </tr>\n",
       "    <tr>\n",
       "      <th id=\"T_9e5c5_level0_row4\" class=\"row_heading level0 row4\" >Comments</th>\n",
       "      <td id=\"T_9e5c5_row4_col0\" class=\"data row4 col0\" >-0.221729</td>\n",
       "      <td id=\"T_9e5c5_row4_col1\" class=\"data row4 col1\" >0.041858</td>\n",
       "      <td id=\"T_9e5c5_row4_col2\" class=\"data row4 col2\" >0.330469</td>\n",
       "      <td id=\"T_9e5c5_row4_col3\" class=\"data row4 col3\" >0.277134</td>\n",
       "      <td id=\"T_9e5c5_row4_col4\" class=\"data row4 col4\" >1.000000</td>\n",
       "      <td id=\"T_9e5c5_row4_col5\" class=\"data row4 col5\" >0.059832</td>\n",
       "      <td id=\"T_9e5c5_row4_col6\" class=\"data row4 col6\" >nan</td>\n",
       "      <td id=\"T_9e5c5_row4_col7\" class=\"data row4 col7\" >0.330469</td>\n",
       "      <td id=\"T_9e5c5_row4_col8\" class=\"data row4 col8\" >0.279484</td>\n",
       "      <td id=\"T_9e5c5_row4_col9\" class=\"data row4 col9\" >0.116238</td>\n",
       "      <td id=\"T_9e5c5_row4_col10\" class=\"data row4 col10\" >-0.004069</td>\n",
       "      <td id=\"T_9e5c5_row4_col11\" class=\"data row4 col11\" >-0.019409</td>\n",
       "      <td id=\"T_9e5c5_row4_col12\" class=\"data row4 col12\" >0.014581</td>\n",
       "      <td id=\"T_9e5c5_row4_col13\" class=\"data row4 col13\" >0.005991</td>\n",
       "      <td id=\"T_9e5c5_row4_col14\" class=\"data row4 col14\" >0.064482</td>\n",
       "      <td id=\"T_9e5c5_row4_col15\" class=\"data row4 col15\" >0.039153</td>\n",
       "      <td id=\"T_9e5c5_row4_col16\" class=\"data row4 col16\" >0.011282</td>\n",
       "      <td id=\"T_9e5c5_row4_col17\" class=\"data row4 col17\" >0.015042</td>\n",
       "      <td id=\"T_9e5c5_row4_col18\" class=\"data row4 col18\" >0.003328</td>\n",
       "      <td id=\"T_9e5c5_row4_col19\" class=\"data row4 col19\" >0.021258</td>\n",
       "    </tr>\n",
       "    <tr>\n",
       "      <th id=\"T_9e5c5_level0_row5\" class=\"row_heading level0 row5\" >Views</th>\n",
       "      <td id=\"T_9e5c5_row5_col0\" class=\"data row5 col0\" >-0.044155</td>\n",
       "      <td id=\"T_9e5c5_row5_col1\" class=\"data row5 col1\" >0.015605</td>\n",
       "      <td id=\"T_9e5c5_row5_col2\" class=\"data row5 col2\" >0.086273</td>\n",
       "      <td id=\"T_9e5c5_row5_col3\" class=\"data row5 col3\" >0.084281</td>\n",
       "      <td id=\"T_9e5c5_row5_col4\" class=\"data row5 col4\" >0.059832</td>\n",
       "      <td id=\"T_9e5c5_row5_col5\" class=\"data row5 col5\" >1.000000</td>\n",
       "      <td id=\"T_9e5c5_row5_col6\" class=\"data row5 col6\" >nan</td>\n",
       "      <td id=\"T_9e5c5_row5_col7\" class=\"data row5 col7\" >0.086273</td>\n",
       "      <td id=\"T_9e5c5_row5_col8\" class=\"data row5 col8\" >0.152370</td>\n",
       "      <td id=\"T_9e5c5_row5_col9\" class=\"data row5 col9\" >0.025332</td>\n",
       "      <td id=\"T_9e5c5_row5_col10\" class=\"data row5 col10\" >-0.003101</td>\n",
       "      <td id=\"T_9e5c5_row5_col11\" class=\"data row5 col11\" >0.001332</td>\n",
       "      <td id=\"T_9e5c5_row5_col12\" class=\"data row5 col12\" >0.002325</td>\n",
       "      <td id=\"T_9e5c5_row5_col13\" class=\"data row5 col13\" >0.001158</td>\n",
       "      <td id=\"T_9e5c5_row5_col14\" class=\"data row5 col14\" >-0.001065</td>\n",
       "      <td id=\"T_9e5c5_row5_col15\" class=\"data row5 col15\" >-0.004218</td>\n",
       "      <td id=\"T_9e5c5_row5_col16\" class=\"data row5 col16\" >0.009728</td>\n",
       "      <td id=\"T_9e5c5_row5_col17\" class=\"data row5 col17\" >0.115375</td>\n",
       "      <td id=\"T_9e5c5_row5_col18\" class=\"data row5 col18\" >-0.005170</td>\n",
       "      <td id=\"T_9e5c5_row5_col19\" class=\"data row5 col19\" >-0.000515</td>\n",
       "    </tr>\n",
       "    <tr>\n",
       "      <th id=\"T_9e5c5_level0_row6\" class=\"row_heading level0 row6\" >Like and View Counts Disabled</th>\n",
       "      <td id=\"T_9e5c5_row6_col0\" class=\"data row6 col0\" >nan</td>\n",
       "      <td id=\"T_9e5c5_row6_col1\" class=\"data row6 col1\" >nan</td>\n",
       "      <td id=\"T_9e5c5_row6_col2\" class=\"data row6 col2\" >nan</td>\n",
       "      <td id=\"T_9e5c5_row6_col3\" class=\"data row6 col3\" >nan</td>\n",
       "      <td id=\"T_9e5c5_row6_col4\" class=\"data row6 col4\" >nan</td>\n",
       "      <td id=\"T_9e5c5_row6_col5\" class=\"data row6 col5\" >nan</td>\n",
       "      <td id=\"T_9e5c5_row6_col6\" class=\"data row6 col6\" >nan</td>\n",
       "      <td id=\"T_9e5c5_row6_col7\" class=\"data row6 col7\" >nan</td>\n",
       "      <td id=\"T_9e5c5_row6_col8\" class=\"data row6 col8\" >nan</td>\n",
       "      <td id=\"T_9e5c5_row6_col9\" class=\"data row6 col9\" >nan</td>\n",
       "      <td id=\"T_9e5c5_row6_col10\" class=\"data row6 col10\" >nan</td>\n",
       "      <td id=\"T_9e5c5_row6_col11\" class=\"data row6 col11\" >nan</td>\n",
       "      <td id=\"T_9e5c5_row6_col12\" class=\"data row6 col12\" >nan</td>\n",
       "      <td id=\"T_9e5c5_row6_col13\" class=\"data row6 col13\" >nan</td>\n",
       "      <td id=\"T_9e5c5_row6_col14\" class=\"data row6 col14\" >nan</td>\n",
       "      <td id=\"T_9e5c5_row6_col15\" class=\"data row6 col15\" >nan</td>\n",
       "      <td id=\"T_9e5c5_row6_col16\" class=\"data row6 col16\" >nan</td>\n",
       "      <td id=\"T_9e5c5_row6_col17\" class=\"data row6 col17\" >nan</td>\n",
       "      <td id=\"T_9e5c5_row6_col18\" class=\"data row6 col18\" >nan</td>\n",
       "      <td id=\"T_9e5c5_row6_col19\" class=\"data row6 col19\" >nan</td>\n",
       "    </tr>\n",
       "    <tr>\n",
       "      <th id=\"T_9e5c5_level0_row7\" class=\"row_heading level0 row7\" >Total Interactions (weighted on likes 1x Comments 1x)</th>\n",
       "      <td id=\"T_9e5c5_row7_col0\" class=\"data row7 col0\" >-0.556552</td>\n",
       "      <td id=\"T_9e5c5_row7_col1\" class=\"data row7 col1\" >0.372014</td>\n",
       "      <td id=\"T_9e5c5_row7_col2\" class=\"data row7 col2\" >1.000000</td>\n",
       "      <td id=\"T_9e5c5_row7_col3\" class=\"data row7 col3\" >0.998433</td>\n",
       "      <td id=\"T_9e5c5_row7_col4\" class=\"data row7 col4\" >0.330469</td>\n",
       "      <td id=\"T_9e5c5_row7_col5\" class=\"data row7 col5\" >0.086273</td>\n",
       "      <td id=\"T_9e5c5_row7_col6\" class=\"data row7 col6\" >nan</td>\n",
       "      <td id=\"T_9e5c5_row7_col7\" class=\"data row7 col7\" >1.000000</td>\n",
       "      <td id=\"T_9e5c5_row7_col8\" class=\"data row7 col8\" >0.267380</td>\n",
       "      <td id=\"T_9e5c5_row7_col9\" class=\"data row7 col9\" >0.130513</td>\n",
       "      <td id=\"T_9e5c5_row7_col10\" class=\"data row7 col10\" >0.012320</td>\n",
       "      <td id=\"T_9e5c5_row7_col11\" class=\"data row7 col11\" >-0.006665</td>\n",
       "      <td id=\"T_9e5c5_row7_col12\" class=\"data row7 col12\" >0.004576</td>\n",
       "      <td id=\"T_9e5c5_row7_col13\" class=\"data row7 col13\" >0.007259</td>\n",
       "      <td id=\"T_9e5c5_row7_col14\" class=\"data row7 col14\" >0.004940</td>\n",
       "      <td id=\"T_9e5c5_row7_col15\" class=\"data row7 col15\" >0.007607</td>\n",
       "      <td id=\"T_9e5c5_row7_col16\" class=\"data row7 col16\" >0.304983</td>\n",
       "      <td id=\"T_9e5c5_row7_col17\" class=\"data row7 col17\" >-0.054821</td>\n",
       "      <td id=\"T_9e5c5_row7_col18\" class=\"data row7 col18\" >-0.006757</td>\n",
       "      <td id=\"T_9e5c5_row7_col19\" class=\"data row7 col19\" >-0.007025</td>\n",
       "    </tr>\n",
       "    <tr>\n",
       "      <th id=\"T_9e5c5_level0_row8\" class=\"row_heading level0 row8\" >Overperforming Score</th>\n",
       "      <td id=\"T_9e5c5_row8_col0\" class=\"data row8 col0\" >-0.218247</td>\n",
       "      <td id=\"T_9e5c5_row8_col1\" class=\"data row8 col1\" >0.014562</td>\n",
       "      <td id=\"T_9e5c5_row8_col2\" class=\"data row8 col2\" >0.267380</td>\n",
       "      <td id=\"T_9e5c5_row8_col3\" class=\"data row8 col3\" >0.255629</td>\n",
       "      <td id=\"T_9e5c5_row8_col4\" class=\"data row8 col4\" >0.279484</td>\n",
       "      <td id=\"T_9e5c5_row8_col5\" class=\"data row8 col5\" >0.152370</td>\n",
       "      <td id=\"T_9e5c5_row8_col6\" class=\"data row8 col6\" >nan</td>\n",
       "      <td id=\"T_9e5c5_row8_col7\" class=\"data row8 col7\" >0.267380</td>\n",
       "      <td id=\"T_9e5c5_row8_col8\" class=\"data row8 col8\" >1.000000</td>\n",
       "      <td id=\"T_9e5c5_row8_col9\" class=\"data row8 col9\" >0.065969</td>\n",
       "      <td id=\"T_9e5c5_row8_col10\" class=\"data row8 col10\" >-0.001982</td>\n",
       "      <td id=\"T_9e5c5_row8_col11\" class=\"data row8 col11\" >-0.002549</td>\n",
       "      <td id=\"T_9e5c5_row8_col12\" class=\"data row8 col12\" >0.004428</td>\n",
       "      <td id=\"T_9e5c5_row8_col13\" class=\"data row8 col13\" >0.008685</td>\n",
       "      <td id=\"T_9e5c5_row8_col14\" class=\"data row8 col14\" >0.051400</td>\n",
       "      <td id=\"T_9e5c5_row8_col15\" class=\"data row8 col15\" >0.012027</td>\n",
       "      <td id=\"T_9e5c5_row8_col16\" class=\"data row8 col16\" >-0.051470</td>\n",
       "      <td id=\"T_9e5c5_row8_col17\" class=\"data row8 col17\" >0.077646</td>\n",
       "      <td id=\"T_9e5c5_row8_col18\" class=\"data row8 col18\" >0.006280</td>\n",
       "      <td id=\"T_9e5c5_row8_col19\" class=\"data row8 col19\" >0.016041</td>\n",
       "    </tr>\n",
       "    <tr>\n",
       "      <th id=\"T_9e5c5_level0_row9\" class=\"row_heading level0 row9\" >PostCreatedYear</th>\n",
       "      <td id=\"T_9e5c5_row9_col0\" class=\"data row9 col0\" >-0.138588</td>\n",
       "      <td id=\"T_9e5c5_row9_col1\" class=\"data row9 col1\" >0.160178</td>\n",
       "      <td id=\"T_9e5c5_row9_col2\" class=\"data row9 col2\" >0.130513</td>\n",
       "      <td id=\"T_9e5c5_row9_col3\" class=\"data row9 col3\" >0.125974</td>\n",
       "      <td id=\"T_9e5c5_row9_col4\" class=\"data row9 col4\" >0.116238</td>\n",
       "      <td id=\"T_9e5c5_row9_col5\" class=\"data row9 col5\" >0.025332</td>\n",
       "      <td id=\"T_9e5c5_row9_col6\" class=\"data row9 col6\" >nan</td>\n",
       "      <td id=\"T_9e5c5_row9_col7\" class=\"data row9 col7\" >0.130513</td>\n",
       "      <td id=\"T_9e5c5_row9_col8\" class=\"data row9 col8\" >0.065969</td>\n",
       "      <td id=\"T_9e5c5_row9_col9\" class=\"data row9 col9\" >1.000000</td>\n",
       "      <td id=\"T_9e5c5_row9_col10\" class=\"data row9 col10\" >-0.127280</td>\n",
       "      <td id=\"T_9e5c5_row9_col11\" class=\"data row9 col11\" >-0.015727</td>\n",
       "      <td id=\"T_9e5c5_row9_col12\" class=\"data row9 col12\" >0.011204</td>\n",
       "      <td id=\"T_9e5c5_row9_col13\" class=\"data row9 col13\" >0.010482</td>\n",
       "      <td id=\"T_9e5c5_row9_col14\" class=\"data row9 col14\" >0.146914</td>\n",
       "      <td id=\"T_9e5c5_row9_col15\" class=\"data row9 col15\" >0.121830</td>\n",
       "      <td id=\"T_9e5c5_row9_col16\" class=\"data row9 col16\" >-0.143789</td>\n",
       "      <td id=\"T_9e5c5_row9_col17\" class=\"data row9 col17\" >-0.143665</td>\n",
       "      <td id=\"T_9e5c5_row9_col18\" class=\"data row9 col18\" >0.020541</td>\n",
       "      <td id=\"T_9e5c5_row9_col19\" class=\"data row9 col19\" >0.050835</td>\n",
       "    </tr>\n",
       "    <tr>\n",
       "      <th id=\"T_9e5c5_level0_row10\" class=\"row_heading level0 row10\" >PostCreatedMonth</th>\n",
       "      <td id=\"T_9e5c5_row10_col0\" class=\"data row10 col0\" >-0.007571</td>\n",
       "      <td id=\"T_9e5c5_row10_col1\" class=\"data row10 col1\" >0.008511</td>\n",
       "      <td id=\"T_9e5c5_row10_col2\" class=\"data row10 col2\" >0.012320</td>\n",
       "      <td id=\"T_9e5c5_row10_col3\" class=\"data row10 col3\" >0.012783</td>\n",
       "      <td id=\"T_9e5c5_row10_col4\" class=\"data row10 col4\" >-0.004069</td>\n",
       "      <td id=\"T_9e5c5_row10_col5\" class=\"data row10 col5\" >-0.003101</td>\n",
       "      <td id=\"T_9e5c5_row10_col6\" class=\"data row10 col6\" >nan</td>\n",
       "      <td id=\"T_9e5c5_row10_col7\" class=\"data row10 col7\" >0.012320</td>\n",
       "      <td id=\"T_9e5c5_row10_col8\" class=\"data row10 col8\" >-0.001982</td>\n",
       "      <td id=\"T_9e5c5_row10_col9\" class=\"data row10 col9\" >-0.127280</td>\n",
       "      <td id=\"T_9e5c5_row10_col10\" class=\"data row10 col10\" >1.000000</td>\n",
       "      <td id=\"T_9e5c5_row10_col11\" class=\"data row10 col11\" >-0.004377</td>\n",
       "      <td id=\"T_9e5c5_row10_col12\" class=\"data row10 col12\" >-0.003014</td>\n",
       "      <td id=\"T_9e5c5_row10_col13\" class=\"data row10 col13\" >0.005904</td>\n",
       "      <td id=\"T_9e5c5_row10_col14\" class=\"data row10 col14\" >0.005799</td>\n",
       "      <td id=\"T_9e5c5_row10_col15\" class=\"data row10 col15\" >0.009586</td>\n",
       "      <td id=\"T_9e5c5_row10_col16\" class=\"data row10 col16\" >0.001543</td>\n",
       "      <td id=\"T_9e5c5_row10_col17\" class=\"data row10 col17\" >-0.014936</td>\n",
       "      <td id=\"T_9e5c5_row10_col18\" class=\"data row10 col18\" >0.006794</td>\n",
       "      <td id=\"T_9e5c5_row10_col19\" class=\"data row10 col19\" >0.003038</td>\n",
       "    </tr>\n",
       "    <tr>\n",
       "      <th id=\"T_9e5c5_level0_row11\" class=\"row_heading level0 row11\" >PostCreatedDay</th>\n",
       "      <td id=\"T_9e5c5_row11_col0\" class=\"data row11 col0\" >0.003940</td>\n",
       "      <td id=\"T_9e5c5_row11_col1\" class=\"data row11 col1\" >-0.003711</td>\n",
       "      <td id=\"T_9e5c5_row11_col2\" class=\"data row11 col2\" >-0.006665</td>\n",
       "      <td id=\"T_9e5c5_row11_col3\" class=\"data row11 col3\" >-0.005634</td>\n",
       "      <td id=\"T_9e5c5_row11_col4\" class=\"data row11 col4\" >-0.019409</td>\n",
       "      <td id=\"T_9e5c5_row11_col5\" class=\"data row11 col5\" >0.001332</td>\n",
       "      <td id=\"T_9e5c5_row11_col6\" class=\"data row11 col6\" >nan</td>\n",
       "      <td id=\"T_9e5c5_row11_col7\" class=\"data row11 col7\" >-0.006665</td>\n",
       "      <td id=\"T_9e5c5_row11_col8\" class=\"data row11 col8\" >-0.002549</td>\n",
       "      <td id=\"T_9e5c5_row11_col9\" class=\"data row11 col9\" >-0.015727</td>\n",
       "      <td id=\"T_9e5c5_row11_col10\" class=\"data row11 col10\" >-0.004377</td>\n",
       "      <td id=\"T_9e5c5_row11_col11\" class=\"data row11 col11\" >1.000000</td>\n",
       "      <td id=\"T_9e5c5_row11_col12\" class=\"data row11 col12\" >0.000884</td>\n",
       "      <td id=\"T_9e5c5_row11_col13\" class=\"data row11 col13\" >-0.001458</td>\n",
       "      <td id=\"T_9e5c5_row11_col14\" class=\"data row11 col14\" >-0.033293</td>\n",
       "      <td id=\"T_9e5c5_row11_col15\" class=\"data row11 col15\" >-0.019193</td>\n",
       "      <td id=\"T_9e5c5_row11_col16\" class=\"data row11 col16\" >0.003956</td>\n",
       "      <td id=\"T_9e5c5_row11_col17\" class=\"data row11 col17\" >-0.008375</td>\n",
       "      <td id=\"T_9e5c5_row11_col18\" class=\"data row11 col18\" >0.014484</td>\n",
       "      <td id=\"T_9e5c5_row11_col19\" class=\"data row11 col19\" >0.001676</td>\n",
       "    </tr>\n",
       "    <tr>\n",
       "      <th id=\"T_9e5c5_level0_row12\" class=\"row_heading level0 row12\" >PostCreatedHour</th>\n",
       "      <td id=\"T_9e5c5_row12_col0\" class=\"data row12 col0\" >-0.006014</td>\n",
       "      <td id=\"T_9e5c5_row12_col1\" class=\"data row12 col1\" >-0.011286</td>\n",
       "      <td id=\"T_9e5c5_row12_col2\" class=\"data row12 col2\" >0.004576</td>\n",
       "      <td id=\"T_9e5c5_row12_col3\" class=\"data row12 col3\" >0.003794</td>\n",
       "      <td id=\"T_9e5c5_row12_col4\" class=\"data row12 col4\" >0.014581</td>\n",
       "      <td id=\"T_9e5c5_row12_col5\" class=\"data row12 col5\" >0.002325</td>\n",
       "      <td id=\"T_9e5c5_row12_col6\" class=\"data row12 col6\" >nan</td>\n",
       "      <td id=\"T_9e5c5_row12_col7\" class=\"data row12 col7\" >0.004576</td>\n",
       "      <td id=\"T_9e5c5_row12_col8\" class=\"data row12 col8\" >0.004428</td>\n",
       "      <td id=\"T_9e5c5_row12_col9\" class=\"data row12 col9\" >0.011204</td>\n",
       "      <td id=\"T_9e5c5_row12_col10\" class=\"data row12 col10\" >-0.003014</td>\n",
       "      <td id=\"T_9e5c5_row12_col11\" class=\"data row12 col11\" >0.000884</td>\n",
       "      <td id=\"T_9e5c5_row12_col12\" class=\"data row12 col12\" >1.000000</td>\n",
       "      <td id=\"T_9e5c5_row12_col13\" class=\"data row12 col13\" >0.004333</td>\n",
       "      <td id=\"T_9e5c5_row12_col14\" class=\"data row12 col14\" >-0.060127</td>\n",
       "      <td id=\"T_9e5c5_row12_col15\" class=\"data row12 col15\" >0.000433</td>\n",
       "      <td id=\"T_9e5c5_row12_col16\" class=\"data row12 col16\" >-0.011009</td>\n",
       "      <td id=\"T_9e5c5_row12_col17\" class=\"data row12 col17\" >0.011187</td>\n",
       "      <td id=\"T_9e5c5_row12_col18\" class=\"data row12 col18\" >-0.011487</td>\n",
       "      <td id=\"T_9e5c5_row12_col19\" class=\"data row12 col19\" >-0.008667</td>\n",
       "    </tr>\n",
       "    <tr>\n",
       "      <th id=\"T_9e5c5_level0_row13\" class=\"row_heading level0 row13\" >is_linked</th>\n",
       "      <td id=\"T_9e5c5_row13_col0\" class=\"data row13 col0\" >-0.014575</td>\n",
       "      <td id=\"T_9e5c5_row13_col1\" class=\"data row13 col1\" >-0.002537</td>\n",
       "      <td id=\"T_9e5c5_row13_col2\" class=\"data row13 col2\" >0.007259</td>\n",
       "      <td id=\"T_9e5c5_row13_col3\" class=\"data row13 col3\" >0.007034</td>\n",
       "      <td id=\"T_9e5c5_row13_col4\" class=\"data row13 col4\" >0.005991</td>\n",
       "      <td id=\"T_9e5c5_row13_col5\" class=\"data row13 col5\" >0.001158</td>\n",
       "      <td id=\"T_9e5c5_row13_col6\" class=\"data row13 col6\" >nan</td>\n",
       "      <td id=\"T_9e5c5_row13_col7\" class=\"data row13 col7\" >0.007259</td>\n",
       "      <td id=\"T_9e5c5_row13_col8\" class=\"data row13 col8\" >0.008685</td>\n",
       "      <td id=\"T_9e5c5_row13_col9\" class=\"data row13 col9\" >0.010482</td>\n",
       "      <td id=\"T_9e5c5_row13_col10\" class=\"data row13 col10\" >0.005904</td>\n",
       "      <td id=\"T_9e5c5_row13_col11\" class=\"data row13 col11\" >-0.001458</td>\n",
       "      <td id=\"T_9e5c5_row13_col12\" class=\"data row13 col12\" >0.004333</td>\n",
       "      <td id=\"T_9e5c5_row13_col13\" class=\"data row13 col13\" >1.000000</td>\n",
       "      <td id=\"T_9e5c5_row13_col14\" class=\"data row13 col14\" >0.006987</td>\n",
       "      <td id=\"T_9e5c5_row13_col15\" class=\"data row13 col15\" >0.002195</td>\n",
       "      <td id=\"T_9e5c5_row13_col16\" class=\"data row13 col16\" >-0.001327</td>\n",
       "      <td id=\"T_9e5c5_row13_col17\" class=\"data row13 col17\" >-0.001146</td>\n",
       "      <td id=\"T_9e5c5_row13_col18\" class=\"data row13 col18\" >0.002730</td>\n",
       "      <td id=\"T_9e5c5_row13_col19\" class=\"data row13 col19\" >0.005565</td>\n",
       "    </tr>\n",
       "    <tr>\n",
       "      <th id=\"T_9e5c5_level0_row14\" class=\"row_heading level0 row14\" >Description_len</th>\n",
       "      <td id=\"T_9e5c5_row14_col0\" class=\"data row14 col0\" >-0.016066</td>\n",
       "      <td id=\"T_9e5c5_row14_col1\" class=\"data row14 col1\" >0.021181</td>\n",
       "      <td id=\"T_9e5c5_row14_col2\" class=\"data row14 col2\" >0.004940</td>\n",
       "      <td id=\"T_9e5c5_row14_col3\" class=\"data row14 col3\" >0.001206</td>\n",
       "      <td id=\"T_9e5c5_row14_col4\" class=\"data row14 col4\" >0.064482</td>\n",
       "      <td id=\"T_9e5c5_row14_col5\" class=\"data row14 col5\" >-0.001065</td>\n",
       "      <td id=\"T_9e5c5_row14_col6\" class=\"data row14 col6\" >nan</td>\n",
       "      <td id=\"T_9e5c5_row14_col7\" class=\"data row14 col7\" >0.004940</td>\n",
       "      <td id=\"T_9e5c5_row14_col8\" class=\"data row14 col8\" >0.051400</td>\n",
       "      <td id=\"T_9e5c5_row14_col9\" class=\"data row14 col9\" >0.146914</td>\n",
       "      <td id=\"T_9e5c5_row14_col10\" class=\"data row14 col10\" >0.005799</td>\n",
       "      <td id=\"T_9e5c5_row14_col11\" class=\"data row14 col11\" >-0.033293</td>\n",
       "      <td id=\"T_9e5c5_row14_col12\" class=\"data row14 col12\" >-0.060127</td>\n",
       "      <td id=\"T_9e5c5_row14_col13\" class=\"data row14 col13\" >0.006987</td>\n",
       "      <td id=\"T_9e5c5_row14_col14\" class=\"data row14 col14\" >1.000000</td>\n",
       "      <td id=\"T_9e5c5_row14_col15\" class=\"data row14 col15\" >0.015318</td>\n",
       "      <td id=\"T_9e5c5_row14_col16\" class=\"data row14 col16\" >-0.040883</td>\n",
       "      <td id=\"T_9e5c5_row14_col17\" class=\"data row14 col17\" >-0.128230</td>\n",
       "      <td id=\"T_9e5c5_row14_col18\" class=\"data row14 col18\" >0.073684</td>\n",
       "      <td id=\"T_9e5c5_row14_col19\" class=\"data row14 col19\" >0.208644</td>\n",
       "    </tr>\n",
       "    <tr>\n",
       "      <th id=\"T_9e5c5_level0_row15\" class=\"row_heading level0 row15\" >Image_Text_len</th>\n",
       "      <td id=\"T_9e5c5_row15_col0\" class=\"data row15 col0\" >-0.006560</td>\n",
       "      <td id=\"T_9e5c5_row15_col1\" class=\"data row15 col1\" >0.015452</td>\n",
       "      <td id=\"T_9e5c5_row15_col2\" class=\"data row15 col2\" >0.007607</td>\n",
       "      <td id=\"T_9e5c5_row15_col3\" class=\"data row15 col3\" >0.005422</td>\n",
       "      <td id=\"T_9e5c5_row15_col4\" class=\"data row15 col4\" >0.039153</td>\n",
       "      <td id=\"T_9e5c5_row15_col5\" class=\"data row15 col5\" >-0.004218</td>\n",
       "      <td id=\"T_9e5c5_row15_col6\" class=\"data row15 col6\" >nan</td>\n",
       "      <td id=\"T_9e5c5_row15_col7\" class=\"data row15 col7\" >0.007607</td>\n",
       "      <td id=\"T_9e5c5_row15_col8\" class=\"data row15 col8\" >0.012027</td>\n",
       "      <td id=\"T_9e5c5_row15_col9\" class=\"data row15 col9\" >0.121830</td>\n",
       "      <td id=\"T_9e5c5_row15_col10\" class=\"data row15 col10\" >0.009586</td>\n",
       "      <td id=\"T_9e5c5_row15_col11\" class=\"data row15 col11\" >-0.019193</td>\n",
       "      <td id=\"T_9e5c5_row15_col12\" class=\"data row15 col12\" >0.000433</td>\n",
       "      <td id=\"T_9e5c5_row15_col13\" class=\"data row15 col13\" >0.002195</td>\n",
       "      <td id=\"T_9e5c5_row15_col14\" class=\"data row15 col14\" >0.015318</td>\n",
       "      <td id=\"T_9e5c5_row15_col15\" class=\"data row15 col15\" >1.000000</td>\n",
       "      <td id=\"T_9e5c5_row15_col16\" class=\"data row15 col16\" >-0.021314</td>\n",
       "      <td id=\"T_9e5c5_row15_col17\" class=\"data row15 col17\" >0.020258</td>\n",
       "      <td id=\"T_9e5c5_row15_col18\" class=\"data row15 col18\" >-0.009289</td>\n",
       "      <td id=\"T_9e5c5_row15_col19\" class=\"data row15 col19\" >0.000770</td>\n",
       "    </tr>\n",
       "    <tr>\n",
       "      <th id=\"T_9e5c5_level0_row16\" class=\"row_heading level0 row16\" >account_effect</th>\n",
       "      <td id=\"T_9e5c5_row16_col0\" class=\"data row16 col0\" >-0.194523</td>\n",
       "      <td id=\"T_9e5c5_row16_col1\" class=\"data row16 col1\" >0.852383</td>\n",
       "      <td id=\"T_9e5c5_row16_col2\" class=\"data row16 col2\" >0.304983</td>\n",
       "      <td id=\"T_9e5c5_row16_col3\" class=\"data row16 col3\" >0.309812</td>\n",
       "      <td id=\"T_9e5c5_row16_col4\" class=\"data row16 col4\" >0.011282</td>\n",
       "      <td id=\"T_9e5c5_row16_col5\" class=\"data row16 col5\" >0.009728</td>\n",
       "      <td id=\"T_9e5c5_row16_col6\" class=\"data row16 col6\" >nan</td>\n",
       "      <td id=\"T_9e5c5_row16_col7\" class=\"data row16 col7\" >0.304983</td>\n",
       "      <td id=\"T_9e5c5_row16_col8\" class=\"data row16 col8\" >-0.051470</td>\n",
       "      <td id=\"T_9e5c5_row16_col9\" class=\"data row16 col9\" >-0.143789</td>\n",
       "      <td id=\"T_9e5c5_row16_col10\" class=\"data row16 col10\" >0.001543</td>\n",
       "      <td id=\"T_9e5c5_row16_col11\" class=\"data row16 col11\" >0.003956</td>\n",
       "      <td id=\"T_9e5c5_row16_col12\" class=\"data row16 col12\" >-0.011009</td>\n",
       "      <td id=\"T_9e5c5_row16_col13\" class=\"data row16 col13\" >-0.001327</td>\n",
       "      <td id=\"T_9e5c5_row16_col14\" class=\"data row16 col14\" >-0.040883</td>\n",
       "      <td id=\"T_9e5c5_row16_col15\" class=\"data row16 col15\" >-0.021314</td>\n",
       "      <td id=\"T_9e5c5_row16_col16\" class=\"data row16 col16\" >1.000000</td>\n",
       "      <td id=\"T_9e5c5_row16_col17\" class=\"data row16 col17\" >0.031858</td>\n",
       "      <td id=\"T_9e5c5_row16_col18\" class=\"data row16 col18\" >-0.006290</td>\n",
       "      <td id=\"T_9e5c5_row16_col19\" class=\"data row16 col19\" >-0.016949</td>\n",
       "    </tr>\n",
       "    <tr>\n",
       "      <th id=\"T_9e5c5_level0_row17\" class=\"row_heading level0 row17\" >Type_cate</th>\n",
       "      <td id=\"T_9e5c5_row17_col0\" class=\"data row17 col0\" >0.059954</td>\n",
       "      <td id=\"T_9e5c5_row17_col1\" class=\"data row17 col1\" >-0.013796</td>\n",
       "      <td id=\"T_9e5c5_row17_col2\" class=\"data row17 col2\" >-0.054821</td>\n",
       "      <td id=\"T_9e5c5_row17_col3\" class=\"data row17 col3\" >-0.056701</td>\n",
       "      <td id=\"T_9e5c5_row17_col4\" class=\"data row17 col4\" >0.015042</td>\n",
       "      <td id=\"T_9e5c5_row17_col5\" class=\"data row17 col5\" >0.115375</td>\n",
       "      <td id=\"T_9e5c5_row17_col6\" class=\"data row17 col6\" >nan</td>\n",
       "      <td id=\"T_9e5c5_row17_col7\" class=\"data row17 col7\" >-0.054821</td>\n",
       "      <td id=\"T_9e5c5_row17_col8\" class=\"data row17 col8\" >0.077646</td>\n",
       "      <td id=\"T_9e5c5_row17_col9\" class=\"data row17 col9\" >-0.143665</td>\n",
       "      <td id=\"T_9e5c5_row17_col10\" class=\"data row17 col10\" >-0.014936</td>\n",
       "      <td id=\"T_9e5c5_row17_col11\" class=\"data row17 col11\" >-0.008375</td>\n",
       "      <td id=\"T_9e5c5_row17_col12\" class=\"data row17 col12\" >0.011187</td>\n",
       "      <td id=\"T_9e5c5_row17_col13\" class=\"data row17 col13\" >-0.001146</td>\n",
       "      <td id=\"T_9e5c5_row17_col14\" class=\"data row17 col14\" >-0.128230</td>\n",
       "      <td id=\"T_9e5c5_row17_col15\" class=\"data row17 col15\" >0.020258</td>\n",
       "      <td id=\"T_9e5c5_row17_col16\" class=\"data row17 col16\" >0.031858</td>\n",
       "      <td id=\"T_9e5c5_row17_col17\" class=\"data row17 col17\" >1.000000</td>\n",
       "      <td id=\"T_9e5c5_row17_col18\" class=\"data row17 col18\" >-0.056023</td>\n",
       "      <td id=\"T_9e5c5_row17_col19\" class=\"data row17 col19\" >-0.053267</td>\n",
       "    </tr>\n",
       "    <tr>\n",
       "      <th id=\"T_9e5c5_level0_row18\" class=\"row_heading level0 row18\" >Description_sentiment_score</th>\n",
       "      <td id=\"T_9e5c5_row18_col0\" class=\"data row18 col0\" >0.002213</td>\n",
       "      <td id=\"T_9e5c5_row18_col1\" class=\"data row18 col1\" >0.001390</td>\n",
       "      <td id=\"T_9e5c5_row18_col2\" class=\"data row18 col2\" >-0.006757</td>\n",
       "      <td id=\"T_9e5c5_row18_col3\" class=\"data row18 col3\" >-0.007076</td>\n",
       "      <td id=\"T_9e5c5_row18_col4\" class=\"data row18 col4\" >0.003328</td>\n",
       "      <td id=\"T_9e5c5_row18_col5\" class=\"data row18 col5\" >-0.005170</td>\n",
       "      <td id=\"T_9e5c5_row18_col6\" class=\"data row18 col6\" >nan</td>\n",
       "      <td id=\"T_9e5c5_row18_col7\" class=\"data row18 col7\" >-0.006757</td>\n",
       "      <td id=\"T_9e5c5_row18_col8\" class=\"data row18 col8\" >0.006280</td>\n",
       "      <td id=\"T_9e5c5_row18_col9\" class=\"data row18 col9\" >0.020541</td>\n",
       "      <td id=\"T_9e5c5_row18_col10\" class=\"data row18 col10\" >0.006794</td>\n",
       "      <td id=\"T_9e5c5_row18_col11\" class=\"data row18 col11\" >0.014484</td>\n",
       "      <td id=\"T_9e5c5_row18_col12\" class=\"data row18 col12\" >-0.011487</td>\n",
       "      <td id=\"T_9e5c5_row18_col13\" class=\"data row18 col13\" >0.002730</td>\n",
       "      <td id=\"T_9e5c5_row18_col14\" class=\"data row18 col14\" >0.073684</td>\n",
       "      <td id=\"T_9e5c5_row18_col15\" class=\"data row18 col15\" >-0.009289</td>\n",
       "      <td id=\"T_9e5c5_row18_col16\" class=\"data row18 col16\" >-0.006290</td>\n",
       "      <td id=\"T_9e5c5_row18_col17\" class=\"data row18 col17\" >-0.056023</td>\n",
       "      <td id=\"T_9e5c5_row18_col18\" class=\"data row18 col18\" >1.000000</td>\n",
       "      <td id=\"T_9e5c5_row18_col19\" class=\"data row18 col19\" >0.578152</td>\n",
       "    </tr>\n",
       "    <tr>\n",
       "      <th id=\"T_9e5c5_level0_row19\" class=\"row_heading level0 row19\" >Description_subjective_score</th>\n",
       "      <td id=\"T_9e5c5_row19_col0\" class=\"data row19 col0\" >-0.000421</td>\n",
       "      <td id=\"T_9e5c5_row19_col1\" class=\"data row19 col1\" >0.001226</td>\n",
       "      <td id=\"T_9e5c5_row19_col2\" class=\"data row19 col2\" >-0.007025</td>\n",
       "      <td id=\"T_9e5c5_row19_col3\" class=\"data row19 col3\" >-0.008413</td>\n",
       "      <td id=\"T_9e5c5_row19_col4\" class=\"data row19 col4\" >0.021258</td>\n",
       "      <td id=\"T_9e5c5_row19_col5\" class=\"data row19 col5\" >-0.000515</td>\n",
       "      <td id=\"T_9e5c5_row19_col6\" class=\"data row19 col6\" >nan</td>\n",
       "      <td id=\"T_9e5c5_row19_col7\" class=\"data row19 col7\" >-0.007025</td>\n",
       "      <td id=\"T_9e5c5_row19_col8\" class=\"data row19 col8\" >0.016041</td>\n",
       "      <td id=\"T_9e5c5_row19_col9\" class=\"data row19 col9\" >0.050835</td>\n",
       "      <td id=\"T_9e5c5_row19_col10\" class=\"data row19 col10\" >0.003038</td>\n",
       "      <td id=\"T_9e5c5_row19_col11\" class=\"data row19 col11\" >0.001676</td>\n",
       "      <td id=\"T_9e5c5_row19_col12\" class=\"data row19 col12\" >-0.008667</td>\n",
       "      <td id=\"T_9e5c5_row19_col13\" class=\"data row19 col13\" >0.005565</td>\n",
       "      <td id=\"T_9e5c5_row19_col14\" class=\"data row19 col14\" >0.208644</td>\n",
       "      <td id=\"T_9e5c5_row19_col15\" class=\"data row19 col15\" >0.000770</td>\n",
       "      <td id=\"T_9e5c5_row19_col16\" class=\"data row19 col16\" >-0.016949</td>\n",
       "      <td id=\"T_9e5c5_row19_col17\" class=\"data row19 col17\" >-0.053267</td>\n",
       "      <td id=\"T_9e5c5_row19_col18\" class=\"data row19 col18\" >0.578152</td>\n",
       "      <td id=\"T_9e5c5_row19_col19\" class=\"data row19 col19\" >1.000000</td>\n",
       "    </tr>\n",
       "  </tbody>\n",
       "</table>\n"
      ],
      "text/plain": [
       "<pandas.io.formats.style.Styler at 0x7feeed5f6150>"
      ]
     },
     "execution_count": 6,
     "metadata": {},
     "output_type": "execute_result"
    }
   ],
   "source": [
    "corr = transformed_instagram_data.corr()\n",
    "corr.style.background_gradient(cmap='coolwarm')"
   ]
  },
  {
   "cell_type": "markdown",
   "id": "f26cf3fe-2958-48ae-b8c3-48eede9f7341",
   "metadata": {},
   "source": [
    "With this matrix we can throw away highly correlated variables."
   ]
  },
  {
   "cell_type": "code",
   "execution_count": 15,
   "id": "b5514267-a661-44ad-ad09-c02c44c7d7e8",
   "metadata": {},
   "outputs": [],
   "source": [
    "ins_account_input = transformed_instagram_data.drop(['Account','User Name','Post Created','Type',\n",
    "                                                     'Total Interactions (weighted on likes 1x Comments 1x)',\n",
    "                                                     'Description', 'Image Text','Description_sentiment',\n",
    "                                                     'Description_subjective','Like and View Counts Disabled'],axis=1)"
   ]
  },
  {
   "cell_type": "code",
   "execution_count": 16,
   "id": "9728b278-ff33-425e-a29c-f78a5f6779e8",
   "metadata": {},
   "outputs": [],
   "source": [
    "ins_account_input = ins_account_input.set_index('df_index')"
   ]
  },
  {
   "cell_type": "code",
   "execution_count": 28,
   "id": "44b612e9-3a8c-4cd4-8289-4c91563bcbc2",
   "metadata": {},
   "outputs": [
    {
     "data": {
      "text/plain": [
       "(256140, 18)"
      ]
     },
     "execution_count": 28,
     "metadata": {},
     "output_type": "execute_result"
    }
   ],
   "source": [
    "ins_account_input.shape"
   ]
  },
  {
   "cell_type": "markdown",
   "id": "6b52f2c5-129c-4ca5-b81d-c2165335a4cd",
   "metadata": {},
   "source": [
    "## Preprocessing before modeling"
   ]
  },
  {
   "cell_type": "code",
   "execution_count": 21,
   "id": "645f3aa2-1a96-4486-b41f-995983a8a94a",
   "metadata": {},
   "outputs": [
    {
     "name": "stdout",
     "output_type": "stream",
     "text": [
      "2022-04-04 15:29:29,414 INFO sqlalchemy.engine.Engine SELECT COUNT(*) FROM information_schema.tables WHERE table_schema = %(table_schema)s AND table_name = %(table_name)s\n",
      "2022-04-04 15:29:29,415 INFO sqlalchemy.engine.Engine [cached since 3472s ago] {'table_schema': 'instagram_data', 'table_name': 'select * from ins_text_data'}\n",
      "2022-04-04 15:29:29,542 INFO sqlalchemy.engine.Engine select * from ins_text_data\n",
      "2022-04-04 15:29:29,543 INFO sqlalchemy.engine.Engine [raw sql] {}\n"
     ]
    }
   ],
   "source": [
    "text_data = pd.read_sql('select * from ins_text_data',con=connection_engine)\n",
    "text_data = text_data.set_index('index')"
   ]
  },
  {
   "cell_type": "code",
   "execution_count": 22,
   "id": "a73e314d-6187-498f-ae71-36f4eee67c5c",
   "metadata": {},
   "outputs": [],
   "source": [
    "complete_data = ins_account_input.join(text_data)"
   ]
  },
  {
   "cell_type": "code",
   "execution_count": 27,
   "id": "0a14da00-8c74-45da-951a-3f3e678696d2",
   "metadata": {},
   "outputs": [
    {
     "data": {
      "text/plain": [
       "(256140, 111)"
      ]
     },
     "execution_count": 27,
     "metadata": {},
     "output_type": "execute_result"
    }
   ],
   "source": [
    "complete_data.shape"
   ]
  },
  {
   "cell_type": "markdown",
   "id": "9c2282e5-f8f9-4ca2-97d7-183e6679242f",
   "metadata": {},
   "source": [
    "### Label Encoding for encoded datetime"
   ]
  },
  {
   "cell_type": "code",
   "execution_count": 31,
   "id": "32baecf3-dc03-4d3e-bdfc-0165de4ec117",
   "metadata": {},
   "outputs": [],
   "source": [
    "complete_data['PostCreatedYear'] = complete_data['PostCreatedYear'].astype(\"category\").cat.codes\n",
    "complete_data['PostCreatedMonth'] = complete_data['PostCreatedMonth'].astype(\"category\").cat.codes\n",
    "complete_data['PostCreatedDay'] = complete_data['PostCreatedDay'].astype(\"category\").cat.codes\n",
    "complete_data['PostCreatedHour'] = complete_data['PostCreatedHour'].astype(\"category\").cat.codes"
   ]
  },
  {
   "cell_type": "markdown",
   "id": "ea493ea7-c52e-49f7-b0ef-89083c9a9f4c",
   "metadata": {},
   "source": [
    "### Train Test split"
   ]
  },
  {
   "cell_type": "code",
   "execution_count": 32,
   "id": "1192726a-e7dc-4ef7-923f-db339e0624ef",
   "metadata": {},
   "outputs": [
    {
     "data": {
      "text/plain": [
       "array(['test', 'train'], dtype=object)"
      ]
     },
     "execution_count": 32,
     "metadata": {},
     "output_type": "execute_result"
    }
   ],
   "source": [
    "np.unique(complete_data['cvfold'])"
   ]
  },
  {
   "cell_type": "code",
   "execution_count": 33,
   "id": "e83bc71c-6aa0-4db7-8172-cc04d31c7630",
   "metadata": {},
   "outputs": [],
   "source": [
    "train_set = complete_data[complete_data.cvfold=='train']\n",
    "test_set = complete_data[complete_data.cvfold=='test']"
   ]
  },
  {
   "cell_type": "code",
   "execution_count": 34,
   "id": "d9cf0e05-84cc-42b0-abc9-b8d108772ac3",
   "metadata": {},
   "outputs": [
    {
     "data": {
      "text/html": [
       "<div>\n",
       "<style scoped>\n",
       "    .dataframe tbody tr th:only-of-type {\n",
       "        vertical-align: middle;\n",
       "    }\n",
       "\n",
       "    .dataframe tbody tr th {\n",
       "        vertical-align: top;\n",
       "    }\n",
       "\n",
       "    .dataframe thead th {\n",
       "        text-align: right;\n",
       "    }\n",
       "</style>\n",
       "<table border=\"1\" class=\"dataframe\">\n",
       "  <thead>\n",
       "    <tr style=\"text-align: right;\">\n",
       "      <th></th>\n",
       "      <th>Followers at Posting</th>\n",
       "      <th>Total Interactions</th>\n",
       "      <th>Likes</th>\n",
       "      <th>Comments</th>\n",
       "      <th>Views</th>\n",
       "      <th>Overperforming Score</th>\n",
       "      <th>PostCreatedYear</th>\n",
       "      <th>PostCreatedMonth</th>\n",
       "      <th>PostCreatedDay</th>\n",
       "      <th>PostCreatedHour</th>\n",
       "      <th>...</th>\n",
       "      <th>Comma</th>\n",
       "      <th>Colon</th>\n",
       "      <th>SemiC</th>\n",
       "      <th>QMark</th>\n",
       "      <th>Exclam</th>\n",
       "      <th>Dash</th>\n",
       "      <th>Quote</th>\n",
       "      <th>Apostro</th>\n",
       "      <th>Parenth</th>\n",
       "      <th>OtherP</th>\n",
       "    </tr>\n",
       "    <tr>\n",
       "      <th>df_index</th>\n",
       "      <th></th>\n",
       "      <th></th>\n",
       "      <th></th>\n",
       "      <th></th>\n",
       "      <th></th>\n",
       "      <th></th>\n",
       "      <th></th>\n",
       "      <th></th>\n",
       "      <th></th>\n",
       "      <th></th>\n",
       "      <th></th>\n",
       "      <th></th>\n",
       "      <th></th>\n",
       "      <th></th>\n",
       "      <th></th>\n",
       "      <th></th>\n",
       "      <th></th>\n",
       "      <th></th>\n",
       "      <th></th>\n",
       "      <th></th>\n",
       "      <th></th>\n",
       "    </tr>\n",
       "  </thead>\n",
       "  <tbody>\n",
       "    <tr>\n",
       "      <th>0</th>\n",
       "      <td>404268.0</td>\n",
       "      <td>104703</td>\n",
       "      <td>104238</td>\n",
       "      <td>465</td>\n",
       "      <td>0</td>\n",
       "      <td>3.29</td>\n",
       "      <td>7</td>\n",
       "      <td>9</td>\n",
       "      <td>6</td>\n",
       "      <td>13</td>\n",
       "      <td>...</td>\n",
       "      <td>0.00</td>\n",
       "      <td>0.0</td>\n",
       "      <td>0.0</td>\n",
       "      <td>0.0</td>\n",
       "      <td>16.67</td>\n",
       "      <td>0.00</td>\n",
       "      <td>0.00</td>\n",
       "      <td>8.33</td>\n",
       "      <td>16.67</td>\n",
       "      <td>16.67</td>\n",
       "    </tr>\n",
       "    <tr>\n",
       "      <th>1</th>\n",
       "      <td>490753.0</td>\n",
       "      <td>102836</td>\n",
       "      <td>102426</td>\n",
       "      <td>410</td>\n",
       "      <td>0</td>\n",
       "      <td>2.74</td>\n",
       "      <td>7</td>\n",
       "      <td>10</td>\n",
       "      <td>0</td>\n",
       "      <td>11</td>\n",
       "      <td>...</td>\n",
       "      <td>0.00</td>\n",
       "      <td>0.0</td>\n",
       "      <td>0.0</td>\n",
       "      <td>0.0</td>\n",
       "      <td>0.00</td>\n",
       "      <td>0.00</td>\n",
       "      <td>0.00</td>\n",
       "      <td>0.00</td>\n",
       "      <td>0.00</td>\n",
       "      <td>33.33</td>\n",
       "    </tr>\n",
       "    <tr>\n",
       "      <th>2</th>\n",
       "      <td>472941.0</td>\n",
       "      <td>101672</td>\n",
       "      <td>101230</td>\n",
       "      <td>442</td>\n",
       "      <td>0</td>\n",
       "      <td>3.85</td>\n",
       "      <td>7</td>\n",
       "      <td>10</td>\n",
       "      <td>3</td>\n",
       "      <td>17</td>\n",
       "      <td>...</td>\n",
       "      <td>3.85</td>\n",
       "      <td>0.0</td>\n",
       "      <td>0.0</td>\n",
       "      <td>0.0</td>\n",
       "      <td>3.85</td>\n",
       "      <td>0.00</td>\n",
       "      <td>0.00</td>\n",
       "      <td>7.69</td>\n",
       "      <td>0.00</td>\n",
       "      <td>3.85</td>\n",
       "    </tr>\n",
       "    <tr>\n",
       "      <th>3</th>\n",
       "      <td>333044.0</td>\n",
       "      <td>99049</td>\n",
       "      <td>97849</td>\n",
       "      <td>1200</td>\n",
       "      <td>0</td>\n",
       "      <td>4.53</td>\n",
       "      <td>7</td>\n",
       "      <td>7</td>\n",
       "      <td>4</td>\n",
       "      <td>16</td>\n",
       "      <td>...</td>\n",
       "      <td>0.00</td>\n",
       "      <td>0.0</td>\n",
       "      <td>0.0</td>\n",
       "      <td>0.0</td>\n",
       "      <td>0.00</td>\n",
       "      <td>0.00</td>\n",
       "      <td>0.00</td>\n",
       "      <td>0.00</td>\n",
       "      <td>0.00</td>\n",
       "      <td>66.67</td>\n",
       "    </tr>\n",
       "    <tr>\n",
       "      <th>4</th>\n",
       "      <td>533227.0</td>\n",
       "      <td>98218</td>\n",
       "      <td>97230</td>\n",
       "      <td>988</td>\n",
       "      <td>0</td>\n",
       "      <td>2.40</td>\n",
       "      <td>7</td>\n",
       "      <td>11</td>\n",
       "      <td>4</td>\n",
       "      <td>15</td>\n",
       "      <td>...</td>\n",
       "      <td>0.00</td>\n",
       "      <td>0.0</td>\n",
       "      <td>0.0</td>\n",
       "      <td>0.0</td>\n",
       "      <td>4.55</td>\n",
       "      <td>0.00</td>\n",
       "      <td>0.00</td>\n",
       "      <td>4.55</td>\n",
       "      <td>0.00</td>\n",
       "      <td>9.09</td>\n",
       "    </tr>\n",
       "    <tr>\n",
       "      <th>...</th>\n",
       "      <td>...</td>\n",
       "      <td>...</td>\n",
       "      <td>...</td>\n",
       "      <td>...</td>\n",
       "      <td>...</td>\n",
       "      <td>...</td>\n",
       "      <td>...</td>\n",
       "      <td>...</td>\n",
       "      <td>...</td>\n",
       "      <td>...</td>\n",
       "      <td>...</td>\n",
       "      <td>...</td>\n",
       "      <td>...</td>\n",
       "      <td>...</td>\n",
       "      <td>...</td>\n",
       "      <td>...</td>\n",
       "      <td>...</td>\n",
       "      <td>...</td>\n",
       "      <td>...</td>\n",
       "      <td>...</td>\n",
       "      <td>...</td>\n",
       "    </tr>\n",
       "    <tr>\n",
       "      <th>256135</th>\n",
       "      <td>29898.0</td>\n",
       "      <td>747</td>\n",
       "      <td>738</td>\n",
       "      <td>9</td>\n",
       "      <td>0</td>\n",
       "      <td>1.39</td>\n",
       "      <td>5</td>\n",
       "      <td>7</td>\n",
       "      <td>6</td>\n",
       "      <td>1</td>\n",
       "      <td>...</td>\n",
       "      <td>7.95</td>\n",
       "      <td>0.0</td>\n",
       "      <td>0.0</td>\n",
       "      <td>0.0</td>\n",
       "      <td>2.27</td>\n",
       "      <td>2.27</td>\n",
       "      <td>1.14</td>\n",
       "      <td>0.00</td>\n",
       "      <td>0.00</td>\n",
       "      <td>22.73</td>\n",
       "    </tr>\n",
       "    <tr>\n",
       "      <th>256136</th>\n",
       "      <td>39603.0</td>\n",
       "      <td>747</td>\n",
       "      <td>729</td>\n",
       "      <td>18</td>\n",
       "      <td>0</td>\n",
       "      <td>-1.22</td>\n",
       "      <td>3</td>\n",
       "      <td>7</td>\n",
       "      <td>4</td>\n",
       "      <td>18</td>\n",
       "      <td>...</td>\n",
       "      <td>0.00</td>\n",
       "      <td>0.0</td>\n",
       "      <td>0.0</td>\n",
       "      <td>0.0</td>\n",
       "      <td>0.00</td>\n",
       "      <td>0.00</td>\n",
       "      <td>0.00</td>\n",
       "      <td>0.00</td>\n",
       "      <td>0.00</td>\n",
       "      <td>75.00</td>\n",
       "    </tr>\n",
       "    <tr>\n",
       "      <th>256137</th>\n",
       "      <td>12670.0</td>\n",
       "      <td>747</td>\n",
       "      <td>731</td>\n",
       "      <td>16</td>\n",
       "      <td>0</td>\n",
       "      <td>1.36</td>\n",
       "      <td>5</td>\n",
       "      <td>2</td>\n",
       "      <td>3</td>\n",
       "      <td>10</td>\n",
       "      <td>...</td>\n",
       "      <td>0.00</td>\n",
       "      <td>0.0</td>\n",
       "      <td>0.0</td>\n",
       "      <td>0.0</td>\n",
       "      <td>0.00</td>\n",
       "      <td>0.00</td>\n",
       "      <td>0.00</td>\n",
       "      <td>0.00</td>\n",
       "      <td>0.00</td>\n",
       "      <td>52.94</td>\n",
       "    </tr>\n",
       "    <tr>\n",
       "      <th>256138</th>\n",
       "      <td>44012.0</td>\n",
       "      <td>747</td>\n",
       "      <td>734</td>\n",
       "      <td>13</td>\n",
       "      <td>0</td>\n",
       "      <td>2.52</td>\n",
       "      <td>3</td>\n",
       "      <td>10</td>\n",
       "      <td>5</td>\n",
       "      <td>8</td>\n",
       "      <td>...</td>\n",
       "      <td>0.00</td>\n",
       "      <td>0.0</td>\n",
       "      <td>0.0</td>\n",
       "      <td>0.0</td>\n",
       "      <td>0.00</td>\n",
       "      <td>0.00</td>\n",
       "      <td>0.00</td>\n",
       "      <td>0.00</td>\n",
       "      <td>0.00</td>\n",
       "      <td>12.50</td>\n",
       "    </tr>\n",
       "    <tr>\n",
       "      <th>256139</th>\n",
       "      <td>65621.0</td>\n",
       "      <td>746</td>\n",
       "      <td>738</td>\n",
       "      <td>8</td>\n",
       "      <td>0</td>\n",
       "      <td>-1.46</td>\n",
       "      <td>3</td>\n",
       "      <td>7</td>\n",
       "      <td>5</td>\n",
       "      <td>15</td>\n",
       "      <td>...</td>\n",
       "      <td>0.00</td>\n",
       "      <td>0.0</td>\n",
       "      <td>0.0</td>\n",
       "      <td>0.0</td>\n",
       "      <td>16.67</td>\n",
       "      <td>0.00</td>\n",
       "      <td>0.00</td>\n",
       "      <td>0.00</td>\n",
       "      <td>0.00</td>\n",
       "      <td>66.67</td>\n",
       "    </tr>\n",
       "  </tbody>\n",
       "</table>\n",
       "<p>196891 rows × 111 columns</p>\n",
       "</div>"
      ],
      "text/plain": [
       "          Followers at Posting  Total Interactions   Likes  Comments  Views  \\\n",
       "df_index                                                                      \n",
       "0                     404268.0              104703  104238       465      0   \n",
       "1                     490753.0              102836  102426       410      0   \n",
       "2                     472941.0              101672  101230       442      0   \n",
       "3                     333044.0               99049   97849      1200      0   \n",
       "4                     533227.0               98218   97230       988      0   \n",
       "...                        ...                 ...     ...       ...    ...   \n",
       "256135                 29898.0                 747     738         9      0   \n",
       "256136                 39603.0                 747     729        18      0   \n",
       "256137                 12670.0                 747     731        16      0   \n",
       "256138                 44012.0                 747     734        13      0   \n",
       "256139                 65621.0                 746     738         8      0   \n",
       "\n",
       "          Overperforming Score  PostCreatedYear  PostCreatedMonth  \\\n",
       "df_index                                                            \n",
       "0                         3.29                7                 9   \n",
       "1                         2.74                7                10   \n",
       "2                         3.85                7                10   \n",
       "3                         4.53                7                 7   \n",
       "4                         2.40                7                11   \n",
       "...                        ...              ...               ...   \n",
       "256135                    1.39                5                 7   \n",
       "256136                   -1.22                3                 7   \n",
       "256137                    1.36                5                 2   \n",
       "256138                    2.52                3                10   \n",
       "256139                   -1.46                3                 7   \n",
       "\n",
       "          PostCreatedDay  PostCreatedHour  ...  Comma  Colon  SemiC  QMark  \\\n",
       "df_index                                   ...                               \n",
       "0                      6               13  ...   0.00    0.0    0.0    0.0   \n",
       "1                      0               11  ...   0.00    0.0    0.0    0.0   \n",
       "2                      3               17  ...   3.85    0.0    0.0    0.0   \n",
       "3                      4               16  ...   0.00    0.0    0.0    0.0   \n",
       "4                      4               15  ...   0.00    0.0    0.0    0.0   \n",
       "...                  ...              ...  ...    ...    ...    ...    ...   \n",
       "256135                 6                1  ...   7.95    0.0    0.0    0.0   \n",
       "256136                 4               18  ...   0.00    0.0    0.0    0.0   \n",
       "256137                 3               10  ...   0.00    0.0    0.0    0.0   \n",
       "256138                 5                8  ...   0.00    0.0    0.0    0.0   \n",
       "256139                 5               15  ...   0.00    0.0    0.0    0.0   \n",
       "\n",
       "          Exclam  Dash  Quote Apostro  Parenth  OtherP  \n",
       "df_index                                                \n",
       "0          16.67  0.00   0.00    8.33    16.67   16.67  \n",
       "1           0.00  0.00   0.00    0.00     0.00   33.33  \n",
       "2           3.85  0.00   0.00    7.69     0.00    3.85  \n",
       "3           0.00  0.00   0.00    0.00     0.00   66.67  \n",
       "4           4.55  0.00   0.00    4.55     0.00    9.09  \n",
       "...          ...   ...    ...     ...      ...     ...  \n",
       "256135      2.27  2.27   1.14    0.00     0.00   22.73  \n",
       "256136      0.00  0.00   0.00    0.00     0.00   75.00  \n",
       "256137      0.00  0.00   0.00    0.00     0.00   52.94  \n",
       "256138      0.00  0.00   0.00    0.00     0.00   12.50  \n",
       "256139     16.67  0.00   0.00    0.00     0.00   66.67  \n",
       "\n",
       "[196891 rows x 111 columns]"
      ]
     },
     "execution_count": 34,
     "metadata": {},
     "output_type": "execute_result"
    }
   ],
   "source": [
    "train_set"
   ]
  },
  {
   "cell_type": "code",
   "execution_count": 41,
   "id": "bc5afa50-b851-4e62-8794-44f7d23d03b6",
   "metadata": {},
   "outputs": [],
   "source": [
    "X_train = train_set.drop(['Followers at Posting','cvfold'],axis=1)\n",
    "y_train = train_set['Followers at Posting']\n",
    "X_test = test_set.drop(['Followers at Posting','cvfold'],axis=1)\n",
    "y_test = test_set['Followers at Posting']"
   ]
  },
  {
   "cell_type": "markdown",
   "id": "713b0d2c-5ad3-4067-adfa-21458e2bc2ec",
   "metadata": {},
   "source": [
    "### Feature seletion with Random Forest"
   ]
  },
  {
   "cell_type": "code",
   "execution_count": 42,
   "id": "8856ac83-b796-46e9-a90d-6698fbd2fb73",
   "metadata": {},
   "outputs": [
    {
     "data": {
      "text/plain": [
       "SelectFromModel(estimator=RandomForestRegressor(n_estimators=500))"
      ]
     },
     "execution_count": 42,
     "metadata": {},
     "output_type": "execute_result"
    }
   ],
   "source": [
    "sel = SelectFromModel(RandomForestRegressor(n_estimators = 500))\n",
    "sel.fit(X_train, y_train)"
   ]
  },
  {
   "cell_type": "code",
   "execution_count": 47,
   "id": "f04f9bbd-a16e-4726-adab-743c37245bb3",
   "metadata": {},
   "outputs": [
    {
     "data": {
      "text/plain": [
       "(196891, 109)"
      ]
     },
     "execution_count": 47,
     "metadata": {},
     "output_type": "execute_result"
    }
   ],
   "source": [
    "X_train.shape"
   ]
  },
  {
   "cell_type": "code",
   "execution_count": 45,
   "id": "0b010aef-95a4-4a45-a728-e2638ef3de6b",
   "metadata": {},
   "outputs": [
    {
     "data": {
      "text/plain": [
       "4"
      ]
     },
     "execution_count": 45,
     "metadata": {},
     "output_type": "execute_result"
    }
   ],
   "source": [
    "selected_feat= X_train.columns[(sel.get_support())]\n",
    "len(selected_feat)"
   ]
  },
  {
   "cell_type": "code",
   "execution_count": 46,
   "id": "22cb2168-ddee-430a-a7e7-698efeda7a99",
   "metadata": {},
   "outputs": [
    {
     "data": {
      "text/plain": [
       "Index(['Overperforming Score', 'PostCreatedYear', 'PostCreatedMonth',\n",
       "       'account_effect'],\n",
       "      dtype='object')"
      ]
     },
     "execution_count": 46,
     "metadata": {},
     "output_type": "execute_result"
    }
   ],
   "source": [
    "selected_feat"
   ]
  },
  {
   "cell_type": "markdown",
   "id": "e94d1404-b027-4089-a66f-9f7afc8baa7b",
   "metadata": {},
   "source": [
    "### Anormaly Detection"
   ]
  },
  {
   "cell_type": "code",
   "execution_count": null,
   "id": "16f7bd2d-26b1-478a-ae94-d982656c2cfd",
   "metadata": {},
   "outputs": [],
   "source": []
  },
  {
   "cell_type": "markdown",
   "id": "96d9d2d4-cf7f-479c-8494-d5d8842d46b8",
   "metadata": {},
   "source": [
    "### Transformation"
   ]
  },
  {
   "cell_type": "code",
   "execution_count": null,
   "id": "a75b737e-9a1f-473f-9d84-98e32a19e9ce",
   "metadata": {},
   "outputs": [],
   "source": []
  },
  {
   "cell_type": "markdown",
   "id": "43d9df08-6308-4658-908b-3c92af3fafc2",
   "metadata": {},
   "source": [
    "### Baseline model: Linear Regression"
   ]
  },
  {
   "cell_type": "code",
   "execution_count": null,
   "id": "d8286fb1-b9f6-48df-8d37-a2c7cf7a6ab6",
   "metadata": {},
   "outputs": [],
   "source": [
    "X_train_lm = X_train_linear_base[selected_feat]\n",
    "X_train_lm_cons = sm.add_constant(X_train_lm)\n",
    "X_test_lm = X_test_linear_base[selected_feat]\n",
    "base_linear = sm.OLS(y_train_linear_base, X_train_lm_cons)\n",
    "base_linear_fitted = base_linear.fit()\n",
    "print(base_linear_fitted.summary())"
   ]
  },
  {
   "cell_type": "code",
   "execution_count": null,
   "id": "d4fc5514-75c8-41d7-b1ac-d1199d883b89",
   "metadata": {},
   "outputs": [],
   "source": []
  }
 ],
 "metadata": {
  "environment": {
   "kernel": "conda-root-py",
   "name": "tf2-gpu.2-8.m91",
   "type": "gcloud",
   "uri": "gcr.io/deeplearning-platform-release/tf2-gpu.2-8:m91"
  },
  "kernelspec": {
   "display_name": "Python [conda env:root] *",
   "language": "python",
   "name": "conda-root-py"
  },
  "language_info": {
   "codemirror_mode": {
    "name": "ipython",
    "version": 3
   },
   "file_extension": ".py",
   "mimetype": "text/x-python",
   "name": "python",
   "nbconvert_exporter": "python",
   "pygments_lexer": "ipython3",
   "version": "3.7.12"
  }
 },
 "nbformat": 4,
 "nbformat_minor": 5
}
